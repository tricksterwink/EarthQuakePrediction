{
  "nbformat": 4,
  "nbformat_minor": 0,
  "metadata": {
    "colab": {
      "name": "Earthquake Prediction.ipynb",
      "provenance": [],
      "collapsed_sections": [],
      "include_colab_link": true
    },
    "kernelspec": {
      "name": "python3",
      "display_name": "Python 3"
    },
    "language_info": {
      "name": "python"
    },
    "widgets": {
      "application/vnd.jupyter.widget-state+json": {
        "413b9e49fe5e4a7ca3f6dcd152b06bb2": {
          "model_module": "catboost-widget",
          "model_name": "CatboostWidgetModel",
          "model_module_version": "^1.0.0",
          "state": {
            "_view_name": "CatboostWidgetView",
            "_dom_classes": [],
            "_model_name": "CatboostWidgetModel",
            "data": {
              "catboost_info": {
                "content": {
                  "data": {
                    "meta": {
                      "name": "experiment",
                      "parameters": "",
                      "test_metrics": [
                        {
                          "best_value": "Min",
                          "name": "MAE"
                        }
                      ],
                      "learn_sets": [
                        "learn"
                      ],
                      "launch_mode": "Train",
                      "learn_metrics": [
                        {
                          "best_value": "Min",
                          "name": "MAE"
                        }
                      ],
                      "iteration_count": 1000,
                      "test_sets": [
                        "test"
                      ]
                    },
                    "iterations": [
                      {
                        "test": [
                          0.06806843263
                        ],
                        "passed_time": 0.2825071604,
                        "iteration": 0,
                        "remaining_time": 282.2246532,
                        "learn": [
                          0.06810310844
                        ]
                      },
                      {
                        "test": [
                          0.06806751775
                        ],
                        "passed_time": 0.4596314275,
                        "iteration": 1,
                        "remaining_time": 229.3560823,
                        "learn": [
                          0.06810236715
                        ]
                      },
                      {
                        "test": [
                          0.0680668042
                        ],
                        "passed_time": 0.6531097257,
                        "iteration": 2,
                        "remaining_time": 217.0501322,
                        "learn": [
                          0.06810167031
                        ]
                      },
                      {
                        "test": [
                          0.06806609239
                        ],
                        "passed_time": 0.8014695776,
                        "iteration": 3,
                        "remaining_time": 199.5659248,
                        "learn": [
                          0.06810104775
                        ]
                      },
                      {
                        "test": [
                          0.068065513
                        ],
                        "passed_time": 1.008832129,
                        "iteration": 4,
                        "remaining_time": 200.7575938,
                        "learn": [
                          0.06809996903
                        ]
                      },
                      {
                        "test": [
                          0.06806515088
                        ],
                        "passed_time": 1.214449153,
                        "iteration": 5,
                        "remaining_time": 201.193743,
                        "learn": [
                          0.06809919467
                        ]
                      },
                      {
                        "test": [
                          0.06806472455
                        ],
                        "passed_time": 1.42405371,
                        "iteration": 6,
                        "remaining_time": 202.0121906,
                        "learn": [
                          0.06809846587
                        ]
                      },
                      {
                        "test": [
                          0.0680641574
                        ],
                        "passed_time": 1.61968195,
                        "iteration": 7,
                        "remaining_time": 200.8405618,
                        "learn": [
                          0.0680980062
                        ]
                      },
                      {
                        "test": [
                          0.06806385242
                        ],
                        "passed_time": 1.785060877,
                        "iteration": 8,
                        "remaining_time": 196.5550366,
                        "learn": [
                          0.06809771388
                        ]
                      },
                      {
                        "test": [
                          0.06806358914
                        ],
                        "passed_time": 1.995300317,
                        "iteration": 9,
                        "remaining_time": 197.5347314,
                        "learn": [
                          0.06809738512
                        ]
                      },
                      {
                        "test": [
                          0.06806339062
                        ],
                        "passed_time": 2.19416574,
                        "iteration": 10,
                        "remaining_time": 197.275447,
                        "learn": [
                          0.06809708758
                        ]
                      },
                      {
                        "test": [
                          0.06806332111
                        ],
                        "passed_time": 2.38029852,
                        "iteration": 11,
                        "remaining_time": 195.9779115,
                        "learn": [
                          0.06809667873
                        ]
                      },
                      {
                        "test": [
                          0.06806299905
                        ],
                        "passed_time": 2.587837731,
                        "iteration": 12,
                        "remaining_time": 196.4766031,
                        "learn": [
                          0.06809623431
                        ]
                      },
                      {
                        "test": [
                          0.06806290845
                        ],
                        "passed_time": 2.736673054,
                        "iteration": 13,
                        "remaining_time": 192.7399737,
                        "learn": [
                          0.06809621333
                        ]
                      },
                      {
                        "test": [
                          0.06806286265
                        ],
                        "passed_time": 2.918506887,
                        "iteration": 14,
                        "remaining_time": 191.6486189,
                        "learn": [
                          0.06809593009
                        ]
                      },
                      {
                        "test": [
                          0.06806273302
                        ],
                        "passed_time": 3.120322829,
                        "iteration": 15,
                        "remaining_time": 191.899854,
                        "learn": [
                          0.06809569617
                        ]
                      },
                      {
                        "test": [
                          0.06806260288
                        ],
                        "passed_time": 3.295946569,
                        "iteration": 16,
                        "remaining_time": 190.5832633,
                        "learn": [
                          0.06809556
                        ]
                      },
                      {
                        "test": [
                          0.06806247494
                        ],
                        "passed_time": 3.502309315,
                        "iteration": 17,
                        "remaining_time": 191.0704304,
                        "learn": [
                          0.06809524751
                        ]
                      },
                      {
                        "test": [
                          0.06806234364
                        ],
                        "passed_time": 3.713010568,
                        "iteration": 18,
                        "remaining_time": 191.7085983,
                        "learn": [
                          0.06809478451
                        ]
                      },
                      {
                        "test": [
                          0.06806229452
                        ],
                        "passed_time": 3.893401518,
                        "iteration": 19,
                        "remaining_time": 190.7766744,
                        "learn": [
                          0.06809466164
                        ]
                      },
                      {
                        "test": [
                          0.0680623323
                        ],
                        "passed_time": 4.094744749,
                        "iteration": 20,
                        "remaining_time": 190.8931004,
                        "learn": [
                          0.06809451165
                        ]
                      },
                      {
                        "test": [
                          0.06806206813
                        ],
                        "passed_time": 4.297723896,
                        "iteration": 21,
                        "remaining_time": 191.0533623,
                        "learn": [
                          0.0680941134
                        ]
                      },
                      {
                        "test": [
                          0.06806199647
                        ],
                        "passed_time": 4.465433711,
                        "iteration": 22,
                        "remaining_time": 189.6838581,
                        "learn": [
                          0.0680940728
                        ]
                      },
                      {
                        "test": [
                          0.06806193022
                        ],
                        "passed_time": 4.656081301,
                        "iteration": 23,
                        "remaining_time": 189.3473062,
                        "learn": [
                          0.06809399001
                        ]
                      },
                      {
                        "test": [
                          0.06806185812
                        ],
                        "passed_time": 4.876006755,
                        "iteration": 24,
                        "remaining_time": 190.1642634,
                        "learn": [
                          0.06809379828
                        ]
                      },
                      {
                        "test": [
                          0.06806179123
                        ],
                        "passed_time": 5.036050352,
                        "iteration": 25,
                        "remaining_time": 188.658194,
                        "learn": [
                          0.06809375711
                        ]
                      },
                      {
                        "test": [
                          0.06806175957
                        ],
                        "passed_time": 5.214862474,
                        "iteration": 26,
                        "remaining_time": 187.9281921,
                        "learn": [
                          0.06809368333
                        ]
                      },
                      {
                        "test": [
                          0.06806171038
                        ],
                        "passed_time": 5.403022791,
                        "iteration": 27,
                        "remaining_time": 187.5620769,
                        "learn": [
                          0.06809351003
                        ]
                      },
                      {
                        "test": [
                          0.06806170519
                        ],
                        "passed_time": 5.605861469,
                        "iteration": 28,
                        "remaining_time": 187.6997064,
                        "learn": [
                          0.06809340588
                        ]
                      },
                      {
                        "test": [
                          0.06806141026
                        ],
                        "passed_time": 5.829481704,
                        "iteration": 29,
                        "remaining_time": 188.4865751,
                        "learn": [
                          0.06809307324
                        ]
                      },
                      {
                        "test": [
                          0.06806139951
                        ],
                        "passed_time": 5.9774811,
                        "iteration": 30,
                        "remaining_time": 186.8444899,
                        "learn": [
                          0.06809306881
                        ]
                      },
                      {
                        "test": [
                          0.06806136797
                        ],
                        "passed_time": 6.183113447,
                        "iteration": 31,
                        "remaining_time": 187.0391818,
                        "learn": [
                          0.0680929045
                        ]
                      },
                      {
                        "test": [
                          0.06806142545
                        ],
                        "passed_time": 6.376136208,
                        "iteration": 32,
                        "remaining_time": 186.8401125,
                        "learn": [
                          0.06809273254
                        ]
                      },
                      {
                        "test": [
                          0.06806140939
                        ],
                        "passed_time": 6.54181703,
                        "iteration": 33,
                        "remaining_time": 185.8645662,
                        "learn": [
                          0.0680927041
                        ]
                      },
                      {
                        "test": [
                          0.06806137829
                        ],
                        "passed_time": 6.746398034,
                        "iteration": 34,
                        "remaining_time": 186.0078315,
                        "learn": [
                          0.06809261923
                        ]
                      },
                      {
                        "test": [
                          0.06806136143
                        ],
                        "passed_time": 6.899610943,
                        "iteration": 35,
                        "remaining_time": 184.7562486,
                        "learn": [
                          0.068092612
                        ]
                      },
                      {
                        "test": [
                          0.06806142969
                        ],
                        "passed_time": 7.086746119,
                        "iteration": 36,
                        "remaining_time": 184.4469328,
                        "learn": [
                          0.06809256655
                        ]
                      },
                      {
                        "test": [
                          0.06806143768
                        ],
                        "passed_time": 7.272967399,
                        "iteration": 37,
                        "remaining_time": 184.1209115,
                        "learn": [
                          0.0680925447
                        ]
                      },
                      {
                        "test": [
                          0.06806149211
                        ],
                        "passed_time": 7.474339052,
                        "iteration": 38,
                        "remaining_time": 184.1753802,
                        "learn": [
                          0.06809203349
                        ]
                      },
                      {
                        "test": [
                          0.0680614819
                        ],
                        "passed_time": 7.681411154,
                        "iteration": 39,
                        "remaining_time": 184.3538677,
                        "learn": [
                          0.06809188872
                        ]
                      },
                      {
                        "test": [
                          0.06806147375
                        ],
                        "passed_time": 7.8725885,
                        "iteration": 40,
                        "remaining_time": 184.1417652,
                        "learn": [
                          0.06809186445
                        ]
                      },
                      {
                        "test": [
                          0.06806146389
                        ],
                        "passed_time": 8.019256746,
                        "iteration": 41,
                        "remaining_time": 182.9154277,
                        "learn": [
                          0.0680918586
                        ]
                      },
                      {
                        "test": [
                          0.06806147972
                        ],
                        "passed_time": 8.226096516,
                        "iteration": 42,
                        "remaining_time": 183.0784736,
                        "learn": [
                          0.06809162242
                        ]
                      },
                      {
                        "test": [
                          0.06806147247
                        ],
                        "passed_time": 8.365606691,
                        "iteration": 43,
                        "remaining_time": 181.7618181,
                        "learn": [
                          0.06809161969
                        ]
                      },
                      {
                        "test": [
                          0.06806138644
                        ],
                        "passed_time": 8.583127376,
                        "iteration": 44,
                        "remaining_time": 182.1530365,
                        "learn": [
                          0.06809140688
                        ]
                      },
                      {
                        "test": [
                          0.06806137662
                        ],
                        "passed_time": 8.753361269,
                        "iteration": 45,
                        "remaining_time": 181.5371011,
                        "learn": [
                          0.06809140589
                        ]
                      },
                      {
                        "test": [
                          0.06806138442
                        ],
                        "passed_time": 8.948291615,
                        "iteration": 46,
                        "remaining_time": 181.4408917,
                        "learn": [
                          0.06809135972
                        ]
                      },
                      {
                        "test": [
                          0.06806137733
                        ],
                        "passed_time": 9.152149168,
                        "iteration": 47,
                        "remaining_time": 181.5176252,
                        "learn": [
                          0.06809132805
                        ]
                      },
                      {
                        "test": [
                          0.06806140062
                        ],
                        "passed_time": 9.299036747,
                        "iteration": 48,
                        "remaining_time": 180.4772234,
                        "learn": [
                          0.06809132111
                        ]
                      },
                      {
                        "test": [
                          0.06806138627
                        ],
                        "passed_time": 9.501818486,
                        "iteration": 49,
                        "remaining_time": 180.5345512,
                        "learn": [
                          0.0680912715
                        ]
                      },
                      {
                        "test": [
                          0.0680612752
                        ],
                        "passed_time": 9.680095382,
                        "iteration": 50,
                        "remaining_time": 180.1256964,
                        "learn": [
                          0.0680912106
                        ]
                      },
                      {
                        "test": [
                          0.06806133197
                        ],
                        "passed_time": 9.891797297,
                        "iteration": 51,
                        "remaining_time": 180.3350738,
                        "learn": [
                          0.06809114477
                        ]
                      },
                      {
                        "test": [
                          0.0680612303
                        ],
                        "passed_time": 10.08777747,
                        "iteration": 52,
                        "remaining_time": 180.2476465,
                        "learn": [
                          0.0680909984
                        ]
                      },
                      {
                        "test": [
                          0.06806117683
                        ],
                        "passed_time": 10.28906124,
                        "iteration": 53,
                        "remaining_time": 180.2491098,
                        "learn": [
                          0.06809089958
                        ]
                      },
                      {
                        "test": [
                          0.06806121157
                        ],
                        "passed_time": 10.49527782,
                        "iteration": 54,
                        "remaining_time": 180.3279553,
                        "learn": [
                          0.06809081635
                        ]
                      },
                      {
                        "test": [
                          0.06806119821
                        ],
                        "passed_time": 10.69513042,
                        "iteration": 55,
                        "remaining_time": 180.2893413,
                        "learn": [
                          0.06809054694
                        ]
                      },
                      {
                        "test": [
                          0.06806119976
                        ],
                        "passed_time": 10.91423681,
                        "iteration": 56,
                        "remaining_time": 180.563602,
                        "learn": [
                          0.0680904482
                        ]
                      },
                      {
                        "test": [
                          0.06806119661
                        ],
                        "passed_time": 11.06345261,
                        "iteration": 57,
                        "remaining_time": 179.6857303,
                        "learn": [
                          0.06809044627
                        ]
                      },
                      {
                        "test": [
                          0.06806109646
                        ],
                        "passed_time": 11.26209806,
                        "iteration": 58,
                        "remaining_time": 179.6209198,
                        "learn": [
                          0.0680902907
                        ]
                      },
                      {
                        "test": [
                          0.0680610939
                        ],
                        "passed_time": 11.42468154,
                        "iteration": 59,
                        "remaining_time": 178.9866774,
                        "learn": [
                          0.06809026286
                        ]
                      },
                      {
                        "test": [
                          0.06806102353
                        ],
                        "passed_time": 11.62851286,
                        "iteration": 60,
                        "remaining_time": 179.0028454,
                        "learn": [
                          0.06809021058
                        ]
                      },
                      {
                        "test": [
                          0.06806113038
                        ],
                        "passed_time": 11.83623101,
                        "iteration": 61,
                        "remaining_time": 179.0707207,
                        "learn": [
                          0.06809013357
                        ]
                      },
                      {
                        "test": [
                          0.06806110986
                        ],
                        "passed_time": 12.05302436,
                        "iteration": 62,
                        "remaining_time": 179.2648227,
                        "learn": [
                          0.06809004768
                        ]
                      },
                      {
                        "test": [
                          0.06806117509
                        ],
                        "passed_time": 12.24934978,
                        "iteration": 63,
                        "remaining_time": 179.1467405,
                        "learn": [
                          0.06808998506
                        ]
                      },
                      {
                        "test": [
                          0.06806132443
                        ],
                        "passed_time": 12.45654566,
                        "iteration": 64,
                        "remaining_time": 179.1826184,
                        "learn": [
                          0.06808987294
                        ]
                      },
                      {
                        "test": [
                          0.06806132532
                        ],
                        "passed_time": 12.6101304,
                        "iteration": 65,
                        "remaining_time": 178.4524515,
                        "learn": [
                          0.06808987235
                        ]
                      },
                      {
                        "test": [
                          0.06806129817
                        ],
                        "passed_time": 12.81579335,
                        "iteration": 66,
                        "remaining_time": 178.4647044,
                        "learn": [
                          0.06808974126
                        ]
                      },
                      {
                        "test": [
                          0.06806132026
                        ],
                        "passed_time": 13.02554923,
                        "iteration": 67,
                        "remaining_time": 178.5266454,
                        "learn": [
                          0.06808957951
                        ]
                      },
                      {
                        "test": [
                          0.06806119778
                        ],
                        "passed_time": 13.22646084,
                        "iteration": 68,
                        "remaining_time": 178.4613774,
                        "learn": [
                          0.06808939713
                        ]
                      },
                      {
                        "test": [
                          0.06806107366
                        ],
                        "passed_time": 13.43070144,
                        "iteration": 69,
                        "remaining_time": 178.4364619,
                        "learn": [
                          0.06808929256
                        ]
                      },
                      {
                        "test": [
                          0.06806106956
                        ],
                        "passed_time": 13.5976672,
                        "iteration": 70,
                        "remaining_time": 177.9187723,
                        "learn": [
                          0.0680892917
                        ]
                      },
                      {
                        "test": [
                          0.06806113452
                        ],
                        "passed_time": 13.81115786,
                        "iteration": 71,
                        "remaining_time": 178.0104791,
                        "learn": [
                          0.06808919521
                        ]
                      },
                      {
                        "test": [
                          0.06806113603
                        ],
                        "passed_time": 14.0009131,
                        "iteration": 72,
                        "remaining_time": 177.792417,
                        "learn": [
                          0.06808916985
                        ]
                      },
                      {
                        "test": [
                          0.06806126554
                        ],
                        "passed_time": 14.20547194,
                        "iteration": 73,
                        "remaining_time": 177.7603651,
                        "learn": [
                          0.06808907502
                        ]
                      },
                      {
                        "test": [
                          0.06806127035
                        ],
                        "passed_time": 14.36673584,
                        "iteration": 74,
                        "remaining_time": 177.189742,
                        "learn": [
                          0.06808907392
                        ]
                      },
                      {
                        "test": [
                          0.06806119469
                        ],
                        "passed_time": 14.57484331,
                        "iteration": 75,
                        "remaining_time": 177.1994108,
                        "learn": [
                          0.06808898974
                        ]
                      },
                      {
                        "test": [
                          0.06806119081
                        ],
                        "passed_time": 14.78024312,
                        "iteration": 76,
                        "remaining_time": 177.1709662,
                        "learn": [
                          0.06808886315
                        ]
                      },
                      {
                        "test": [
                          0.06806114275
                        ],
                        "passed_time": 14.99610409,
                        "iteration": 77,
                        "remaining_time": 177.2616407,
                        "learn": [
                          0.06808880238
                        ]
                      },
                      {
                        "test": [
                          0.06806114319
                        ],
                        "passed_time": 15.13597289,
                        "iteration": 78,
                        "remaining_time": 176.4586207,
                        "learn": [
                          0.06808880237
                        ]
                      },
                      {
                        "test": [
                          0.06806114484
                        ],
                        "passed_time": 15.29850718,
                        "iteration": 79,
                        "remaining_time": 175.9328326,
                        "learn": [
                          0.06808880149
                        ]
                      },
                      {
                        "test": [
                          0.06806114932
                        ],
                        "passed_time": 15.48405428,
                        "iteration": 80,
                        "remaining_time": 175.6771097,
                        "learn": [
                          0.06808878852
                        ]
                      },
                      {
                        "test": [
                          0.06806114992
                        ],
                        "passed_time": 15.62779123,
                        "iteration": 81,
                        "remaining_time": 174.9550286,
                        "learn": [
                          0.06808878848
                        ]
                      },
                      {
                        "test": [
                          0.06806115323
                        ],
                        "passed_time": 15.81374212,
                        "iteration": 82,
                        "remaining_time": 174.7132714,
                        "learn": [
                          0.06808877364
                        ]
                      },
                      {
                        "test": [
                          0.0680611485
                        ],
                        "passed_time": 16.01570544,
                        "iteration": 83,
                        "remaining_time": 174.6474546,
                        "learn": [
                          0.06808873215
                        ]
                      },
                      {
                        "test": [
                          0.06806120457
                        ],
                        "passed_time": 16.20781502,
                        "iteration": 84,
                        "remaining_time": 174.4723617,
                        "learn": [
                          0.06808860456
                        ]
                      },
                      {
                        "test": [
                          0.06806130201
                        ],
                        "passed_time": 16.4094072,
                        "iteration": 85,
                        "remaining_time": 174.3976533,
                        "learn": [
                          0.06808850828
                        ]
                      },
                      {
                        "test": [
                          0.06806130283
                        ],
                        "passed_time": 16.60842514,
                        "iteration": 86,
                        "remaining_time": 174.2930133,
                        "learn": [
                          0.0680884384
                        ]
                      },
                      {
                        "test": [
                          0.06806130263
                        ],
                        "passed_time": 16.80710864,
                        "iteration": 87,
                        "remaining_time": 174.1827623,
                        "learn": [
                          0.06808837918
                        ]
                      },
                      {
                        "test": [
                          0.06806123779
                        ],
                        "passed_time": 17.00878858,
                        "iteration": 88,
                        "remaining_time": 174.1011955,
                        "learn": [
                          0.06808834124
                        ]
                      },
                      {
                        "test": [
                          0.06806112177
                        ],
                        "passed_time": 17.20927779,
                        "iteration": 89,
                        "remaining_time": 174.0049199,
                        "learn": [
                          0.06808827168
                        ]
                      },
                      {
                        "test": [
                          0.0680611297
                        ],
                        "passed_time": 17.4118929,
                        "iteration": 90,
                        "remaining_time": 173.9275895,
                        "learn": [
                          0.06808826679
                        ]
                      },
                      {
                        "test": [
                          0.06806112302
                        ],
                        "passed_time": 17.60987447,
                        "iteration": 91,
                        "remaining_time": 173.8018046,
                        "learn": [
                          0.06808821722
                        ]
                      },
                      {
                        "test": [
                          0.06806117511
                        ],
                        "passed_time": 17.80328072,
                        "iteration": 92,
                        "remaining_time": 173.6298453,
                        "learn": [
                          0.0680881794
                        ]
                      },
                      {
                        "test": [
                          0.06806117889
                        ],
                        "passed_time": 18.01759094,
                        "iteration": 93,
                        "remaining_time": 173.6589085,
                        "learn": [
                          0.06808805323
                        ]
                      },
                      {
                        "test": [
                          0.06806117717
                        ],
                        "passed_time": 18.20086538,
                        "iteration": 94,
                        "remaining_time": 173.3871912,
                        "learn": [
                          0.06808802929
                        ]
                      },
                      {
                        "test": [
                          0.06806121975
                        ],
                        "passed_time": 18.4041731,
                        "iteration": 95,
                        "remaining_time": 173.3059634,
                        "learn": [
                          0.068087975
                        ]
                      },
                      {
                        "test": [
                          0.06806121111
                        ],
                        "passed_time": 18.58507518,
                        "iteration": 96,
                        "remaining_time": 173.013638,
                        "learn": [
                          0.06808795352
                        ]
                      },
                      {
                        "test": [
                          0.06806121097
                        ],
                        "passed_time": 18.73485346,
                        "iteration": 97,
                        "remaining_time": 172.4371206,
                        "learn": [
                          0.06808795349
                        ]
                      },
                      {
                        "test": [
                          0.06806118068
                        ],
                        "passed_time": 18.95305941,
                        "iteration": 98,
                        "remaining_time": 172.4919851,
                        "learn": [
                          0.06808792518
                        ]
                      },
                      {
                        "test": [
                          0.0680611995
                        ],
                        "passed_time": 19.14202171,
                        "iteration": 99,
                        "remaining_time": 172.2781954,
                        "learn": [
                          0.06808790728
                        ]
                      },
                      {
                        "test": [
                          0.06806122707
                        ],
                        "passed_time": 19.32560234,
                        "iteration": 100,
                        "remaining_time": 172.0169951,
                        "learn": [
                          0.06808789264
                        ]
                      },
                      {
                        "test": [
                          0.06806117733
                        ],
                        "passed_time": 19.52639574,
                        "iteration": 101,
                        "remaining_time": 171.9088566,
                        "learn": [
                          0.0680877632
                        ]
                      },
                      {
                        "test": [
                          0.06806117725
                        ],
                        "passed_time": 19.68490216,
                        "iteration": 102,
                        "remaining_time": 171.4306528,
                        "learn": [
                          0.06808776218
                        ]
                      },
                      {
                        "test": [
                          0.06806112962
                        ],
                        "passed_time": 19.8845693,
                        "iteration": 103,
                        "remaining_time": 171.3132124,
                        "learn": [
                          0.0680877099
                        ]
                      },
                      {
                        "test": [
                          0.06806113012
                        ],
                        "passed_time": 20.03756572,
                        "iteration": 104,
                        "remaining_time": 170.7963935,
                        "learn": [
                          0.06808770984
                        ]
                      },
                      {
                        "test": [
                          0.06806112855
                        ],
                        "passed_time": 20.24514338,
                        "iteration": 105,
                        "remaining_time": 170.7467753,
                        "learn": [
                          0.06808761243
                        ]
                      },
                      {
                        "test": [
                          0.0680610846
                        ],
                        "passed_time": 20.44457911,
                        "iteration": 106,
                        "remaining_time": 170.6262537,
                        "learn": [
                          0.06808753093
                        ]
                      },
                      {
                        "test": [
                          0.06806108509
                        ],
                        "passed_time": 20.60900092,
                        "iteration": 107,
                        "remaining_time": 170.2150817,
                        "learn": [
                          0.06808752882
                        ]
                      },
                      {
                        "test": [
                          0.06806108441
                        ],
                        "passed_time": 20.80724433,
                        "iteration": 108,
                        "remaining_time": 170.0849054,
                        "learn": [
                          0.06808745431
                        ]
                      },
                      {
                        "test": [
                          0.0680610825
                        ],
                        "passed_time": 21.12690135,
                        "iteration": 109,
                        "remaining_time": 170.9358382,
                        "learn": [
                          0.06808739052
                        ]
                      },
                      {
                        "test": [
                          0.06806108352
                        ],
                        "passed_time": 21.31584969,
                        "iteration": 110,
                        "remaining_time": 170.7188322,
                        "learn": [
                          0.06808739022
                        ]
                      },
                      {
                        "test": [
                          0.06806117439
                        ],
                        "passed_time": 21.68494586,
                        "iteration": 111,
                        "remaining_time": 171.9306421,
                        "learn": [
                          0.06808732667
                        ]
                      },
                      {
                        "test": [
                          0.06806118962
                        ],
                        "passed_time": 21.99600538,
                        "iteration": 112,
                        "remaining_time": 172.6589095,
                        "learn": [
                          0.06808730022
                        ]
                      },
                      {
                        "test": [
                          0.06806119455
                        ],
                        "passed_time": 22.1858315,
                        "iteration": 113,
                        "remaining_time": 172.4267255,
                        "learn": [
                          0.06808729836
                        ]
                      },
                      {
                        "test": [
                          0.06806125822
                        ],
                        "passed_time": 22.43827498,
                        "iteration": 114,
                        "remaining_time": 172.6771596,
                        "learn": [
                          0.06808723148
                        ]
                      },
                      {
                        "test": [
                          0.0680612118
                        ],
                        "passed_time": 22.81181355,
                        "iteration": 115,
                        "remaining_time": 173.8417516,
                        "learn": [
                          0.06808710411
                        ]
                      },
                      {
                        "test": [
                          0.06806118145
                        ],
                        "passed_time": 23.04041512,
                        "iteration": 116,
                        "remaining_time": 173.8862098,
                        "learn": [
                          0.06808699903
                        ]
                      },
                      {
                        "test": [
                          0.06806118201
                        ],
                        "passed_time": 23.18205011,
                        "iteration": 117,
                        "remaining_time": 173.2760017,
                        "learn": [
                          0.06808699898
                        ]
                      },
                      {
                        "test": [
                          0.06806118117
                        ],
                        "passed_time": 23.41626388,
                        "iteration": 118,
                        "remaining_time": 173.3590629,
                        "learn": [
                          0.06808699864
                        ]
                      },
                      {
                        "test": [
                          0.06806118041
                        ],
                        "passed_time": 23.67120944,
                        "iteration": 119,
                        "remaining_time": 173.5888692,
                        "learn": [
                          0.06808699793
                        ]
                      },
                      {
                        "test": [
                          0.0680611653
                        ],
                        "passed_time": 23.93179844,
                        "iteration": 120,
                        "remaining_time": 173.8516598,
                        "learn": [
                          0.0680869356
                        ]
                      },
                      {
                        "test": [
                          0.06806115733
                        ],
                        "passed_time": 24.22673121,
                        "iteration": 121,
                        "remaining_time": 174.3530328,
                        "learn": [
                          0.06808689446
                        ]
                      },
                      {
                        "test": [
                          0.06806115847
                        ],
                        "passed_time": 24.3867602,
                        "iteration": 122,
                        "remaining_time": 173.8795829,
                        "learn": [
                          0.06808689404
                        ]
                      },
                      {
                        "test": [
                          0.06806116315
                        ],
                        "passed_time": 24.68324254,
                        "iteration": 123,
                        "remaining_time": 174.3751651,
                        "learn": [
                          0.06808688084
                        ]
                      },
                      {
                        "test": [
                          0.06806116486
                        ],
                        "passed_time": 24.84944614,
                        "iteration": 124,
                        "remaining_time": 173.946123,
                        "learn": [
                          0.06808687984
                        ]
                      },
                      {
                        "test": [
                          0.06806116441
                        ],
                        "passed_time": 25.14936702,
                        "iteration": 125,
                        "remaining_time": 174.4487839,
                        "learn": [
                          0.06808687682
                        ]
                      },
                      {
                        "test": [
                          0.06806118666
                        ],
                        "passed_time": 25.43162859,
                        "iteration": 126,
                        "remaining_time": 174.8174154,
                        "learn": [
                          0.06808681169
                        ]
                      },
                      {
                        "test": [
                          0.0680611512
                        ],
                        "passed_time": 25.81070808,
                        "iteration": 127,
                        "remaining_time": 175.8354488,
                        "learn": [
                          0.06808668225
                        ]
                      },
                      {
                        "test": [
                          0.06806114933
                        ],
                        "passed_time": 26.16307682,
                        "iteration": 128,
                        "remaining_time": 176.6514721,
                        "learn": [
                          0.06808660331
                        ]
                      },
                      {
                        "test": [
                          0.06806111604
                        ],
                        "passed_time": 26.56617395,
                        "iteration": 129,
                        "remaining_time": 177.7890103,
                        "learn": [
                          0.06808650509
                        ]
                      },
                      {
                        "test": [
                          0.06806112592
                        ],
                        "passed_time": 26.84147,
                        "iteration": 130,
                        "remaining_time": 178.0552476,
                        "learn": [
                          0.06808650234
                        ]
                      },
                      {
                        "test": [
                          0.06806112671
                        ],
                        "passed_time": 27.15443148,
                        "iteration": 131,
                        "remaining_time": 178.5609585,
                        "learn": [
                          0.0680864971
                        ]
                      },
                      {
                        "test": [
                          0.06806109229
                        ],
                        "passed_time": 27.51754068,
                        "iteration": 132,
                        "remaining_time": 179.3812614,
                        "learn": [
                          0.06808648048
                        ]
                      },
                      {
                        "test": [
                          0.06806105204
                        ],
                        "passed_time": 27.85577297,
                        "iteration": 133,
                        "remaining_time": 180.0231298,
                        "learn": [
                          0.06808627675
                        ]
                      },
                      {
                        "test": [
                          0.06806105157
                        ],
                        "passed_time": 28.1086687,
                        "iteration": 134,
                        "remaining_time": 180.1036921,
                        "learn": [
                          0.06808627589
                        ]
                      },
                      {
                        "test": [
                          0.06806105116
                        ],
                        "passed_time": 28.37067857,
                        "iteration": 135,
                        "remaining_time": 180.2372521,
                        "learn": [
                          0.06808627458
                        ]
                      },
                      {
                        "test": [
                          0.06806103857
                        ],
                        "passed_time": 29.00178657,
                        "iteration": 136,
                        "remaining_time": 182.6900862,
                        "learn": [
                          0.06808625134
                        ]
                      },
                      {
                        "test": [
                          0.06806096746
                        ],
                        "passed_time": 29.38099102,
                        "iteration": 137,
                        "remaining_time": 183.524741,
                        "learn": [
                          0.06808612426
                        ]
                      },
                      {
                        "test": [
                          0.06806096652
                        ],
                        "passed_time": 29.59593295,
                        "iteration": 138,
                        "remaining_time": 183.324448,
                        "learn": [
                          0.0680860827
                        ]
                      },
                      {
                        "test": [
                          0.06806094689
                        ],
                        "passed_time": 29.7965799,
                        "iteration": 139,
                        "remaining_time": 183.0361337,
                        "learn": [
                          0.06808599382
                        ]
                      },
                      {
                        "test": [
                          0.06806094181
                        ],
                        "passed_time": 29.95291841,
                        "iteration": 140,
                        "remaining_time": 182.4791271,
                        "learn": [
                          0.06808599096
                        ]
                      },
                      {
                        "test": [
                          0.06806093616
                        ],
                        "passed_time": 30.16461378,
                        "iteration": 141,
                        "remaining_time": 182.2622438,
                        "learn": [
                          0.06808590992
                        ]
                      },
                      {
                        "test": [
                          0.06806094392
                        ],
                        "passed_time": 30.33510646,
                        "iteration": 142,
                        "remaining_time": 181.7985051,
                        "learn": [
                          0.06808587686
                        ]
                      },
                      {
                        "test": [
                          0.06806095098
                        ],
                        "passed_time": 30.55287561,
                        "iteration": 143,
                        "remaining_time": 181.6198717,
                        "learn": [
                          0.06808584497
                        ]
                      },
                      {
                        "test": [
                          0.06806094577
                        ],
                        "passed_time": 30.76470142,
                        "iteration": 144,
                        "remaining_time": 181.4056532,
                        "learn": [
                          0.06808573376
                        ]
                      },
                      {
                        "test": [
                          0.06806097535
                        ],
                        "passed_time": 30.96625298,
                        "iteration": 145,
                        "remaining_time": 181.1313702,
                        "learn": [
                          0.0680856814
                        ]
                      },
                      {
                        "test": [
                          0.06806095487
                        ],
                        "passed_time": 31.17349123,
                        "iteration": 146,
                        "remaining_time": 180.891075,
                        "learn": [
                          0.06808565147
                        ]
                      },
                      {
                        "test": [
                          0.06806097963
                        ],
                        "passed_time": 31.37918377,
                        "iteration": 147,
                        "remaining_time": 180.6423282,
                        "learn": [
                          0.06808558464
                        ]
                      },
                      {
                        "test": [
                          0.06806088797
                        ],
                        "passed_time": 31.59133724,
                        "iteration": 148,
                        "remaining_time": 180.4310603,
                        "learn": [
                          0.06808538213
                        ]
                      },
                      {
                        "test": [
                          0.06806089621
                        ],
                        "passed_time": 31.79489808,
                        "iteration": 149,
                        "remaining_time": 180.1710891,
                        "learn": [
                          0.06808526557
                        ]
                      },
                      {
                        "test": [
                          0.06806088137
                        ],
                        "passed_time": 32.05093815,
                        "iteration": 150,
                        "remaining_time": 180.2069304,
                        "learn": [
                          0.06808520952
                        ]
                      },
                      {
                        "test": [
                          0.06806088172
                        ],
                        "passed_time": 32.22317211,
                        "iteration": 151,
                        "remaining_time": 179.7713813,
                        "learn": [
                          0.06808520953
                        ]
                      },
                      {
                        "test": [
                          0.06806080562
                        ],
                        "passed_time": 32.43514541,
                        "iteration": 152,
                        "remaining_time": 179.559269,
                        "learn": [
                          0.06808512944
                        ]
                      },
                      {
                        "test": [
                          0.06806070828
                        ],
                        "passed_time": 32.63636639,
                        "iteration": 153,
                        "remaining_time": 179.2880907,
                        "learn": [
                          0.06808503904
                        ]
                      },
                      {
                        "test": [
                          0.06806068806
                        ],
                        "passed_time": 32.83676839,
                        "iteration": 154,
                        "remaining_time": 179.0133502,
                        "learn": [
                          0.06808493794
                        ]
                      },
                      {
                        "test": [
                          0.06806068998
                        ],
                        "passed_time": 33.04081415,
                        "iteration": 155,
                        "remaining_time": 178.7592765,
                        "learn": [
                          0.06808474987
                        ]
                      },
                      {
                        "test": [
                          0.06806073111
                        ],
                        "passed_time": 33.25638996,
                        "iteration": 156,
                        "remaining_time": 178.5677499,
                        "learn": [
                          0.06808466091
                        ]
                      },
                      {
                        "test": [
                          0.06806074081
                        ],
                        "passed_time": 33.4702517,
                        "iteration": 157,
                        "remaining_time": 178.3667844,
                        "learn": [
                          0.0680845678
                        ]
                      },
                      {
                        "test": [
                          0.06806069145
                        ],
                        "passed_time": 33.67011974,
                        "iteration": 158,
                        "remaining_time": 178.0916396,
                        "learn": [
                          0.06808441817
                        ]
                      },
                      {
                        "test": [
                          0.06806063319
                        ],
                        "passed_time": 33.87297418,
                        "iteration": 159,
                        "remaining_time": 177.8331144,
                        "learn": [
                          0.06808415958
                        ]
                      },
                      {
                        "test": [
                          0.06806061447
                        ],
                        "passed_time": 34.07548074,
                        "iteration": 160,
                        "remaining_time": 177.573468,
                        "learn": [
                          0.06808411601
                        ]
                      },
                      {
                        "test": [
                          0.06806061537
                        ],
                        "passed_time": 34.2816206,
                        "iteration": 161,
                        "remaining_time": 177.3333214,
                        "learn": [
                          0.06808385407
                        ]
                      },
                      {
                        "test": [
                          0.06806061933
                        ],
                        "passed_time": 34.48964866,
                        "iteration": 162,
                        "remaining_time": 177.1032879,
                        "learn": [
                          0.06808376358
                        ]
                      },
                      {
                        "test": [
                          0.06806056816
                        ],
                        "passed_time": 34.6937412,
                        "iteration": 163,
                        "remaining_time": 176.8534612,
                        "learn": [
                          0.06808368009
                        ]
                      },
                      {
                        "test": [
                          0.06806056951
                        ],
                        "passed_time": 34.89549512,
                        "iteration": 164,
                        "remaining_time": 176.5923541,
                        "learn": [
                          0.06808361828
                        ]
                      },
                      {
                        "test": [
                          0.06806058035
                        ],
                        "passed_time": 35.10006829,
                        "iteration": 165,
                        "remaining_time": 176.3461262,
                        "learn": [
                          0.06808334174
                        ]
                      },
                      {
                        "test": [
                          0.06806056946
                        ],
                        "passed_time": 35.31000501,
                        "iteration": 166,
                        "remaining_time": 176.1271507,
                        "learn": [
                          0.06808329759
                        ]
                      },
                      {
                        "test": [
                          0.06806053253
                        ],
                        "passed_time": 35.52206686,
                        "iteration": 167,
                        "remaining_time": 175.9188073,
                        "learn": [
                          0.06808310817
                        ]
                      },
                      {
                        "test": [
                          0.06806055764
                        ],
                        "passed_time": 35.72690772,
                        "iteration": 168,
                        "remaining_time": 175.6749131,
                        "learn": [
                          0.06808306037
                        ]
                      },
                      {
                        "test": [
                          0.06806054615
                        ],
                        "passed_time": 35.93791525,
                        "iteration": 169,
                        "remaining_time": 175.4615862,
                        "learn": [
                          0.06808300464
                        ]
                      },
                      {
                        "test": [
                          0.06806053674
                        ],
                        "passed_time": 36.14115849,
                        "iteration": 170,
                        "remaining_time": 175.2106455,
                        "learn": [
                          0.06808292695
                        ]
                      },
                      {
                        "test": [
                          0.06806043038
                        ],
                        "passed_time": 36.3496338,
                        "iteration": 171,
                        "remaining_time": 174.9854464,
                        "learn": [
                          0.06808282653
                        ]
                      },
                      {
                        "test": [
                          0.06806042631
                        ],
                        "passed_time": 36.58427267,
                        "iteration": 172,
                        "remaining_time": 174.8855115,
                        "learn": [
                          0.06808277868
                        ]
                      },
                      {
                        "test": [
                          0.06806044394
                        ],
                        "passed_time": 36.78878512,
                        "iteration": 173,
                        "remaining_time": 174.6410144,
                        "learn": [
                          0.06808275417
                        ]
                      },
                      {
                        "test": [
                          0.06806047777
                        ],
                        "passed_time": 36.99033727,
                        "iteration": 174,
                        "remaining_time": 174.3830186,
                        "learn": [
                          0.06808273651
                        ]
                      },
                      {
                        "test": [
                          0.06806039627
                        ],
                        "passed_time": 37.19368085,
                        "iteration": 175,
                        "remaining_time": 174.1340513,
                        "learn": [
                          0.06808270005
                        ]
                      },
                      {
                        "test": [
                          0.06806041837
                        ],
                        "passed_time": 37.40669115,
                        "iteration": 176,
                        "remaining_time": 173.930547,
                        "learn": [
                          0.06808267719
                        ]
                      },
                      {
                        "test": [
                          0.06806038234
                        ],
                        "passed_time": 37.62331531,
                        "iteration": 177,
                        "remaining_time": 173.7436246,
                        "learn": [
                          0.068082575
                        ]
                      },
                      {
                        "test": [
                          0.06806038486
                        ],
                        "passed_time": 37.86221424,
                        "iteration": 178,
                        "remaining_time": 173.6585357,
                        "learn": [
                          0.06808252044
                        ]
                      },
                      {
                        "test": [
                          0.06806030151
                        ],
                        "passed_time": 38.07685153,
                        "iteration": 179,
                        "remaining_time": 173.4612125,
                        "learn": [
                          0.06808219486
                        ]
                      },
                      {
                        "test": [
                          0.06806028487
                        ],
                        "passed_time": 38.27123501,
                        "iteration": 180,
                        "remaining_time": 173.1720524,
                        "learn": [
                          0.06808211522
                        ]
                      },
                      {
                        "test": [
                          0.06806027414
                        ],
                        "passed_time": 38.48493443,
                        "iteration": 181,
                        "remaining_time": 172.9707492,
                        "learn": [
                          0.06808197135
                        ]
                      },
                      {
                        "test": [
                          0.06806028766
                        ],
                        "passed_time": 38.70275607,
                        "iteration": 182,
                        "remaining_time": 172.7877143,
                        "learn": [
                          0.06808195678
                        ]
                      },
                      {
                        "test": [
                          0.06806028831
                        ],
                        "passed_time": 38.90257381,
                        "iteration": 183,
                        "remaining_time": 172.5244578,
                        "learn": [
                          0.06808193318
                        ]
                      },
                      {
                        "test": [
                          0.06806028799
                        ],
                        "passed_time": 39.10756112,
                        "iteration": 184,
                        "remaining_time": 172.2846611,
                        "learn": [
                          0.06808191982
                        ]
                      },
                      {
                        "test": [
                          0.06806025807
                        ],
                        "passed_time": 39.30536963,
                        "iteration": 185,
                        "remaining_time": 172.0138219,
                        "learn": [
                          0.0680817755
                        ]
                      },
                      {
                        "test": [
                          0.06806026111
                        ],
                        "passed_time": 39.52677794,
                        "iteration": 186,
                        "remaining_time": 171.8463661,
                        "learn": [
                          0.06808175216
                        ]
                      },
                      {
                        "test": [
                          0.06806022999
                        ],
                        "passed_time": 39.73453388,
                        "iteration": 187,
                        "remaining_time": 171.6193697,
                        "learn": [
                          0.06808166678
                        ]
                      },
                      {
                        "test": [
                          0.06806022166
                        ],
                        "passed_time": 39.95361174,
                        "iteration": 188,
                        "remaining_time": 171.4411594,
                        "learn": [
                          0.06808159632
                        ]
                      },
                      {
                        "test": [
                          0.06806025025
                        ],
                        "passed_time": 40.16108212,
                        "iteration": 189,
                        "remaining_time": 171.2130343,
                        "learn": [
                          0.06808157809
                        ]
                      },
                      {
                        "test": [
                          0.06806023877
                        ],
                        "passed_time": 40.36258317,
                        "iteration": 190,
                        "remaining_time": 170.9598418,
                        "learn": [
                          0.06808154878
                        ]
                      },
                      {
                        "test": [
                          0.06806023756
                        ],
                        "passed_time": 40.58638428,
                        "iteration": 191,
                        "remaining_time": 170.8010338,
                        "learn": [
                          0.06808149964
                        ]
                      },
                      {
                        "test": [
                          0.06806024439
                        ],
                        "passed_time": 40.80133495,
                        "iteration": 192,
                        "remaining_time": 170.6045456,
                        "learn": [
                          0.06808145689
                        ]
                      },
                      {
                        "test": [
                          0.06806024811
                        ],
                        "passed_time": 41.00725425,
                        "iteration": 193,
                        "remaining_time": 170.370345,
                        "learn": [
                          0.06808144786
                        ]
                      },
                      {
                        "test": [
                          0.06806027601
                        ],
                        "passed_time": 41.21171133,
                        "iteration": 194,
                        "remaining_time": 170.130398,
                        "learn": [
                          0.06808140217
                        ]
                      },
                      {
                        "test": [
                          0.06806029086
                        ],
                        "passed_time": 41.42412935,
                        "iteration": 195,
                        "remaining_time": 169.9234694,
                        "learn": [
                          0.06808136986
                        ]
                      },
                      {
                        "test": [
                          0.06806027605
                        ],
                        "passed_time": 41.63229286,
                        "iteration": 196,
                        "remaining_time": 169.699143,
                        "learn": [
                          0.06808129618
                        ]
                      },
                      {
                        "test": [
                          0.06806023881
                        ],
                        "passed_time": 41.84045439,
                        "iteration": 197,
                        "remaining_time": 169.4749718,
                        "learn": [
                          0.06808122187
                        ]
                      },
                      {
                        "test": [
                          0.06806020984
                        ],
                        "passed_time": 42.04498964,
                        "iteration": 198,
                        "remaining_time": 169.2363653,
                        "learn": [
                          0.06808117284
                        ]
                      },
                      {
                        "test": [
                          0.06806019827
                        ],
                        "passed_time": 42.24507827,
                        "iteration": 199,
                        "remaining_time": 168.9803131,
                        "learn": [
                          0.06808111961
                        ]
                      },
                      {
                        "test": [
                          0.06806016696
                        ],
                        "passed_time": 42.46051923,
                        "iteration": 200,
                        "remaining_time": 168.7858451,
                        "learn": [
                          0.06808108639
                        ]
                      },
                      {
                        "test": [
                          0.06806012782
                        ],
                        "passed_time": 42.66807207,
                        "iteration": 201,
                        "remaining_time": 168.5600075,
                        "learn": [
                          0.0680809845
                        ]
                      },
                      {
                        "test": [
                          0.06806010589
                        ],
                        "passed_time": 42.86900781,
                        "iteration": 202,
                        "remaining_time": 168.3083706,
                        "learn": [
                          0.06808084192
                        ]
                      },
                      {
                        "test": [
                          0.06806012937
                        ],
                        "passed_time": 43.07084877,
                        "iteration": 203,
                        "remaining_time": 168.0607629,
                        "learn": [
                          0.06808068591
                        ]
                      },
                      {
                        "test": [
                          0.06806010634
                        ],
                        "passed_time": 43.26531018,
                        "iteration": 204,
                        "remaining_time": 167.7849834,
                        "learn": [
                          0.06808063993
                        ]
                      },
                      {
                        "test": [
                          0.06806012836
                        ],
                        "passed_time": 43.48554045,
                        "iteration": 205,
                        "remaining_time": 167.6093161,
                        "learn": [
                          0.06808047064
                        ]
                      },
                      {
                        "test": [
                          0.06806012912
                        ],
                        "passed_time": 43.69401642,
                        "iteration": 206,
                        "remaining_time": 167.3881885,
                        "learn": [
                          0.06808039024
                        ]
                      },
                      {
                        "test": [
                          0.06806013445
                        ],
                        "passed_time": 43.89978474,
                        "iteration": 207,
                        "remaining_time": 167.1568727,
                        "learn": [
                          0.06808034784
                        ]
                      },
                      {
                        "test": [
                          0.0680601243
                        ],
                        "passed_time": 44.09785928,
                        "iteration": 208,
                        "remaining_time": 166.8966827,
                        "learn": [
                          0.06808033224
                        ]
                      },
                      {
                        "test": [
                          0.0680601023
                        ],
                        "passed_time": 44.29911121,
                        "iteration": 209,
                        "remaining_time": 166.6490374,
                        "learn": [
                          0.0680802575
                        ]
                      },
                      {
                        "test": [
                          0.06806009384
                        ],
                        "passed_time": 44.51575538,
                        "iteration": 210,
                        "remaining_time": 166.4593886,
                        "learn": [
                          0.06808014444
                        ]
                      },
                      {
                        "test": [
                          0.06806009121
                        ],
                        "passed_time": 44.71964811,
                        "iteration": 211,
                        "remaining_time": 166.2220882,
                        "learn": [
                          0.06808010401
                        ]
                      },
                      {
                        "test": [
                          0.06806004297
                        ],
                        "passed_time": 44.92114118,
                        "iteration": 212,
                        "remaining_time": 165.9762353,
                        "learn": [
                          0.0680800616
                        ]
                      },
                      {
                        "test": [
                          0.06806004627
                        ],
                        "passed_time": 45.1183983,
                        "iteration": 213,
                        "remaining_time": 165.7152386,
                        "learn": [
                          0.06808002818
                        ]
                      },
                      {
                        "test": [
                          0.06806005195
                        ],
                        "passed_time": 45.32146252,
                        "iteration": 214,
                        "remaining_time": 165.4760376,
                        "learn": [
                          0.06807992955
                        ]
                      },
                      {
                        "test": [
                          0.06806005557
                        ],
                        "passed_time": 45.53827305,
                        "iteration": 215,
                        "remaining_time": 165.2870651,
                        "learn": [
                          0.06807988814
                        ]
                      },
                      {
                        "test": [
                          0.06806002417
                        ],
                        "passed_time": 45.74177459,
                        "iteration": 216,
                        "remaining_time": 165.0498134,
                        "learn": [
                          0.0680798439
                        ]
                      },
                      {
                        "test": [
                          0.06805999507
                        ],
                        "passed_time": 45.94008942,
                        "iteration": 217,
                        "remaining_time": 164.7942657,
                        "learn": [
                          0.06807978878
                        ]
                      },
                      {
                        "test": [
                          0.06806001981
                        ],
                        "passed_time": 46.14127208,
                        "iteration": 218,
                        "remaining_time": 164.549468,
                        "learn": [
                          0.06807975992
                        ]
                      },
                      {
                        "test": [
                          0.06805997276
                        ],
                        "passed_time": 46.34364874,
                        "iteration": 219,
                        "remaining_time": 164.3093001,
                        "learn": [
                          0.06807971766
                        ]
                      },
                      {
                        "test": [
                          0.06805997844
                        ],
                        "passed_time": 46.57296684,
                        "iteration": 220,
                        "remaining_time": 164.1644397,
                        "learn": [
                          0.06807970168
                        ]
                      },
                      {
                        "test": [
                          0.06805998429
                        ],
                        "passed_time": 46.78348399,
                        "iteration": 221,
                        "remaining_time": 163.9529304,
                        "learn": [
                          0.06807949691
                        ]
                      },
                      {
                        "test": [
                          0.06805997893
                        ],
                        "passed_time": 46.98471409,
                        "iteration": 222,
                        "remaining_time": 163.7090711,
                        "learn": [
                          0.06807942286
                        ]
                      },
                      {
                        "test": [
                          0.0680599831
                        ],
                        "passed_time": 47.17962973,
                        "iteration": 223,
                        "remaining_time": 163.4437173,
                        "learn": [
                          0.06807941302
                        ]
                      },
                      {
                        "test": [
                          0.06805997702
                        ],
                        "passed_time": 47.37874675,
                        "iteration": 224,
                        "remaining_time": 163.193461,
                        "learn": [
                          0.06807939488
                        ]
                      },
                      {
                        "test": [
                          0.06805994615
                        ],
                        "passed_time": 47.59525673,
                        "iteration": 225,
                        "remaining_time": 163.0032244,
                        "learn": [
                          0.06807935954
                        ]
                      },
                      {
                        "test": [
                          0.06805991688
                        ],
                        "passed_time": 47.81029387,
                        "iteration": 226,
                        "remaining_time": 162.8077408,
                        "learn": [
                          0.06807930804
                        ]
                      },
                      {
                        "test": [
                          0.06805990492
                        ],
                        "passed_time": 48.00670177,
                        "iteration": 227,
                        "remaining_time": 162.5490077,
                        "learn": [
                          0.06807922407
                        ]
                      },
                      {
                        "test": [
                          0.06805990737
                        ],
                        "passed_time": 48.21038126,
                        "iteration": 228,
                        "remaining_time": 162.3153011,
                        "learn": [
                          0.06807921488
                        ]
                      },
                      {
                        "test": [
                          0.06805989871
                        ],
                        "passed_time": 48.41133704,
                        "iteration": 229,
                        "remaining_time": 162.0727371,
                        "learn": [
                          0.06807915753
                        ]
                      },
                      {
                        "test": [
                          0.06805990384
                        ],
                        "passed_time": 48.628187,
                        "iteration": 230,
                        "remaining_time": 161.883445,
                        "learn": [
                          0.06807910783
                        ]
                      },
                      {
                        "test": [
                          0.0680598934
                        ],
                        "passed_time": 48.83710805,
                        "iteration": 231,
                        "remaining_time": 161.667668,
                        "learn": [
                          0.06807901435
                        ]
                      },
                      {
                        "test": [
                          0.06805987379
                        ],
                        "passed_time": 49.03766864,
                        "iteration": 232,
                        "remaining_time": 161.4244285,
                        "learn": [
                          0.06807899546
                        ]
                      },
                      {
                        "test": [
                          0.0680598616
                        ],
                        "passed_time": 49.23620201,
                        "iteration": 233,
                        "remaining_time": 161.1749177,
                        "learn": [
                          0.06807895132
                        ]
                      },
                      {
                        "test": [
                          0.06805985118
                        ],
                        "passed_time": 49.43581052,
                        "iteration": 234,
                        "remaining_time": 160.9293406,
                        "learn": [
                          0.06807886735
                        ]
                      },
                      {
                        "test": [
                          0.06805986235
                        ],
                        "passed_time": 49.65244376,
                        "iteration": 235,
                        "remaining_time": 160.7392671,
                        "learn": [
                          0.06807881779
                        ]
                      },
                      {
                        "test": [
                          0.06805988784
                        ],
                        "passed_time": 49.86356391,
                        "iteration": 236,
                        "remaining_time": 160.5312205,
                        "learn": [
                          0.06807879103
                        ]
                      },
                      {
                        "test": [
                          0.06805987348
                        ],
                        "passed_time": 50.0608693,
                        "iteration": 237,
                        "remaining_time": 160.2789177,
                        "learn": [
                          0.06807876845
                        ]
                      },
                      {
                        "test": [
                          0.06805987954
                        ],
                        "passed_time": 50.25624892,
                        "iteration": 238,
                        "remaining_time": 160.0209432,
                        "learn": [
                          0.0680787274
                        ]
                      },
                      {
                        "test": [
                          0.06805989364
                        ],
                        "passed_time": 50.45412533,
                        "iteration": 239,
                        "remaining_time": 159.7713969,
                        "learn": [
                          0.06807867403
                        ]
                      },
                      {
                        "test": [
                          0.06805990457
                        ],
                        "passed_time": 50.66051732,
                        "iteration": 240,
                        "remaining_time": 159.5490981,
                        "learn": [
                          0.06807847507
                        ]
                      },
                      {
                        "test": [
                          0.0680599179
                        ],
                        "passed_time": 50.87335582,
                        "iteration": 241,
                        "remaining_time": 159.3471228,
                        "learn": [
                          0.06807845891
                        ]
                      },
                      {
                        "test": [
                          0.06805989422
                        ],
                        "passed_time": 51.06610839,
                        "iteration": 242,
                        "remaining_time": 159.0824858,
                        "learn": [
                          0.06807842363
                        ]
                      },
                      {
                        "test": [
                          0.06805988969
                        ],
                        "passed_time": 51.25905255,
                        "iteration": 243,
                        "remaining_time": 158.8190317,
                        "learn": [
                          0.06807835094
                        ]
                      },
                      {
                        "test": [
                          0.06805986252
                        ],
                        "passed_time": 51.45112558,
                        "iteration": 244,
                        "remaining_time": 158.5534686,
                        "learn": [
                          0.06807832633
                        ]
                      },
                      {
                        "test": [
                          0.06805985519
                        ],
                        "passed_time": 51.64822363,
                        "iteration": 245,
                        "remaining_time": 158.303905,
                        "learn": [
                          0.06807829598
                        ]
                      },
                      {
                        "test": [
                          0.06805982603
                        ],
                        "passed_time": 51.87213994,
                        "iteration": 246,
                        "remaining_time": 158.1365238,
                        "learn": [
                          0.06807820471
                        ]
                      },
                      {
                        "test": [
                          0.06805983571
                        ],
                        "passed_time": 52.0645032,
                        "iteration": 247,
                        "remaining_time": 157.8730097,
                        "learn": [
                          0.06807818392
                        ]
                      },
                      {
                        "test": [
                          0.06805982627
                        ],
                        "passed_time": 52.26455027,
                        "iteration": 248,
                        "remaining_time": 157.633242,
                        "learn": [
                          0.06807811696
                        ]
                      },
                      {
                        "test": [
                          0.06805982781
                        ],
                        "passed_time": 52.45536774,
                        "iteration": 249,
                        "remaining_time": 157.3661032,
                        "learn": [
                          0.06807805758
                        ]
                      },
                      {
                        "test": [
                          0.06805980411
                        ],
                        "passed_time": 52.65057986,
                        "iteration": 250,
                        "remaining_time": 157.1126865,
                        "learn": [
                          0.06807802853
                        ]
                      },
                      {
                        "test": [
                          0.06805980581
                        ],
                        "passed_time": 52.8640209,
                        "iteration": 251,
                        "remaining_time": 156.9138398,
                        "learn": [
                          0.06807801755
                        ]
                      },
                      {
                        "test": [
                          0.06805979761
                        ],
                        "passed_time": 53.06769917,
                        "iteration": 252,
                        "remaining_time": 156.6860525,
                        "learn": [
                          0.06807795299
                        ]
                      },
                      {
                        "test": [
                          0.068059792
                        ],
                        "passed_time": 53.26569568,
                        "iteration": 253,
                        "remaining_time": 156.4417676,
                        "learn": [
                          0.0680779203
                        ]
                      },
                      {
                        "test": [
                          0.06805978562
                        ],
                        "passed_time": 53.45870649,
                        "iteration": 254,
                        "remaining_time": 156.1832798,
                        "learn": [
                          0.06807788568
                        ]
                      },
                      {
                        "test": [
                          0.0680597682
                        ],
                        "passed_time": 53.65704025,
                        "iteration": 255,
                        "remaining_time": 155.9407732,
                        "learn": [
                          0.06807785986
                        ]
                      },
                      {
                        "test": [
                          0.06805975616
                        ],
                        "passed_time": 53.87125548,
                        "iteration": 256,
                        "remaining_time": 155.7445246,
                        "learn": [
                          0.06807783941
                        ]
                      },
                      {
                        "test": [
                          0.068059745
                        ],
                        "passed_time": 54.07175845,
                        "iteration": 257,
                        "remaining_time": 155.5087007,
                        "learn": [
                          0.06807782363
                        ]
                      },
                      {
                        "test": [
                          0.0680597401
                        ],
                        "passed_time": 54.27073471,
                        "iteration": 258,
                        "remaining_time": 155.2687815,
                        "learn": [
                          0.06807776677
                        ]
                      },
                      {
                        "test": [
                          0.06805972362
                        ],
                        "passed_time": 54.4753139,
                        "iteration": 259,
                        "remaining_time": 155.0451242,
                        "learn": [
                          0.06807774069
                        ]
                      },
                      {
                        "test": [
                          0.06805972502
                        ],
                        "passed_time": 54.67223655,
                        "iteration": 260,
                        "remaining_time": 154.7999341,
                        "learn": [
                          0.06807772785
                        ]
                      },
                      {
                        "test": [
                          0.0680597166
                        ],
                        "passed_time": 54.8974624,
                        "iteration": 261,
                        "remaining_time": 154.6348368,
                        "learn": [
                          0.06807771264
                        ]
                      },
                      {
                        "test": [
                          0.06805971137
                        ],
                        "passed_time": 55.1156808,
                        "iteration": 262,
                        "remaining_time": 154.4496454,
                        "learn": [
                          0.06807769512
                        ]
                      },
                      {
                        "test": [
                          0.06805970058
                        ],
                        "passed_time": 55.31560728,
                        "iteration": 263,
                        "remaining_time": 154.2132082,
                        "learn": [
                          0.06807768231
                        ]
                      },
                      {
                        "test": [
                          0.06805970988
                        ],
                        "passed_time": 55.51275089,
                        "iteration": 264,
                        "remaining_time": 153.9693279,
                        "learn": [
                          0.06807765825
                        ]
                      },
                      {
                        "test": [
                          0.06805970505
                        ],
                        "passed_time": 55.71057433,
                        "iteration": 265,
                        "remaining_time": 153.727675,
                        "learn": [
                          0.06807758454
                        ]
                      },
                      {
                        "test": [
                          0.06805971366
                        ],
                        "passed_time": 55.92961043,
                        "iteration": 266,
                        "remaining_time": 153.5445859,
                        "learn": [
                          0.06807750381
                        ]
                      },
                      {
                        "test": [
                          0.06805971814
                        ],
                        "passed_time": 56.13845179,
                        "iteration": 267,
                        "remaining_time": 153.3333832,
                        "learn": [
                          0.06807749808
                        ]
                      },
                      {
                        "test": [
                          0.068059709
                        ],
                        "passed_time": 56.34246923,
                        "iteration": 268,
                        "remaining_time": 153.1090893,
                        "learn": [
                          0.06807748884
                        ]
                      },
                      {
                        "test": [
                          0.06805969328
                        ],
                        "passed_time": 56.54389938,
                        "iteration": 269,
                        "remaining_time": 152.8779502,
                        "learn": [
                          0.06807747447
                        ]
                      },
                      {
                        "test": [
                          0.06805968496
                        ],
                        "passed_time": 56.75595918,
                        "iteration": 270,
                        "remaining_time": 152.6756245,
                        "learn": [
                          0.06807741969
                        ]
                      },
                      {
                        "test": [
                          0.06805967408
                        ],
                        "passed_time": 56.98435558,
                        "iteration": 271,
                        "remaining_time": 152.5169517,
                        "learn": [
                          0.06807740889
                        ]
                      },
                      {
                        "test": [
                          0.06805968303
                        ],
                        "passed_time": 57.18050725,
                        "iteration": 272,
                        "remaining_time": 152.2719003,
                        "learn": [
                          0.06807738916
                        ]
                      },
                      {
                        "test": [
                          0.06805968191
                        ],
                        "passed_time": 57.37973132,
                        "iteration": 273,
                        "remaining_time": 152.0353465,
                        "learn": [
                          0.06807735569
                        ]
                      },
                      {
                        "test": [
                          0.06805968042
                        ],
                        "passed_time": 57.58550111,
                        "iteration": 274,
                        "remaining_time": 151.8163211,
                        "learn": [
                          0.06807733911
                        ]
                      },
                      {
                        "test": [
                          0.06805972199
                        ],
                        "passed_time": 57.77995278,
                        "iteration": 275,
                        "remaining_time": 151.5677022,
                        "learn": [
                          0.06807727847
                        ]
                      },
                      {
                        "test": [
                          0.06805972316
                        ],
                        "passed_time": 58.00541881,
                        "iteration": 276,
                        "remaining_time": 151.4004253,
                        "learn": [
                          0.068077253
                        ]
                      },
                      {
                        "test": [
                          0.06805971401
                        ],
                        "passed_time": 58.20375332,
                        "iteration": 277,
                        "remaining_time": 151.1622658,
                        "learn": [
                          0.06807722011
                        ]
                      },
                      {
                        "test": [
                          0.06805975138
                        ],
                        "passed_time": 58.40241493,
                        "iteration": 278,
                        "remaining_time": 150.9252371,
                        "learn": [
                          0.06807717552
                        ]
                      },
                      {
                        "test": [
                          0.06805973951
                        ],
                        "passed_time": 58.59959808,
                        "iteration": 279,
                        "remaining_time": 150.6846808,
                        "learn": [
                          0.06807716042
                        ]
                      },
                      {
                        "test": [
                          0.06805971909
                        ],
                        "passed_time": 58.79790411,
                        "iteration": 280,
                        "remaining_time": 150.4473062,
                        "learn": [
                          0.06807714636
                        ]
                      },
                      {
                        "test": [
                          0.06805971527
                        ],
                        "passed_time": 59.02939376,
                        "iteration": 281,
                        "remaining_time": 150.2946976,
                        "learn": [
                          0.06807711958
                        ]
                      },
                      {
                        "test": [
                          0.06805974811
                        ],
                        "passed_time": 59.23306436,
                        "iteration": 282,
                        "remaining_time": 150.07105,
                        "learn": [
                          0.06807707025
                        ]
                      },
                      {
                        "test": [
                          0.06805975724
                        ],
                        "passed_time": 59.44243306,
                        "iteration": 283,
                        "remaining_time": 149.8619087,
                        "learn": [
                          0.06807705705
                        ]
                      },
                      {
                        "test": [
                          0.06805977104
                        ],
                        "passed_time": 59.6445609,
                        "iteration": 284,
                        "remaining_time": 149.6346002,
                        "learn": [
                          0.06807695475
                        ]
                      },
                      {
                        "test": [
                          0.06805976664
                        ],
                        "passed_time": 59.84239523,
                        "iteration": 285,
                        "remaining_time": 149.3967489,
                        "learn": [
                          0.06807694832
                        ]
                      },
                      {
                        "test": [
                          0.06805977492
                        ],
                        "passed_time": 60.13761612,
                        "iteration": 286,
                        "remaining_time": 149.401116,
                        "learn": [
                          0.06807693692
                        ]
                      },
                      {
                        "test": [
                          0.06805976843
                        ],
                        "passed_time": 60.33868471,
                        "iteration": 287,
                        "remaining_time": 149.1706372,
                        "learn": [
                          0.06807692517
                        ]
                      },
                      {
                        "test": [
                          0.06805981949
                        ],
                        "passed_time": 60.54871602,
                        "iteration": 288,
                        "remaining_time": 148.9624121,
                        "learn": [
                          0.0680767849
                        ]
                      },
                      {
                        "test": [
                          0.06805981854
                        ],
                        "passed_time": 60.75515976,
                        "iteration": 289,
                        "remaining_time": 148.7453911,
                        "learn": [
                          0.06807676793
                        ]
                      },
                      {
                        "test": [
                          0.06805979038
                        ],
                        "passed_time": 60.97663707,
                        "iteration": 290,
                        "remaining_time": 148.5650711,
                        "learn": [
                          0.06807670754
                        ]
                      },
                      {
                        "test": [
                          0.06805978737
                        ],
                        "passed_time": 61.19876033,
                        "iteration": 291,
                        "remaining_time": 148.3860353,
                        "learn": [
                          0.06807669104
                        ]
                      },
                      {
                        "test": [
                          0.06805979428
                        ],
                        "passed_time": 61.40488542,
                        "iteration": 292,
                        "remaining_time": 148.1681024,
                        "learn": [
                          0.06807664286
                        ]
                      },
                      {
                        "test": [
                          0.06805979605
                        ],
                        "passed_time": 61.61156704,
                        "iteration": 293,
                        "remaining_time": 147.9515862,
                        "learn": [
                          0.06807663535
                        ]
                      },
                      {
                        "test": [
                          0.06805978488
                        ],
                        "passed_time": 61.8208044,
                        "iteration": 294,
                        "remaining_time": 147.7412444,
                        "learn": [
                          0.06807655036
                        ]
                      },
                      {
                        "test": [
                          0.06805977705
                        ],
                        "passed_time": 62.04507522,
                        "iteration": 295,
                        "remaining_time": 147.5666654,
                        "learn": [
                          0.06807651147
                        ]
                      },
                      {
                        "test": [
                          0.06805978071
                        ],
                        "passed_time": 62.26190728,
                        "iteration": 296,
                        "remaining_time": 147.3741442,
                        "learn": [
                          0.06807650128
                        ]
                      },
                      {
                        "test": [
                          0.06805978823
                        ],
                        "passed_time": 62.46289786,
                        "iteration": 297,
                        "remaining_time": 147.1441419,
                        "learn": [
                          0.06807648758
                        ]
                      },
                      {
                        "test": [
                          0.06805978444
                        ],
                        "passed_time": 62.6647051,
                        "iteration": 298,
                        "remaining_time": 146.9162484,
                        "learn": [
                          0.06807646527
                        ]
                      },
                      {
                        "test": [
                          0.06805978951
                        ],
                        "passed_time": 62.8622274,
                        "iteration": 299,
                        "remaining_time": 146.6785306,
                        "learn": [
                          0.06807646252
                        ]
                      },
                      {
                        "test": [
                          0.06805977649
                        ],
                        "passed_time": 63.07894193,
                        "iteration": 300,
                        "remaining_time": 146.4856492,
                        "learn": [
                          0.06807645043
                        ]
                      },
                      {
                        "test": [
                          0.06805977617
                        ],
                        "passed_time": 63.29262422,
                        "iteration": 301,
                        "remaining_time": 146.2856017,
                        "learn": [
                          0.06807641898
                        ]
                      },
                      {
                        "test": [
                          0.06805977416
                        ],
                        "passed_time": 63.50275263,
                        "iteration": 302,
                        "remaining_time": 146.077289,
                        "learn": [
                          0.06807641358
                        ]
                      },
                      {
                        "test": [
                          0.06805976085
                        ],
                        "passed_time": 63.70412447,
                        "iteration": 303,
                        "remaining_time": 145.8489165,
                        "learn": [
                          0.06807636096
                        ]
                      },
                      {
                        "test": [
                          0.06805977494
                        ],
                        "passed_time": 63.90637126,
                        "iteration": 304,
                        "remaining_time": 145.6227148,
                        "learn": [
                          0.06807635022
                        ]
                      },
                      {
                        "test": [
                          0.06805976719
                        ],
                        "passed_time": 64.13072524,
                        "iteration": 305,
                        "remaining_time": 145.4468082,
                        "learn": [
                          0.06807634094
                        ]
                      },
                      {
                        "test": [
                          0.06805975823
                        ],
                        "passed_time": 64.34693172,
                        "iteration": 306,
                        "remaining_time": 145.2521944,
                        "learn": [
                          0.06807624304
                        ]
                      },
                      {
                        "test": [
                          0.0680597552
                        ],
                        "passed_time": 64.54336584,
                        "iteration": 307,
                        "remaining_time": 145.0130168,
                        "learn": [
                          0.06807623471
                        ]
                      },
                      {
                        "test": [
                          0.06805976179
                        ],
                        "passed_time": 64.746267,
                        "iteration": 308,
                        "remaining_time": 144.7885777,
                        "learn": [
                          0.06807622605
                        ]
                      },
                      {
                        "test": [
                          0.06805975981
                        ],
                        "passed_time": 64.94060947,
                        "iteration": 309,
                        "remaining_time": 144.5452275,
                        "learn": [
                          0.06807622349
                        ]
                      },
                      {
                        "test": [
                          0.06805976916
                        ],
                        "passed_time": 65.16085269,
                        "iteration": 310,
                        "remaining_time": 144.359574,
                        "learn": [
                          0.06807621366
                        ]
                      },
                      {
                        "test": [
                          0.06805976002
                        ],
                        "passed_time": 65.37253003,
                        "iteration": 311,
                        "remaining_time": 144.1548098,
                        "learn": [
                          0.06807620477
                        ]
                      },
                      {
                        "test": [
                          0.06805975589
                        ],
                        "passed_time": 65.57179529,
                        "iteration": 312,
                        "remaining_time": 143.9227583,
                        "learn": [
                          0.06807618555
                        ]
                      },
                      {
                        "test": [
                          0.06805975338
                        ],
                        "passed_time": 65.78168132,
                        "iteration": 313,
                        "remaining_time": 143.7141191,
                        "learn": [
                          0.0680761662
                        ]
                      },
                      {
                        "test": [
                          0.06805976101
                        ],
                        "passed_time": 65.98918942,
                        "iteration": 314,
                        "remaining_time": 143.5003008,
                        "learn": [
                          0.06807614201
                        ]
                      },
                      {
                        "test": [
                          0.06805975867
                        ],
                        "passed_time": 66.21704384,
                        "iteration": 315,
                        "remaining_time": 143.3305633,
                        "learn": [
                          0.06807613176
                        ]
                      },
                      {
                        "test": [
                          0.06805975704
                        ],
                        "passed_time": 66.42670242,
                        "iteration": 316,
                        "remaining_time": 143.1212547,
                        "learn": [
                          0.06807611395
                        ]
                      },
                      {
                        "test": [
                          0.06805977548
                        ],
                        "passed_time": 66.64198701,
                        "iteration": 317,
                        "remaining_time": 142.9240099,
                        "learn": [
                          0.06807606456
                        ]
                      },
                      {
                        "test": [
                          0.06805980479
                        ],
                        "passed_time": 66.84620066,
                        "iteration": 318,
                        "remaining_time": 142.7030177,
                        "learn": [
                          0.06807597523
                        ]
                      },
                      {
                        "test": [
                          0.06805979578
                        ],
                        "passed_time": 67.06051847,
                        "iteration": 319,
                        "remaining_time": 142.5036018,
                        "learn": [
                          0.06807596733
                        ]
                      },
                      {
                        "test": [
                          0.06805979767
                        ],
                        "passed_time": 67.29823484,
                        "iteration": 320,
                        "remaining_time": 142.3535871,
                        "learn": [
                          0.06807595106
                        ]
                      },
                      {
                        "test": [
                          0.06805979265
                        ],
                        "passed_time": 67.50406597,
                        "iteration": 321,
                        "remaining_time": 142.1358905,
                        "learn": [
                          0.06807591913
                        ]
                      },
                      {
                        "test": [
                          0.06805979153
                        ],
                        "passed_time": 67.70967655,
                        "iteration": 322,
                        "remaining_time": 141.917805,
                        "learn": [
                          0.0680759036
                        ]
                      },
                      {
                        "test": [
                          0.06805978616
                        ],
                        "passed_time": 67.9199867,
                        "iteration": 323,
                        "remaining_time": 141.7096019,
                        "learn": [
                          0.06807588489
                        ]
                      },
                      {
                        "test": [
                          0.06805978709
                        ],
                        "passed_time": 68.12533394,
                        "iteration": 324,
                        "remaining_time": 141.4910782,
                        "learn": [
                          0.06807588256
                        ]
                      },
                      {
                        "test": [
                          0.06805979143
                        ],
                        "passed_time": 68.36606041,
                        "iteration": 325,
                        "remaining_time": 141.3457813,
                        "learn": [
                          0.06807587036
                        ]
                      },
                      {
                        "test": [
                          0.06805979208
                        ],
                        "passed_time": 68.57392781,
                        "iteration": 326,
                        "remaining_time": 141.1322734,
                        "learn": [
                          0.06807586327
                        ]
                      },
                      {
                        "test": [
                          0.06805978699
                        ],
                        "passed_time": 68.78356884,
                        "iteration": 327,
                        "remaining_time": 140.9224337,
                        "learn": [
                          0.0680758444
                        ]
                      },
                      {
                        "test": [
                          0.06805978012
                        ],
                        "passed_time": 68.98908151,
                        "iteration": 328,
                        "remaining_time": 140.7041754,
                        "learn": [
                          0.06807584218
                        ]
                      },
                      {
                        "test": [
                          0.06805978097
                        ],
                        "passed_time": 69.19289225,
                        "iteration": 329,
                        "remaining_time": 140.4825388,
                        "learn": [
                          0.06807583454
                        ]
                      },
                      {
                        "test": [
                          0.06805977633
                        ],
                        "passed_time": 69.42953119,
                        "iteration": 330,
                        "remaining_time": 140.3273606,
                        "learn": [
                          0.06807582698
                        ]
                      },
                      {
                        "test": [
                          0.06805977235
                        ],
                        "passed_time": 69.6323893,
                        "iteration": 331,
                        "remaining_time": 140.103723,
                        "learn": [
                          0.06807578727
                        ]
                      },
                      {
                        "test": [
                          0.06805976839
                        ],
                        "passed_time": 69.83249744,
                        "iteration": 332,
                        "remaining_time": 139.8747021,
                        "learn": [
                          0.0680757838
                        ]
                      },
                      {
                        "test": [
                          0.06805976237
                        ],
                        "passed_time": 70.03690518,
                        "iteration": 333,
                        "remaining_time": 139.6544277,
                        "learn": [
                          0.068075746
                        ]
                      },
                      {
                        "test": [
                          0.06805976615
                        ],
                        "passed_time": 70.24437022,
                        "iteration": 334,
                        "remaining_time": 139.440317,
                        "learn": [
                          0.06807569975
                        ]
                      },
                      {
                        "test": [
                          0.06805976878
                        ],
                        "passed_time": 70.48643988,
                        "iteration": 335,
                        "remaining_time": 139.2946312,
                        "learn": [
                          0.06807567974
                        ]
                      },
                      {
                        "test": [
                          0.06805976782
                        ],
                        "passed_time": 70.69452186,
                        "iteration": 336,
                        "remaining_time": 139.0815074,
                        "learn": [
                          0.06807566463
                        ]
                      },
                      {
                        "test": [
                          0.06805976384
                        ],
                        "passed_time": 70.89890314,
                        "iteration": 337,
                        "remaining_time": 138.8611653,
                        "learn": [
                          0.06807565247
                        ]
                      },
                      {
                        "test": [
                          0.06805976011
                        ],
                        "passed_time": 71.10537123,
                        "iteration": 338,
                        "remaining_time": 138.6449864,
                        "learn": [
                          0.06807564609
                        ]
                      },
                      {
                        "test": [
                          0.06805976596
                        ],
                        "passed_time": 71.30681742,
                        "iteration": 339,
                        "remaining_time": 138.4191162,
                        "learn": [
                          0.06807564189
                        ]
                      },
                      {
                        "test": [
                          0.06805976525
                        ],
                        "passed_time": 71.55063311,
                        "iteration": 340,
                        "remaining_time": 138.2752704,
                        "learn": [
                          0.06807561825
                        ]
                      },
                      {
                        "test": [
                          0.06805976384
                        ],
                        "passed_time": 71.75742698,
                        "iteration": 341,
                        "remaining_time": 138.059611,
                        "learn": [
                          0.06807560582
                        ]
                      },
                      {
                        "test": [
                          0.06805976287
                        ],
                        "passed_time": 71.96585223,
                        "iteration": 342,
                        "remaining_time": 137.847128,
                        "learn": [
                          0.06807560406
                        ]
                      },
                      {
                        "test": [
                          0.06805976748
                        ],
                        "passed_time": 72.18765194,
                        "iteration": 343,
                        "remaining_time": 137.6601735,
                        "learn": [
                          0.06807559417
                        ]
                      },
                      {
                        "test": [
                          0.06805976643
                        ],
                        "passed_time": 72.39654876,
                        "iteration": 344,
                        "remaining_time": 137.4485201,
                        "learn": [
                          0.06807558662
                        ]
                      },
                      {
                        "test": [
                          0.06805975943
                        ],
                        "passed_time": 72.63988567,
                        "iteration": 345,
                        "remaining_time": 137.3019804,
                        "learn": [
                          0.06807554272
                        ]
                      },
                      {
                        "test": [
                          0.06805975403
                        ],
                        "passed_time": 72.84313471,
                        "iteration": 346,
                        "remaining_time": 137.0794437,
                        "learn": [
                          0.06807554117
                        ]
                      },
                      {
                        "test": [
                          0.06805974751
                        ],
                        "passed_time": 73.04898641,
                        "iteration": 347,
                        "remaining_time": 136.8618941,
                        "learn": [
                          0.06807549239
                        ]
                      },
                      {
                        "test": [
                          0.06805974232
                        ],
                        "passed_time": 73.26396514,
                        "iteration": 348,
                        "remaining_time": 136.6614364,
                        "learn": [
                          0.06807548608
                        ]
                      },
                      {
                        "test": [
                          0.06805974481
                        ],
                        "passed_time": 73.49357068,
                        "iteration": 349,
                        "remaining_time": 136.4880598,
                        "learn": [
                          0.06807547051
                        ]
                      },
                      {
                        "test": [
                          0.06805973687
                        ],
                        "passed_time": 73.70592842,
                        "iteration": 350,
                        "remaining_time": 136.2824716,
                        "learn": [
                          0.06807545221
                        ]
                      },
                      {
                        "test": [
                          0.06805973791
                        ],
                        "passed_time": 73.90643519,
                        "iteration": 351,
                        "remaining_time": 136.0550284,
                        "learn": [
                          0.06807544
                        ]
                      },
                      {
                        "test": [
                          0.0680597492
                        ],
                        "passed_time": 74.11333956,
                        "iteration": 352,
                        "remaining_time": 135.8394637,
                        "learn": [
                          0.06807541026
                        ]
                      },
                      {
                        "test": [
                          0.06805974773
                        ],
                        "passed_time": 74.31488414,
                        "iteration": 353,
                        "remaining_time": 135.6141671,
                        "learn": [
                          0.06807539664
                        ]
                      },
                      {
                        "test": [
                          0.06805978518
                        ],
                        "passed_time": 74.9607255,
                        "iteration": 354,
                        "remaining_time": 136.1962477,
                        "learn": [
                          0.06807533679
                        ]
                      },
                      {
                        "test": [
                          0.06805978271
                        ],
                        "passed_time": 75.17247079,
                        "iteration": 355,
                        "remaining_time": 135.986155,
                        "learn": [
                          0.06807533264
                        ]
                      },
                      {
                        "test": [
                          0.06805978592
                        ],
                        "passed_time": 75.37582792,
                        "iteration": 356,
                        "remaining_time": 135.760945,
                        "learn": [
                          0.06807533102
                        ]
                      },
                      {
                        "test": [
                          0.06805978785
                        ],
                        "passed_time": 75.59204399,
                        "iteration": 357,
                        "remaining_time": 135.5589169,
                        "learn": [
                          0.06807530593
                        ]
                      },
                      {
                        "test": [
                          0.06805978396
                        ],
                        "passed_time": 75.8287613,
                        "iteration": 358,
                        "remaining_time": 135.393415,
                        "learn": [
                          0.06807526606
                        ]
                      },
                      {
                        "test": [
                          0.06805977839
                        ],
                        "passed_time": 76.03614109,
                        "iteration": 359,
                        "remaining_time": 135.1753619,
                        "learn": [
                          0.06807526111
                        ]
                      },
                      {
                        "test": [
                          0.06805977691
                        ],
                        "passed_time": 76.24773808,
                        "iteration": 360,
                        "remaining_time": 134.9648328,
                        "learn": [
                          0.06807523539
                        ]
                      },
                      {
                        "test": [
                          0.06805977289
                        ],
                        "passed_time": 76.45569868,
                        "iteration": 361,
                        "remaining_time": 134.7478888,
                        "learn": [
                          0.06807521373
                        ]
                      },
                      {
                        "test": [
                          0.06805977154
                        ],
                        "passed_time": 76.68442648,
                        "iteration": 362,
                        "remaining_time": 134.5674371,
                        "learn": [
                          0.06807520806
                        ]
                      },
                      {
                        "test": [
                          0.0680597783
                        ],
                        "passed_time": 76.89937128,
                        "iteration": 363,
                        "remaining_time": 134.3626377,
                        "learn": [
                          0.06807519727
                        ]
                      },
                      {
                        "test": [
                          0.06805977918
                        ],
                        "passed_time": 77.10873801,
                        "iteration": 364,
                        "remaining_time": 134.1480785,
                        "learn": [
                          0.06807519375
                        ]
                      },
                      {
                        "test": [
                          0.06805977881
                        ],
                        "passed_time": 77.31748713,
                        "iteration": 365,
                        "remaining_time": 133.9324777,
                        "learn": [
                          0.06807516943
                        ]
                      },
                      {
                        "test": [
                          0.06805977748
                        ],
                        "passed_time": 77.53587699,
                        "iteration": 366,
                        "remaining_time": 133.7335426,
                        "learn": [
                          0.06807515039
                        ]
                      },
                      {
                        "test": [
                          0.06805977715
                        ],
                        "passed_time": 77.76029005,
                        "iteration": 367,
                        "remaining_time": 133.544846,
                        "learn": [
                          0.06807513683
                        ]
                      },
                      {
                        "test": [
                          0.06805977771
                        ],
                        "passed_time": 77.97048125,
                        "iteration": 368,
                        "remaining_time": 133.331636,
                        "learn": [
                          0.06807513078
                        ]
                      },
                      {
                        "test": [
                          0.06805977713
                        ],
                        "passed_time": 78.18272115,
                        "iteration": 369,
                        "remaining_time": 133.1219306,
                        "learn": [
                          0.06807512091
                        ]
                      },
                      {
                        "test": [
                          0.06805977808
                        ],
                        "passed_time": 78.39305837,
                        "iteration": 370,
                        "remaining_time": 132.9089858,
                        "learn": [
                          0.06807511699
                        ]
                      },
                      {
                        "test": [
                          0.06805978179
                        ],
                        "passed_time": 78.60607744,
                        "iteration": 371,
                        "remaining_time": 132.7005823,
                        "learn": [
                          0.06807509878
                        ]
                      },
                      {
                        "test": [
                          0.06805977835
                        ],
                        "passed_time": 78.83476305,
                        "iteration": 372,
                        "remaining_time": 132.5184891,
                        "learn": [
                          0.0680750943
                        ]
                      },
                      {
                        "test": [
                          0.06805977407
                        ],
                        "passed_time": 79.03758829,
                        "iteration": 373,
                        "remaining_time": 132.2928617,
                        "learn": [
                          0.06807506601
                        ]
                      },
                      {
                        "test": [
                          0.06805977058
                        ],
                        "passed_time": 79.24651679,
                        "iteration": 374,
                        "remaining_time": 132.077528,
                        "learn": [
                          0.06807506432
                        ]
                      },
                      {
                        "test": [
                          0.06805977461
                        ],
                        "passed_time": 79.4523807,
                        "iteration": 375,
                        "remaining_time": 131.8571424,
                        "learn": [
                          0.06807498786
                        ]
                      },
                      {
                        "test": [
                          0.06805977444
                        ],
                        "passed_time": 79.66341166,
                        "iteration": 376,
                        "remaining_time": 131.6453726,
                        "learn": [
                          0.06807498375
                        ]
                      },
                      {
                        "test": [
                          0.06805977004
                        ],
                        "passed_time": 79.88927833,
                        "iteration": 377,
                        "remaining_time": 131.4580188,
                        "learn": [
                          0.06807493252
                        ]
                      },
                      {
                        "test": [
                          0.06805976441
                        ],
                        "passed_time": 80.10629046,
                        "iteration": 378,
                        "remaining_time": 131.2559535,
                        "learn": [
                          0.06807489529
                        ]
                      },
                      {
                        "test": [
                          0.06805976758
                        ],
                        "passed_time": 80.31417128,
                        "iteration": 379,
                        "remaining_time": 131.038911,
                        "learn": [
                          0.06807488802
                        ]
                      },
                      {
                        "test": [
                          0.06805977078
                        ],
                        "passed_time": 80.52461447,
                        "iteration": 380,
                        "remaining_time": 130.8260797,
                        "learn": [
                          0.06807487611
                        ]
                      },
                      {
                        "test": [
                          0.06805976864
                        ],
                        "passed_time": 80.73866251,
                        "iteration": 381,
                        "remaining_time": 130.6190928,
                        "learn": [
                          0.06807486907
                        ]
                      },
                      {
                        "test": [
                          0.06805978337
                        ],
                        "passed_time": 80.97954624,
                        "iteration": 382,
                        "remaining_time": 130.4553003,
                        "learn": [
                          0.06807485807
                        ]
                      },
                      {
                        "test": [
                          0.06805978408
                        ],
                        "passed_time": 81.37871345,
                        "iteration": 383,
                        "remaining_time": 130.5450195,
                        "learn": [
                          0.068074842
                        ]
                      },
                      {
                        "test": [
                          0.06805981645
                        ],
                        "passed_time": 81.6275568,
                        "iteration": 384,
                        "remaining_time": 130.3920713,
                        "learn": [
                          0.06807479276
                        ]
                      },
                      {
                        "test": [
                          0.06805980945
                        ],
                        "passed_time": 81.88810076,
                        "iteration": 385,
                        "remaining_time": 130.257238,
                        "learn": [
                          0.06807473841
                        ]
                      },
                      {
                        "test": [
                          0.06805980699
                        ],
                        "passed_time": 82.21615674,
                        "iteration": 386,
                        "remaining_time": 130.2286927,
                        "learn": [
                          0.0680747339
                        ]
                      },
                      {
                        "test": [
                          0.06805980751
                        ],
                        "passed_time": 82.4332356,
                        "iteration": 387,
                        "remaining_time": 130.0235572,
                        "learn": [
                          0.06807471225
                        ]
                      },
                      {
                        "test": [
                          0.06805981097
                        ],
                        "passed_time": 82.83756137,
                        "iteration": 388,
                        "remaining_time": 130.1124679,
                        "learn": [
                          0.06807470192
                        ]
                      },
                      {
                        "test": [
                          0.06805981053
                        ],
                        "passed_time": 83.25276912,
                        "iteration": 389,
                        "remaining_time": 130.2158696,
                        "learn": [
                          0.06807469809
                        ]
                      },
                      {
                        "test": [
                          0.06805980568
                        ],
                        "passed_time": 83.58344086,
                        "iteration": 390,
                        "remaining_time": 130.1849501,
                        "learn": [
                          0.06807466837
                        ]
                      },
                      {
                        "test": [
                          0.06805980076
                        ],
                        "passed_time": 83.95529477,
                        "iteration": 391,
                        "remaining_time": 130.2163756,
                        "learn": [
                          0.0680746594
                        ]
                      },
                      {
                        "test": [
                          0.06805980291
                        ],
                        "passed_time": 84.3802343,
                        "iteration": 392,
                        "remaining_time": 130.327741,
                        "learn": [
                          0.0680746119
                        ]
                      },
                      {
                        "test": [
                          0.06805979546
                        ],
                        "passed_time": 84.77329436,
                        "iteration": 393,
                        "remaining_time": 130.3873512,
                        "learn": [
                          0.06807457708
                        ]
                      },
                      {
                        "test": [
                          0.06805979082
                        ],
                        "passed_time": 85.17396138,
                        "iteration": 394,
                        "remaining_time": 130.4563206,
                        "learn": [
                          0.06807457028
                        ]
                      },
                      {
                        "test": [
                          0.06805980289
                        ],
                        "passed_time": 85.56793437,
                        "iteration": 395,
                        "remaining_time": 130.512708,
                        "learn": [
                          0.06807452965
                        ]
                      },
                      {
                        "test": [
                          0.06805980782
                        ],
                        "passed_time": 85.94435372,
                        "iteration": 396,
                        "remaining_time": 130.5401645,
                        "learn": [
                          0.06807450421
                        ]
                      },
                      {
                        "test": [
                          0.06805981321
                        ],
                        "passed_time": 86.32023588,
                        "iteration": 397,
                        "remaining_time": 130.5647789,
                        "learn": [
                          0.068074497
                        ]
                      },
                      {
                        "test": [
                          0.06805981594
                        ],
                        "passed_time": 86.64989774,
                        "iteration": 398,
                        "remaining_time": 130.5177658,
                        "learn": [
                          0.06807447888
                        ]
                      },
                      {
                        "test": [
                          0.06805981147
                        ],
                        "passed_time": 87.05370019,
                        "iteration": 399,
                        "remaining_time": 130.5805503,
                        "learn": [
                          0.06807443774
                        ]
                      },
                      {
                        "test": [
                          0.06805981138
                        ],
                        "passed_time": 87.76144794,
                        "iteration": 400,
                        "remaining_time": 131.0950307,
                        "learn": [
                          0.06807443607
                        ]
                      },
                      {
                        "test": [
                          0.06805980094
                        ],
                        "passed_time": 88.03029788,
                        "iteration": 401,
                        "remaining_time": 130.9505426,
                        "learn": [
                          0.06807440415
                        ]
                      },
                      {
                        "test": [
                          0.06805980106
                        ],
                        "passed_time": 88.23322452,
                        "iteration": 402,
                        "remaining_time": 130.7077792,
                        "learn": [
                          0.06807437931
                        ]
                      },
                      {
                        "test": [
                          0.06805982878
                        ],
                        "passed_time": 88.46727201,
                        "iteration": 403,
                        "remaining_time": 130.511124,
                        "learn": [
                          0.06807430376
                        ]
                      },
                      {
                        "test": [
                          0.0680598332
                        ],
                        "passed_time": 88.67140604,
                        "iteration": 404,
                        "remaining_time": 130.2703373,
                        "learn": [
                          0.06807428936
                        ]
                      },
                      {
                        "test": [
                          0.06805986604
                        ],
                        "passed_time": 88.88325989,
                        "iteration": 405,
                        "remaining_time": 130.0410256,
                        "learn": [
                          0.06807427632
                        ]
                      },
                      {
                        "test": [
                          0.0680598798
                        ],
                        "passed_time": 89.09041658,
                        "iteration": 406,
                        "remaining_time": 129.8049558,
                        "learn": [
                          0.0680742396
                        ]
                      },
                      {
                        "test": [
                          0.06805987917
                        ],
                        "passed_time": 89.30104703,
                        "iteration": 407,
                        "remaining_time": 129.5740682,
                        "learn": [
                          0.06807420347
                        ]
                      },
                      {
                        "test": [
                          0.06805987792
                        ],
                        "passed_time": 89.54084743,
                        "iteration": 408,
                        "remaining_time": 129.3854299,
                        "learn": [
                          0.06807419027
                        ]
                      },
                      {
                        "test": [
                          0.06805987849
                        ],
                        "passed_time": 89.74336877,
                        "iteration": 409,
                        "remaining_time": 129.1428965,
                        "learn": [
                          0.06807415907
                        ]
                      },
                      {
                        "test": [
                          0.06805987866
                        ],
                        "passed_time": 89.94733825,
                        "iteration": 410,
                        "remaining_time": 128.9026332,
                        "learn": [
                          0.06807415152
                        ]
                      },
                      {
                        "test": [
                          0.06805987683
                        ],
                        "passed_time": 90.16541811,
                        "iteration": 411,
                        "remaining_time": 128.6826841,
                        "learn": [
                          0.06807414642
                        ]
                      },
                      {
                        "test": [
                          0.0680598754
                        ],
                        "passed_time": 90.36660559,
                        "iteration": 412,
                        "remaining_time": 128.4387348,
                        "learn": [
                          0.0680741332
                        ]
                      },
                      {
                        "test": [
                          0.06805987556
                        ],
                        "passed_time": 90.77849351,
                        "iteration": 413,
                        "remaining_time": 128.49323,
                        "learn": [
                          0.06807411716
                        ]
                      },
                      {
                        "test": [
                          0.06805987406
                        ],
                        "passed_time": 91.18734043,
                        "iteration": 414,
                        "remaining_time": 128.5411907,
                        "learn": [
                          0.06807408999
                        ]
                      },
                      {
                        "test": [
                          0.06805987571
                        ],
                        "passed_time": 91.64509453,
                        "iteration": 415,
                        "remaining_time": 128.6556135,
                        "learn": [
                          0.06807408416
                        ]
                      },
                      {
                        "test": [
                          0.06805987588
                        ],
                        "passed_time": 92.21923433,
                        "iteration": 416,
                        "remaining_time": 128.9300087,
                        "learn": [
                          0.06807404153
                        ]
                      },
                      {
                        "test": [
                          0.06805988058
                        ],
                        "passed_time": 92.76237611,
                        "iteration": 417,
                        "remaining_time": 129.157184,
                        "learn": [
                          0.0680740245
                        ]
                      },
                      {
                        "test": [
                          0.06805987985
                        ],
                        "passed_time": 93.26133545,
                        "iteration": 418,
                        "remaining_time": 129.3194174,
                        "learn": [
                          0.06807401408
                        ]
                      },
                      {
                        "test": [
                          0.06805987804
                        ],
                        "passed_time": 93.72851723,
                        "iteration": 419,
                        "remaining_time": 129.434619,
                        "learn": [
                          0.06807400801
                        ]
                      },
                      {
                        "test": [
                          0.06805987748
                        ],
                        "passed_time": 94.19368134,
                        "iteration": 420,
                        "remaining_time": 129.5442791,
                        "learn": [
                          0.06807399527
                        ]
                      },
                      {
                        "test": [
                          0.06805987793
                        ],
                        "passed_time": 94.65396602,
                        "iteration": 421,
                        "remaining_time": 129.6445317,
                        "learn": [
                          0.06807399313
                        ]
                      },
                      {
                        "test": [
                          0.06805987813
                        ],
                        "passed_time": 95.18515271,
                        "iteration": 422,
                        "remaining_time": 129.838849,
                        "learn": [
                          0.0680739873
                        ]
                      },
                      {
                        "test": [
                          0.068059878
                        ],
                        "passed_time": 95.77423662,
                        "iteration": 423,
                        "remaining_time": 130.1083969,
                        "learn": [
                          0.06807398517
                        ]
                      },
                      {
                        "test": [
                          0.06805987339
                        ],
                        "passed_time": 96.22496796,
                        "iteration": 424,
                        "remaining_time": 130.1867214,
                        "learn": [
                          0.06807398004
                        ]
                      },
                      {
                        "test": [
                          0.06805987379
                        ],
                        "passed_time": 96.59686418,
                        "iteration": 425,
                        "remaining_time": 130.1563381,
                        "learn": [
                          0.06807394976
                        ]
                      },
                      {
                        "test": [
                          0.06805987605
                        ],
                        "passed_time": 96.95277745,
                        "iteration": 426,
                        "remaining_time": 130.1029074,
                        "learn": [
                          0.06807394075
                        ]
                      },
                      {
                        "test": [
                          0.06805987504
                        ],
                        "passed_time": 97.31965493,
                        "iteration": 427,
                        "remaining_time": 130.0627164,
                        "learn": [
                          0.06807393534
                        ]
                      },
                      {
                        "test": [
                          0.06805989552
                        ],
                        "passed_time": 97.69253119,
                        "iteration": 428,
                        "remaining_time": 130.0289867,
                        "learn": [
                          0.06807389204
                        ]
                      },
                      {
                        "test": [
                          0.06805989459
                        ],
                        "passed_time": 98.47758953,
                        "iteration": 429,
                        "remaining_time": 130.5400605,
                        "learn": [
                          0.06807387913
                        ]
                      },
                      {
                        "test": [
                          0.06805989424
                        ],
                        "passed_time": 98.88449405,
                        "iteration": 430,
                        "remaining_time": 130.5458866,
                        "learn": [
                          0.06807386108
                        ]
                      },
                      {
                        "test": [
                          0.06805989662
                        ],
                        "passed_time": 99.27355896,
                        "iteration": 431,
                        "remaining_time": 130.526346,
                        "learn": [
                          0.06807385454
                        ]
                      },
                      {
                        "test": [
                          0.06805989281
                        ],
                        "passed_time": 99.6763661,
                        "iteration": 432,
                        "remaining_time": 130.5230937,
                        "learn": [
                          0.0680738501
                        ]
                      },
                      {
                        "test": [
                          0.06805992679
                        ],
                        "passed_time": 100.0551788,
                        "iteration": 433,
                        "remaining_time": 130.4867078,
                        "learn": [
                          0.06807383079
                        ]
                      },
                      {
                        "test": [
                          0.06805992854
                        ],
                        "passed_time": 100.492664,
                        "iteration": 434,
                        "remaining_time": 130.5249543,
                        "learn": [
                          0.0680738285
                        ]
                      },
                      {
                        "test": [
                          0.06805992874
                        ],
                        "passed_time": 100.8948421,
                        "iteration": 435,
                        "remaining_time": 130.5153463,
                        "learn": [
                          0.0680738215
                        ]
                      },
                      {
                        "test": [
                          0.06805992476
                        ],
                        "passed_time": 101.3339222,
                        "iteration": 436,
                        "remaining_time": 130.5514833,
                        "learn": [
                          0.06807380893
                        ]
                      },
                      {
                        "test": [
                          0.06805992276
                        ],
                        "passed_time": 101.8790485,
                        "iteration": 437,
                        "remaining_time": 130.7215189,
                        "learn": [
                          0.06807380741
                        ]
                      },
                      {
                        "test": [
                          0.06805992286
                        ],
                        "passed_time": 102.2591861,
                        "iteration": 438,
                        "remaining_time": 130.6774565,
                        "learn": [
                          0.06807379197
                        ]
                      },
                      {
                        "test": [
                          0.06805991882
                        ],
                        "passed_time": 102.7656767,
                        "iteration": 439,
                        "remaining_time": 130.7926794,
                        "learn": [
                          0.06807376246
                        ]
                      },
                      {
                        "test": [
                          0.06805991831
                        ],
                        "passed_time": 103.1548136,
                        "iteration": 440,
                        "remaining_time": 130.7563283,
                        "learn": [
                          0.06807376102
                        ]
                      },
                      {
                        "test": [
                          0.06805992713
                        ],
                        "passed_time": 103.5248948,
                        "iteration": 441,
                        "remaining_time": 130.6943242,
                        "learn": [
                          0.06807374982
                        ]
                      },
                      {
                        "test": [
                          0.06805993832
                        ],
                        "passed_time": 103.9407434,
                        "iteration": 442,
                        "remaining_time": 130.6884742,
                        "learn": [
                          0.06807374106
                        ]
                      },
                      {
                        "test": [
                          0.06805993863
                        ],
                        "passed_time": 104.2967351,
                        "iteration": 443,
                        "remaining_time": 130.6058214,
                        "learn": [
                          0.06807373314
                        ]
                      },
                      {
                        "test": [
                          0.06805994549
                        ],
                        "passed_time": 104.635251,
                        "iteration": 444,
                        "remaining_time": 130.5001446,
                        "learn": [
                          0.06807373028
                        ]
                      },
                      {
                        "test": [
                          0.06805994649
                        ],
                        "passed_time": 105.0352414,
                        "iteration": 445,
                        "remaining_time": 130.4697841,
                        "learn": [
                          0.06807372573
                        ]
                      },
                      {
                        "test": [
                          0.06805994625
                        ],
                        "passed_time": 105.4555411,
                        "iteration": 446,
                        "remaining_time": 130.4628953,
                        "learn": [
                          0.06807372276
                        ]
                      },
                      {
                        "test": [
                          0.06805994591
                        ],
                        "passed_time": 105.8046955,
                        "iteration": 447,
                        "remaining_time": 130.3664998,
                        "learn": [
                          0.06807371948
                        ]
                      },
                      {
                        "test": [
                          0.0680599468
                        ],
                        "passed_time": 106.2048864,
                        "iteration": 448,
                        "remaining_time": 130.3316089,
                        "learn": [
                          0.06807371346
                        ]
                      },
                      {
                        "test": [
                          0.06805994769
                        ],
                        "passed_time": 106.5654344,
                        "iteration": 449,
                        "remaining_time": 130.246642,
                        "learn": [
                          0.06807368951
                        ]
                      },
                      {
                        "test": [
                          0.06805994748
                        ],
                        "passed_time": 106.9193415,
                        "iteration": 450,
                        "remaining_time": 130.1523691,
                        "learn": [
                          0.06807368342
                        ]
                      },
                      {
                        "test": [
                          0.06805994779
                        ],
                        "passed_time": 107.1573483,
                        "iteration": 451,
                        "remaining_time": 129.9164311,
                        "learn": [
                          0.06807366258
                        ]
                      },
                      {
                        "test": [
                          0.06805994976
                        ],
                        "passed_time": 107.3615897,
                        "iteration": 452,
                        "remaining_time": 129.6397121,
                        "learn": [
                          0.06807365499
                        ]
                      },
                      {
                        "test": [
                          0.06805995021
                        ],
                        "passed_time": 107.5731587,
                        "iteration": 453,
                        "remaining_time": 129.3721248,
                        "learn": [
                          0.06807364826
                        ]
                      },
                      {
                        "test": [
                          0.06805995011
                        ],
                        "passed_time": 107.7800603,
                        "iteration": 454,
                        "remaining_time": 129.0991932,
                        "learn": [
                          0.06807364635
                        ]
                      },
                      {
                        "test": [
                          0.06805994922
                        ],
                        "passed_time": 108.0792728,
                        "iteration": 455,
                        "remaining_time": 128.9366763,
                        "learn": [
                          0.06807364434
                        ]
                      },
                      {
                        "test": [
                          0.06805994955
                        ],
                        "passed_time": 108.2837728,
                        "iteration": 456,
                        "remaining_time": 128.6610255,
                        "learn": [
                          0.06807364067
                        ]
                      },
                      {
                        "test": [
                          0.06805995118
                        ],
                        "passed_time": 108.5003735,
                        "iteration": 457,
                        "remaining_time": 128.4000053,
                        "learn": [
                          0.06807363892
                        ]
                      },
                      {
                        "test": [
                          0.06805995151
                        ],
                        "passed_time": 108.70584,
                        "iteration": 458,
                        "remaining_time": 128.1260554,
                        "learn": [
                          0.06807363744
                        ]
                      },
                      {
                        "test": [
                          0.06805995202
                        ],
                        "passed_time": 108.9129691,
                        "iteration": 459,
                        "remaining_time": 127.854355,
                        "learn": [
                          0.06807363392
                        ]
                      },
                      {
                        "test": [
                          0.06805995194
                        ],
                        "passed_time": 109.1584951,
                        "iteration": 460,
                        "remaining_time": 127.6278283,
                        "learn": [
                          0.06807359878
                        ]
                      },
                      {
                        "test": [
                          0.06805995526
                        ],
                        "passed_time": 109.3697817,
                        "iteration": 461,
                        "remaining_time": 127.3613476,
                        "learn": [
                          0.06807359474
                        ]
                      },
                      {
                        "test": [
                          0.06805995416
                        ],
                        "passed_time": 109.575118,
                        "iteration": 462,
                        "remaining_time": 127.0882038,
                        "learn": [
                          0.06807358947
                        ]
                      },
                      {
                        "test": [
                          0.06805995424
                        ],
                        "passed_time": 109.7797038,
                        "iteration": 463,
                        "remaining_time": 126.8144854,
                        "learn": [
                          0.06807357492
                        ]
                      },
                      {
                        "test": [
                          0.06805995658
                        ],
                        "passed_time": 109.990653,
                        "iteration": 464,
                        "remaining_time": 126.5483857,
                        "learn": [
                          0.06807353611
                        ]
                      },
                      {
                        "test": [
                          0.06805996157
                        ],
                        "passed_time": 110.2365546,
                        "iteration": 465,
                        "remaining_time": 126.3225754,
                        "learn": [
                          0.0680735204
                        ]
                      },
                      {
                        "test": [
                          0.0680599611
                        ],
                        "passed_time": 110.4521262,
                        "iteration": 466,
                        "remaining_time": 126.0620627,
                        "learn": [
                          0.06807351902
                        ]
                      },
                      {
                        "test": [
                          0.06805996145
                        ],
                        "passed_time": 110.6612551,
                        "iteration": 467,
                        "remaining_time": 125.7944182,
                        "learn": [
                          0.06807351102
                        ]
                      },
                      {
                        "test": [
                          0.06805996315
                        ],
                        "passed_time": 110.8639936,
                        "iteration": 468,
                        "remaining_time": 125.519788,
                        "learn": [
                          0.06807350702
                        ]
                      },
                      {
                        "test": [
                          0.06805996287
                        ],
                        "passed_time": 111.0643971,
                        "iteration": 469,
                        "remaining_time": 125.2428308,
                        "learn": [
                          0.06807350286
                        ]
                      },
                      {
                        "test": [
                          0.06805996825
                        ],
                        "passed_time": 111.3097452,
                        "iteration": 470,
                        "remaining_time": 125.0166777,
                        "learn": [
                          0.06807350201
                        ]
                      },
                      {
                        "test": [
                          0.06805996607
                        ],
                        "passed_time": 111.5239463,
                        "iteration": 471,
                        "remaining_time": 124.755601,
                        "learn": [
                          0.06807349916
                        ]
                      },
                      {
                        "test": [
                          0.06805996564
                        ],
                        "passed_time": 111.7302306,
                        "iteration": 472,
                        "remaining_time": 124.4859018,
                        "learn": [
                          0.0680734963
                        ]
                      },
                      {
                        "test": [
                          0.06805996557
                        ],
                        "passed_time": 111.9409337,
                        "iteration": 473,
                        "remaining_time": 124.2213737,
                        "learn": [
                          0.06807349183
                        ]
                      },
                      {
                        "test": [
                          0.06805996611
                        ],
                        "passed_time": 112.1622907,
                        "iteration": 474,
                        "remaining_time": 123.9688476,
                        "learn": [
                          0.06807348396
                        ]
                      },
                      {
                        "test": [
                          0.06805996727
                        ],
                        "passed_time": 112.3932531,
                        "iteration": 475,
                        "remaining_time": 123.7270265,
                        "learn": [
                          0.06807345536
                        ]
                      },
                      {
                        "test": [
                          0.06805996814
                        ],
                        "passed_time": 112.6011519,
                        "iteration": 476,
                        "remaining_time": 123.4599632,
                        "learn": [
                          0.06807345167
                        ]
                      },
                      {
                        "test": [
                          0.06805996811
                        ],
                        "passed_time": 112.8073214,
                        "iteration": 477,
                        "remaining_time": 123.1912589,
                        "learn": [
                          0.06807343867
                        ]
                      },
                      {
                        "test": [
                          0.06805996788
                        ],
                        "passed_time": 113.0145144,
                        "iteration": 478,
                        "remaining_time": 122.923929,
                        "learn": [
                          0.06807342955
                        ]
                      },
                      {
                        "test": [
                          0.06805997278
                        ],
                        "passed_time": 113.2350888,
                        "iteration": 479,
                        "remaining_time": 122.6713462,
                        "learn": [
                          0.06807340216
                        ]
                      },
                      {
                        "test": [
                          0.06805997345
                        ],
                        "passed_time": 113.4635597,
                        "iteration": 480,
                        "remaining_time": 122.4274169,
                        "learn": [
                          0.06807338705
                        ]
                      },
                      {
                        "test": [
                          0.06805997293
                        ],
                        "passed_time": 113.667039,
                        "iteration": 481,
                        "remaining_time": 122.1566934,
                        "learn": [
                          0.06807337765
                        ]
                      },
                      {
                        "test": [
                          0.06805997429
                        ],
                        "passed_time": 113.8756494,
                        "iteration": 482,
                        "remaining_time": 121.8917406,
                        "learn": [
                          0.06807337281
                        ]
                      },
                      {
                        "test": [
                          0.06805997346
                        ],
                        "passed_time": 114.0892159,
                        "iteration": 483,
                        "remaining_time": 121.6323046,
                        "learn": [
                          0.06807336871
                        ]
                      },
                      {
                        "test": [
                          0.06805997772
                        ],
                        "passed_time": 114.3155389,
                        "iteration": 484,
                        "remaining_time": 121.3866032,
                        "learn": [
                          0.06807336745
                        ]
                      },
                      {
                        "test": [
                          0.0680599771
                        ],
                        "passed_time": 114.5394464,
                        "iteration": 485,
                        "remaining_time": 121.1384268,
                        "learn": [
                          0.06807336549
                        ]
                      },
                      {
                        "test": [
                          0.06805997794
                        ],
                        "passed_time": 114.7460117,
                        "iteration": 486,
                        "remaining_time": 120.8720821,
                        "learn": [
                          0.06807336395
                        ]
                      },
                      {
                        "test": [
                          0.06805997426
                        ],
                        "passed_time": 114.9493172,
                        "iteration": 487,
                        "remaining_time": 120.6025624,
                        "learn": [
                          0.06807335208
                        ]
                      },
                      {
                        "test": [
                          0.06805997446
                        ],
                        "passed_time": 115.1645695,
                        "iteration": 488,
                        "remaining_time": 120.3457975,
                        "learn": [
                          0.06807334318
                        ]
                      },
                      {
                        "test": [
                          0.06805997486
                        ],
                        "passed_time": 115.3862559,
                        "iteration": 489,
                        "remaining_time": 120.095899,
                        "learn": [
                          0.06807333924
                        ]
                      },
                      {
                        "test": [
                          0.06805997442
                        ],
                        "passed_time": 115.6120988,
                        "iteration": 490,
                        "remaining_time": 119.8504242,
                        "learn": [
                          0.06807333752
                        ]
                      },
                      {
                        "test": [
                          0.06805997419
                        ],
                        "passed_time": 115.814164,
                        "iteration": 491,
                        "remaining_time": 119.5804782,
                        "learn": [
                          0.0680733367
                        ]
                      },
                      {
                        "test": [
                          0.06805997467
                        ],
                        "passed_time": 116.0225696,
                        "iteration": 492,
                        "remaining_time": 119.3173282,
                        "learn": [
                          0.06807333582
                        ]
                      },
                      {
                        "test": [
                          0.06805997423
                        ],
                        "passed_time": 116.2339082,
                        "iteration": 493,
                        "remaining_time": 119.0574039,
                        "learn": [
                          0.06807333396
                        ]
                      },
                      {
                        "test": [
                          0.06805997646
                        ],
                        "passed_time": 116.4626343,
                        "iteration": 494,
                        "remaining_time": 118.8154148,
                        "learn": [
                          0.06807332519
                        ]
                      },
                      {
                        "test": [
                          0.06805997593
                        ],
                        "passed_time": 116.6848601,
                        "iteration": 495,
                        "remaining_time": 118.5668739,
                        "learn": [
                          0.06807332307
                        ]
                      },
                      {
                        "test": [
                          0.06805997292
                        ],
                        "passed_time": 116.8930936,
                        "iteration": 496,
                        "remaining_time": 118.3042778,
                        "learn": [
                          0.06807332018
                        ]
                      },
                      {
                        "test": [
                          0.06805997043
                        ],
                        "passed_time": 117.1024267,
                        "iteration": 497,
                        "remaining_time": 118.0430085,
                        "learn": [
                          0.06807328682
                        ]
                      },
                      {
                        "test": [
                          0.06805996992
                        ],
                        "passed_time": 117.3087394,
                        "iteration": 498,
                        "remaining_time": 117.7789147,
                        "learn": [
                          0.06807325169
                        ]
                      },
                      {
                        "test": [
                          0.06805996725
                        ],
                        "passed_time": 117.5644055,
                        "iteration": 499,
                        "remaining_time": 117.5644055,
                        "learn": [
                          0.06807322441
                        ]
                      },
                      {
                        "test": [
                          0.06805996748
                        ],
                        "passed_time": 117.7700094,
                        "iteration": 500,
                        "remaining_time": 117.2998696,
                        "learn": [
                          0.06807322142
                        ]
                      },
                      {
                        "test": [
                          0.06805996716
                        ],
                        "passed_time": 117.9766051,
                        "iteration": 501,
                        "remaining_time": 117.0365525,
                        "learn": [
                          0.06807321217
                        ]
                      },
                      {
                        "test": [
                          0.06805996509
                        ],
                        "passed_time": 118.1823576,
                        "iteration": 502,
                        "remaining_time": 116.7726277,
                        "learn": [
                          0.06807319857
                        ]
                      },
                      {
                        "test": [
                          0.06805996645
                        ],
                        "passed_time": 118.3868556,
                        "iteration": 503,
                        "remaining_time": 116.5076992,
                        "learn": [
                          0.06807319579
                        ]
                      },
                      {
                        "test": [
                          0.06805996635
                        ],
                        "passed_time": 118.6469565,
                        "iteration": 504,
                        "remaining_time": 116.2975118,
                        "learn": [
                          0.06807318336
                        ]
                      },
                      {
                        "test": [
                          0.06805996629
                        ],
                        "passed_time": 118.8533336,
                        "iteration": 505,
                        "remaining_time": 116.0346775,
                        "learn": [
                          0.06807317513
                        ]
                      },
                      {
                        "test": [
                          0.06805996659
                        ],
                        "passed_time": 119.059265,
                        "iteration": 506,
                        "remaining_time": 115.7716324,
                        "learn": [
                          0.06807317017
                        ]
                      },
                      {
                        "test": [
                          0.06805996626
                        ],
                        "passed_time": 119.273448,
                        "iteration": 507,
                        "remaining_time": 115.5168039,
                        "learn": [
                          0.06807316747
                        ]
                      },
                      {
                        "test": [
                          0.06805996713
                        ],
                        "passed_time": 119.4824431,
                        "iteration": 508,
                        "remaining_time": 115.2571308,
                        "learn": [
                          0.06807315667
                        ]
                      },
                      {
                        "test": [
                          0.06805996659
                        ],
                        "passed_time": 119.747356,
                        "iteration": 509,
                        "remaining_time": 115.0513813,
                        "learn": [
                          0.06807315522
                        ]
                      },
                      {
                        "test": [
                          0.06805996047
                        ],
                        "passed_time": 119.9523116,
                        "iteration": 510,
                        "remaining_time": 114.7880242,
                        "learn": [
                          0.06807314733
                        ]
                      },
                      {
                        "test": [
                          0.06805995831
                        ],
                        "passed_time": 120.1589971,
                        "iteration": 511,
                        "remaining_time": 114.5265441,
                        "learn": [
                          0.06807312952
                        ]
                      },
                      {
                        "test": [
                          0.06805996142
                        ],
                        "passed_time": 120.3637546,
                        "iteration": 512,
                        "remaining_time": 114.2634474,
                        "learn": [
                          0.06807312777
                        ]
                      },
                      {
                        "test": [
                          0.06805996331
                        ],
                        "passed_time": 120.5654679,
                        "iteration": 513,
                        "remaining_time": 113.9976992,
                        "learn": [
                          0.06807311899
                        ]
                      },
                      {
                        "test": [
                          0.0680599613
                        ],
                        "passed_time": 120.830344,
                        "iteration": 514,
                        "remaining_time": 113.7916832,
                        "learn": [
                          0.06807310121
                        ]
                      },
                      {
                        "test": [
                          0.06805996206
                        ],
                        "passed_time": 121.0389609,
                        "iteration": 515,
                        "remaining_time": 113.5326687,
                        "learn": [
                          0.06807309999
                        ]
                      },
                      {
                        "test": [
                          0.06805997427
                        ],
                        "passed_time": 121.2456076,
                        "iteration": 516,
                        "remaining_time": 113.2720086,
                        "learn": [
                          0.06807309759
                        ]
                      },
                      {
                        "test": [
                          0.06805997448
                        ],
                        "passed_time": 121.4548653,
                        "iteration": 517,
                        "remaining_time": 113.0139866,
                        "learn": [
                          0.0680730964
                        ]
                      },
                      {
                        "test": [
                          0.06805997302
                        ],
                        "passed_time": 121.6772429,
                        "iteration": 518,
                        "remaining_time": 112.7683118,
                        "learn": [
                          0.06807307844
                        ]
                      },
                      {
                        "test": [
                          0.06805997364
                        ],
                        "passed_time": 121.9105711,
                        "iteration": 519,
                        "remaining_time": 112.5328349,
                        "learn": [
                          0.06807306896
                        ]
                      },
                      {
                        "test": [
                          0.06805997299
                        ],
                        "passed_time": 122.1183372,
                        "iteration": 520,
                        "remaining_time": 112.2738647,
                        "learn": [
                          0.06807306715
                        ]
                      },
                      {
                        "test": [
                          0.0680599731
                        ],
                        "passed_time": 122.3227323,
                        "iteration": 521,
                        "remaining_time": 112.0120039,
                        "learn": [
                          0.06807306164
                        ]
                      },
                      {
                        "test": [
                          0.06805997208
                        ],
                        "passed_time": 122.5286996,
                        "iteration": 522,
                        "remaining_time": 111.7517967,
                        "learn": [
                          0.06807303669
                        ]
                      },
                      {
                        "test": [
                          0.06805997226
                        ],
                        "passed_time": 122.7717851,
                        "iteration": 523,
                        "remaining_time": 111.5255147,
                        "learn": [
                          0.06807303566
                        ]
                      },
                      {
                        "test": [
                          0.06805997635
                        ],
                        "passed_time": 123.033827,
                        "iteration": 524,
                        "remaining_time": 111.3163197,
                        "learn": [
                          0.06807303498
                        ]
                      },
                      {
                        "test": [
                          0.06805997675
                        ],
                        "passed_time": 123.4060122,
                        "iteration": 525,
                        "remaining_time": 111.2061783,
                        "learn": [
                          0.06807301476
                        ]
                      },
                      {
                        "test": [
                          0.06805997084
                        ],
                        "passed_time": 123.7032332,
                        "iteration": 526,
                        "remaining_time": 111.0277596,
                        "learn": [
                          0.06807301104
                        ]
                      },
                      {
                        "test": [
                          0.06805997065
                        ],
                        "passed_time": 124.1277222,
                        "iteration": 527,
                        "remaining_time": 110.9626607,
                        "learn": [
                          0.06807300434
                        ]
                      },
                      {
                        "test": [
                          0.0680599712
                        ],
                        "passed_time": 124.4428637,
                        "iteration": 528,
                        "remaining_time": 110.7988447,
                        "learn": [
                          0.06807299725
                        ]
                      },
                      {
                        "test": [
                          0.06805997042
                        ],
                        "passed_time": 124.879721,
                        "iteration": 529,
                        "remaining_time": 110.7423941,
                        "learn": [
                          0.06807299642
                        ]
                      },
                      {
                        "test": [
                          0.06805997101
                        ],
                        "passed_time": 125.2372927,
                        "iteration": 530,
                        "remaining_time": 110.6144826,
                        "learn": [
                          0.06807298873
                        ]
                      },
                      {
                        "test": [
                          0.06805997103
                        ],
                        "passed_time": 125.6192167,
                        "iteration": 531,
                        "remaining_time": 110.5071305,
                        "learn": [
                          0.06807297667
                        ]
                      },
                      {
                        "test": [
                          0.06805997094
                        ],
                        "passed_time": 126.0543817,
                        "iteration": 532,
                        "remaining_time": 110.4453963,
                        "learn": [
                          0.06807296945
                        ]
                      },
                      {
                        "test": [
                          0.06805997137
                        ],
                        "passed_time": 126.4367481,
                        "iteration": 533,
                        "remaining_time": 110.3361884,
                        "learn": [
                          0.06807296088
                        ]
                      },
                      {
                        "test": [
                          0.06805997148
                        ],
                        "passed_time": 126.6512725,
                        "iteration": 534,
                        "remaining_time": 110.0800779,
                        "learn": [
                          0.06807295686
                        ]
                      },
                      {
                        "test": [
                          0.06805997264
                        ],
                        "passed_time": 126.9777578,
                        "iteration": 535,
                        "remaining_time": 109.921044,
                        "learn": [
                          0.06807295365
                        ]
                      },
                      {
                        "test": [
                          0.06805997238
                        ],
                        "passed_time": 127.3796575,
                        "iteration": 536,
                        "remaining_time": 109.8264086,
                        "learn": [
                          0.06807295205
                        ]
                      },
                      {
                        "test": [
                          0.06805997193
                        ],
                        "passed_time": 127.7244246,
                        "iteration": 537,
                        "remaining_time": 109.6815691,
                        "learn": [
                          0.06807294599
                        ]
                      },
                      {
                        "test": [
                          0.06805997188
                        ],
                        "passed_time": 128.1402214,
                        "iteration": 538,
                        "remaining_time": 109.5967385,
                        "learn": [
                          0.06807294138
                        ]
                      },
                      {
                        "test": [
                          0.06805997475
                        ],
                        "passed_time": 128.4223981,
                        "iteration": 539,
                        "remaining_time": 109.3968577,
                        "learn": [
                          0.06807294107
                        ]
                      },
                      {
                        "test": [
                          0.06805997462
                        ],
                        "passed_time": 128.7184323,
                        "iteration": 540,
                        "remaining_time": 109.2084296,
                        "learn": [
                          0.06807293754
                        ]
                      },
                      {
                        "test": [
                          0.06805997432
                        ],
                        "passed_time": 128.9426683,
                        "iteration": 541,
                        "remaining_time": 108.9589338,
                        "learn": [
                          0.06807293633
                        ]
                      },
                      {
                        "test": [
                          0.06805997448
                        ],
                        "passed_time": 129.3371321,
                        "iteration": 542,
                        "remaining_time": 108.8527981,
                        "learn": [
                          0.06807293417
                        ]
                      },
                      {
                        "test": [
                          0.06805997427
                        ],
                        "passed_time": 129.6413585,
                        "iteration": 543,
                        "remaining_time": 108.6699623,
                        "learn": [
                          0.06807293147
                        ]
                      },
                      {
                        "test": [
                          0.06805997443
                        ],
                        "passed_time": 129.9488915,
                        "iteration": 544,
                        "remaining_time": 108.4894415,
                        "learn": [
                          0.06807292875
                        ]
                      },
                      {
                        "test": [
                          0.06805996967
                        ],
                        "passed_time": 130.170352,
                        "iteration": 545,
                        "remaining_time": 108.2368861,
                        "learn": [
                          0.06807290419
                        ]
                      },
                      {
                        "test": [
                          0.06805997012
                        ],
                        "passed_time": 130.6001983,
                        "iteration": 546,
                        "remaining_time": 108.1570198,
                        "learn": [
                          0.0680729015
                        ]
                      },
                      {
                        "test": [
                          0.06805996987
                        ],
                        "passed_time": 130.821711,
                        "iteration": 547,
                        "remaining_time": 107.904039,
                        "learn": [
                          0.06807289855
                        ]
                      },
                      {
                        "test": [
                          0.06805997072
                        ],
                        "passed_time": 131.040493,
                        "iteration": 548,
                        "remaining_time": 107.6489296,
                        "learn": [
                          0.06807289689
                        ]
                      },
                      {
                        "test": [
                          0.06805996977
                        ],
                        "passed_time": 131.46191,
                        "iteration": 549,
                        "remaining_time": 107.5597446,
                        "learn": [
                          0.06807288683
                        ]
                      },
                      {
                        "test": [
                          0.06805997242
                        ],
                        "passed_time": 131.9046323,
                        "iteration": 550,
                        "remaining_time": 107.4867149,
                        "learn": [
                          0.06807288241
                        ]
                      },
                      {
                        "test": [
                          0.06805997524
                        ],
                        "passed_time": 132.2600735,
                        "iteration": 551,
                        "remaining_time": 107.3415089,
                        "learn": [
                          0.06807287254
                        ]
                      },
                      {
                        "test": [
                          0.06805997482
                        ],
                        "passed_time": 132.6075116,
                        "iteration": 552,
                        "remaining_time": 107.1890736,
                        "learn": [
                          0.06807287142
                        ]
                      },
                      {
                        "test": [
                          0.0680599753
                        ],
                        "passed_time": 132.9839725,
                        "iteration": 553,
                        "remaining_time": 107.0592992,
                        "learn": [
                          0.06807286671
                        ]
                      },
                      {
                        "test": [
                          0.06805997525
                        ],
                        "passed_time": 133.3396411,
                        "iteration": 554,
                        "remaining_time": 106.9119645,
                        "learn": [
                          0.06807286576
                        ]
                      },
                      {
                        "test": [
                          0.0680599721
                        ],
                        "passed_time": 133.7125857,
                        "iteration": 555,
                        "remaining_time": 106.7776764,
                        "learn": [
                          0.06807283787
                        ]
                      },
                      {
                        "test": [
                          0.06805997217
                        ],
                        "passed_time": 134.1193345,
                        "iteration": 556,
                        "remaining_time": 106.6694169,
                        "learn": [
                          0.06807283086
                        ]
                      },
                      {
                        "test": [
                          0.06805997271
                        ],
                        "passed_time": 134.4995032,
                        "iteration": 557,
                        "remaining_time": 106.539033,
                        "learn": [
                          0.06807282918
                        ]
                      },
                      {
                        "test": [
                          0.06806000498
                        ],
                        "passed_time": 134.8788739,
                        "iteration": 558,
                        "remaining_time": 106.4071259,
                        "learn": [
                          0.06807280143
                        ]
                      },
                      {
                        "test": [
                          0.06806000168
                        ],
                        "passed_time": 135.1477292,
                        "iteration": 559,
                        "remaining_time": 106.1875015,
                        "learn": [
                          0.06807279359
                        ]
                      },
                      {
                        "test": [
                          0.06806000161
                        ],
                        "passed_time": 135.3622859,
                        "iteration": 560,
                        "remaining_time": 105.9252113,
                        "learn": [
                          0.06807279259
                        ]
                      },
                      {
                        "test": [
                          0.06806000016
                        ],
                        "passed_time": 135.5708635,
                        "iteration": 561,
                        "remaining_time": 105.658431,
                        "learn": [
                          0.0680727767
                        ]
                      },
                      {
                        "test": [
                          0.06805999995
                        ],
                        "passed_time": 135.7783317,
                        "iteration": 562,
                        "remaining_time": 105.3909964,
                        "learn": [
                          0.06807277378
                        ]
                      },
                      {
                        "test": [
                          0.06806000014
                        ],
                        "passed_time": 136.0092068,
                        "iteration": 563,
                        "remaining_time": 105.1418691,
                        "learn": [
                          0.06807276044
                        ]
                      },
                      {
                        "test": [
                          0.06806000184
                        ],
                        "passed_time": 136.2502528,
                        "iteration": 564,
                        "remaining_time": 104.9006371,
                        "learn": [
                          0.06807275333
                        ]
                      },
                      {
                        "test": [
                          0.06805999979
                        ],
                        "passed_time": 136.4604058,
                        "iteration": 565,
                        "remaining_time": 104.6357175,
                        "learn": [
                          0.06807273891
                        ]
                      },
                      {
                        "test": [
                          0.06805999974
                        ],
                        "passed_time": 136.6669927,
                        "iteration": 566,
                        "remaining_time": 104.3682678,
                        "learn": [
                          0.06807273742
                        ]
                      },
                      {
                        "test": [
                          0.06805999966
                        ],
                        "passed_time": 136.8691017,
                        "iteration": 567,
                        "remaining_time": 104.0976267,
                        "learn": [
                          0.06807272574
                        ]
                      },
                      {
                        "test": [
                          0.06806000191
                        ],
                        "passed_time": 137.0891306,
                        "iteration": 568,
                        "remaining_time": 103.8408002,
                        "learn": [
                          0.06807272524
                        ]
                      },
                      {
                        "test": [
                          0.06806000191
                        ],
                        "passed_time": 137.3166043,
                        "iteration": 569,
                        "remaining_time": 103.589719,
                        "learn": [
                          0.06807272226
                        ]
                      },
                      {
                        "test": [
                          0.06806000355
                        ],
                        "passed_time": 137.520614,
                        "iteration": 570,
                        "remaining_time": 103.3210918,
                        "learn": [
                          0.06807272061
                        ]
                      },
                      {
                        "test": [
                          0.06806000331
                        ],
                        "passed_time": 137.7331112,
                        "iteration": 571,
                        "remaining_time": 103.0590413,
                        "learn": [
                          0.06807271869
                        ]
                      },
                      {
                        "test": [
                          0.06806000337
                        ],
                        "passed_time": 137.9396328,
                        "iteration": 572,
                        "remaining_time": 102.7927106,
                        "learn": [
                          0.06807270928
                        ]
                      },
                      {
                        "test": [
                          0.06806000459
                        ],
                        "passed_time": 138.1885486,
                        "iteration": 573,
                        "remaining_time": 102.5580517,
                        "learn": [
                          0.06807270258
                        ]
                      },
                      {
                        "test": [
                          0.06806000259
                        ],
                        "passed_time": 138.4008314,
                        "iteration": 574,
                        "remaining_time": 102.2962667,
                        "learn": [
                          0.06807269978
                        ]
                      },
                      {
                        "test": [
                          0.06806000255
                        ],
                        "passed_time": 138.6072604,
                        "iteration": 575,
                        "remaining_time": 102.0303445,
                        "learn": [
                          0.06807269894
                        ]
                      },
                      {
                        "test": [
                          0.06806000224
                        ],
                        "passed_time": 138.8212087,
                        "iteration": 576,
                        "remaining_time": 101.7701408,
                        "learn": [
                          0.06807266913
                        ]
                      },
                      {
                        "test": [
                          0.06806000439
                        ],
                        "passed_time": 139.0273284,
                        "iteration": 577,
                        "remaining_time": 101.5043816,
                        "learn": [
                          0.0680726682
                        ]
                      },
                      {
                        "test": [
                          0.06806000459
                        ],
                        "passed_time": 139.2687603,
                        "iteration": 578,
                        "remaining_time": 101.2645045,
                        "learn": [
                          0.06807266717
                        ]
                      },
                      {
                        "test": [
                          0.06806000504
                        ],
                        "passed_time": 139.48665,
                        "iteration": 579,
                        "remaining_time": 101.0075742,
                        "learn": [
                          0.06807266684
                        ]
                      },
                      {
                        "test": [
                          0.0680600046
                        ],
                        "passed_time": 139.6919245,
                        "iteration": 580,
                        "remaining_time": 100.7416805,
                        "learn": [
                          0.0680726611
                        ]
                      },
                      {
                        "test": [
                          0.06806000581
                        ],
                        "passed_time": 139.9043535,
                        "iteration": 581,
                        "remaining_time": 100.4811336,
                        "learn": [
                          0.06807266061
                        ]
                      },
                      {
                        "test": [
                          0.06806000567
                        ],
                        "passed_time": 140.1091923,
                        "iteration": 582,
                        "remaining_time": 100.2153228,
                        "learn": [
                          0.06807265495
                        ]
                      },
                      {
                        "test": [
                          0.0680599994
                        ],
                        "passed_time": 140.3639215,
                        "iteration": 583,
                        "remaining_time": 99.98525914,
                        "learn": [
                          0.0680726419
                        ]
                      },
                      {
                        "test": [
                          0.06805999961
                        ],
                        "passed_time": 140.5772919,
                        "iteration": 584,
                        "remaining_time": 99.72577116,
                        "learn": [
                          0.06807264012
                        ]
                      },
                      {
                        "test": [
                          0.06805999955
                        ],
                        "passed_time": 140.7890857,
                        "iteration": 585,
                        "remaining_time": 99.46532678,
                        "learn": [
                          0.06807261769
                        ]
                      },
                      {
                        "test": [
                          0.06805999981
                        ],
                        "passed_time": 140.9985944,
                        "iteration": 586,
                        "remaining_time": 99.20344038,
                        "learn": [
                          0.06807261597
                        ]
                      },
                      {
                        "test": [
                          0.06805999563
                        ],
                        "passed_time": 141.2214946,
                        "iteration": 587,
                        "remaining_time": 98.95111529,
                        "learn": [
                          0.06807261401
                        ]
                      },
                      {
                        "test": [
                          0.06805999547
                        ],
                        "passed_time": 141.4615406,
                        "iteration": 588,
                        "remaining_time": 98.71085431,
                        "learn": [
                          0.0680726121
                        ]
                      },
                      {
                        "test": [
                          0.06805999638
                        ],
                        "passed_time": 141.6755791,
                        "iteration": 589,
                        "remaining_time": 98.45252105,
                        "learn": [
                          0.06807261155
                        ]
                      },
                      {
                        "test": [
                          0.0680599968
                        ],
                        "passed_time": 141.8883092,
                        "iteration": 590,
                        "remaining_time": 98.19343222,
                        "learn": [
                          0.06807260794
                        ]
                      },
                      {
                        "test": [
                          0.06805999714
                        ],
                        "passed_time": 142.0927631,
                        "iteration": 591,
                        "remaining_time": 97.92879621,
                        "learn": [
                          0.06807260065
                        ]
                      },
                      {
                        "test": [
                          0.06805999649
                        ],
                        "passed_time": 142.310243,
                        "iteration": 592,
                        "remaining_time": 97.67330336,
                        "learn": [
                          0.0680725991
                        ]
                      },
                      {
                        "test": [
                          0.06805999618
                        ],
                        "passed_time": 142.5544566,
                        "iteration": 593,
                        "remaining_time": 97.43621105,
                        "learn": [
                          0.06807259315
                        ]
                      },
                      {
                        "test": [
                          0.0680599966
                        ],
                        "passed_time": 142.7628837,
                        "iteration": 594,
                        "remaining_time": 97.17473593,
                        "learn": [
                          0.0680725924
                        ]
                      },
                      {
                        "test": [
                          0.06805999698
                        ],
                        "passed_time": 142.9774129,
                        "iteration": 595,
                        "remaining_time": 96.91757517,
                        "learn": [
                          0.0680725786
                        ]
                      },
                      {
                        "test": [
                          0.06805999678
                        ],
                        "passed_time": 143.1907416,
                        "iteration": 596,
                        "remaining_time": 96.65974683,
                        "learn": [
                          0.06807257791
                        ]
                      },
                      {
                        "test": [
                          0.06805999651
                        ],
                        "passed_time": 143.4127596,
                        "iteration": 597,
                        "remaining_time": 96.40790861,
                        "learn": [
                          0.06807257078
                        ]
                      },
                      {
                        "test": [
                          0.06805999629
                        ],
                        "passed_time": 143.6843922,
                        "iteration": 598,
                        "remaining_time": 96.18938444,
                        "learn": [
                          0.06807257002
                        ]
                      },
                      {
                        "test": [
                          0.06805999586
                        ],
                        "passed_time": 143.8887766,
                        "iteration": 599,
                        "remaining_time": 95.92585108,
                        "learn": [
                          0.06807254559
                        ]
                      },
                      {
                        "test": [
                          0.0680600044
                        ],
                        "passed_time": 144.0972488,
                        "iteration": 600,
                        "remaining_time": 95.66522837,
                        "learn": [
                          0.06807252383
                        ]
                      },
                      {
                        "test": [
                          0.06806000396
                        ],
                        "passed_time": 144.3095454,
                        "iteration": 601,
                        "remaining_time": 95.40730741,
                        "learn": [
                          0.06807252306
                        ]
                      },
                      {
                        "test": [
                          0.06806000375
                        ],
                        "passed_time": 144.5370113,
                        "iteration": 602,
                        "remaining_time": 95.15952483,
                        "learn": [
                          0.06807251863
                        ]
                      },
                      {
                        "test": [
                          0.06806000381
                        ],
                        "passed_time": 144.7717141,
                        "iteration": 603,
                        "remaining_time": 94.91655431,
                        "learn": [
                          0.06807251397
                        ]
                      },
                      {
                        "test": [
                          0.06806000361
                        ],
                        "passed_time": 144.9813773,
                        "iteration": 604,
                        "remaining_time": 94.65726284,
                        "learn": [
                          0.06807251
                        ]
                      },
                      {
                        "test": [
                          0.06806003339
                        ],
                        "passed_time": 145.1906625,
                        "iteration": 605,
                        "remaining_time": 94.39788947,
                        "learn": [
                          0.06807248536
                        ]
                      },
                      {
                        "test": [
                          0.06806003378
                        ],
                        "passed_time": 145.4056732,
                        "iteration": 606,
                        "remaining_time": 94.14238808,
                        "learn": [
                          0.06807248352
                        ]
                      },
                      {
                        "test": [
                          0.06806003336
                        ],
                        "passed_time": 145.6333851,
                        "iteration": 607,
                        "remaining_time": 93.89520882,
                        "learn": [
                          0.06807246084
                        ]
                      },
                      {
                        "test": [
                          0.06806003727
                        ],
                        "passed_time": 145.8524422,
                        "iteration": 608,
                        "remaining_time": 93.64253678,
                        "learn": [
                          0.06807245918
                        ]
                      },
                      {
                        "test": [
                          0.068060036
                        ],
                        "passed_time": 146.0539735,
                        "iteration": 609,
                        "remaining_time": 93.37876996,
                        "learn": [
                          0.06807245557
                        ]
                      },
                      {
                        "test": [
                          0.06806003731
                        ],
                        "passed_time": 146.2635734,
                        "iteration": 610,
                        "remaining_time": 93.12034378,
                        "learn": [
                          0.06807245367
                        ]
                      },
                      {
                        "test": [
                          0.06806003736
                        ],
                        "passed_time": 146.4799289,
                        "iteration": 611,
                        "remaining_time": 92.86636018,
                        "learn": [
                          0.06807245152
                        ]
                      },
                      {
                        "test": [
                          0.06806003542
                        ],
                        "passed_time": 146.7100525,
                        "iteration": 612,
                        "remaining_time": 92.62119138,
                        "learn": [
                          0.06807245142
                        ]
                      },
                      {
                        "test": [
                          0.06806003562
                        ],
                        "passed_time": 146.9530656,
                        "iteration": 613,
                        "remaining_time": 92.38417479,
                        "learn": [
                          0.06807244881
                        ]
                      },
                      {
                        "test": [
                          0.06806003504
                        ],
                        "passed_time": 147.1613501,
                        "iteration": 614,
                        "remaining_time": 92.12539803,
                        "learn": [
                          0.06807243861
                        ]
                      },
                      {
                        "test": [
                          0.0680600348
                        ],
                        "passed_time": 147.3833231,
                        "iteration": 615,
                        "remaining_time": 91.87531828,
                        "learn": [
                          0.06807243247
                        ]
                      },
                      {
                        "test": [
                          0.0680600298
                        ],
                        "passed_time": 147.5871227,
                        "iteration": 616,
                        "remaining_time": 91.61404862,
                        "learn": [
                          0.06807240522
                        ]
                      },
                      {
                        "test": [
                          0.06806003045
                        ],
                        "passed_time": 147.8430047,
                        "iteration": 617,
                        "remaining_time": 91.38515824,
                        "learn": [
                          0.06807239416
                        ]
                      },
                      {
                        "test": [
                          0.06806003153
                        ],
                        "passed_time": 148.0496064,
                        "iteration": 618,
                        "remaining_time": 91.12584819,
                        "learn": [
                          0.06807239188
                        ]
                      },
                      {
                        "test": [
                          0.06806003122
                        ],
                        "passed_time": 148.2530361,
                        "iteration": 619,
                        "remaining_time": 90.86476404,
                        "learn": [
                          0.06807239046
                        ]
                      },
                      {
                        "test": [
                          0.06806003138
                        ],
                        "passed_time": 148.4712616,
                        "iteration": 620,
                        "remaining_time": 90.61289557,
                        "learn": [
                          0.06807237982
                        ]
                      },
                      {
                        "test": [
                          0.06806002899
                        ],
                        "passed_time": 148.6749237,
                        "iteration": 621,
                        "remaining_time": 90.35228482,
                        "learn": [
                          0.0680723674
                        ]
                      },
                      {
                        "test": [
                          0.06806002833
                        ],
                        "passed_time": 148.9281598,
                        "iteration": 622,
                        "remaining_time": 90.12185595,
                        "learn": [
                          0.06807231588
                        ]
                      },
                      {
                        "test": [
                          0.06806002725
                        ],
                        "passed_time": 149.1333112,
                        "iteration": 623,
                        "remaining_time": 89.86237981,
                        "learn": [
                          0.06807231447
                        ]
                      },
                      {
                        "test": [
                          0.06806002636
                        ],
                        "passed_time": 149.3430482,
                        "iteration": 624,
                        "remaining_time": 89.60582892,
                        "learn": [
                          0.06807231376
                        ]
                      },
                      {
                        "test": [
                          0.06806002645
                        ],
                        "passed_time": 149.5597626,
                        "iteration": 625,
                        "remaining_time": 89.35359621,
                        "learn": [
                          0.06807229419
                        ]
                      },
                      {
                        "test": [
                          0.06806002476
                        ],
                        "passed_time": 149.7631302,
                        "iteration": 626,
                        "remaining_time": 89.09353678,
                        "learn": [
                          0.06807229026
                        ]
                      },
                      {
                        "test": [
                          0.06806002381
                        ],
                        "passed_time": 150.010815,
                        "iteration": 627,
                        "remaining_time": 88.85990951,
                        "learn": [
                          0.06807228818
                        ]
                      },
                      {
                        "test": [
                          0.06806002494
                        ],
                        "passed_time": 150.2189666,
                        "iteration": 628,
                        "remaining_time": 88.6029199,
                        "learn": [
                          0.06807228191
                        ]
                      },
                      {
                        "test": [
                          0.06806002418
                        ],
                        "passed_time": 150.4250176,
                        "iteration": 629,
                        "remaining_time": 88.34485162,
                        "learn": [
                          0.06807226962
                        ]
                      },
                      {
                        "test": [
                          0.06806002538
                        ],
                        "passed_time": 150.6378304,
                        "iteration": 630,
                        "remaining_time": 88.09090241,
                        "learn": [
                          0.06807226917
                        ]
                      },
                      {
                        "test": [
                          0.06806002529
                        ],
                        "passed_time": 150.8386816,
                        "iteration": 631,
                        "remaining_time": 87.83011841,
                        "learn": [
                          0.06807226298
                        ]
                      },
                      {
                        "test": [
                          0.06806002489
                        ],
                        "passed_time": 151.0980521,
                        "iteration": 632,
                        "remaining_time": 87.60345201,
                        "learn": [
                          0.06807225731
                        ]
                      },
                      {
                        "test": [
                          0.06806002462
                        ],
                        "passed_time": 151.3035922,
                        "iteration": 633,
                        "remaining_time": 87.34560686,
                        "learn": [
                          0.06807225296
                        ]
                      },
                      {
                        "test": [
                          0.06806002417
                        ],
                        "passed_time": 151.5231686,
                        "iteration": 634,
                        "remaining_time": 87.09599452,
                        "learn": [
                          0.06807223706
                        ]
                      },
                      {
                        "test": [
                          0.06806005105
                        ],
                        "passed_time": 151.7303376,
                        "iteration": 635,
                        "remaining_time": 86.83937563,
                        "learn": [
                          0.06807223046
                        ]
                      },
                      {
                        "test": [
                          0.06806005072
                        ],
                        "passed_time": 152.0023299,
                        "iteration": 636,
                        "remaining_time": 86.61985206,
                        "learn": [
                          0.06807222978
                        ]
                      },
                      {
                        "test": [
                          0.06806005067
                        ],
                        "passed_time": 152.2428802,
                        "iteration": 637,
                        "remaining_time": 86.3823239,
                        "learn": [
                          0.06807222656
                        ]
                      },
                      {
                        "test": [
                          0.06806005015
                        ],
                        "passed_time": 152.4470733,
                        "iteration": 638,
                        "remaining_time": 86.12424643,
                        "learn": [
                          0.06807222482
                        ]
                      },
                      {
                        "test": [
                          0.06806005116
                        ],
                        "passed_time": 152.6702009,
                        "iteration": 639,
                        "remaining_time": 85.87698803,
                        "learn": [
                          0.06807222276
                        ]
                      },
                      {
                        "test": [
                          0.06806005116
                        ],
                        "passed_time": 152.8720364,
                        "iteration": 640,
                        "remaining_time": 85.61787997,
                        "learn": [
                          0.06807222138
                        ]
                      },
                      {
                        "test": [
                          0.06806005155
                        ],
                        "passed_time": 153.1011068,
                        "iteration": 641,
                        "remaining_time": 85.37413742,
                        "learn": [
                          0.06807222031
                        ]
                      },
                      {
                        "test": [
                          0.06806005164
                        ],
                        "passed_time": 153.3329808,
                        "iteration": 642,
                        "remaining_time": 85.1319971,
                        "learn": [
                          0.0680722168
                        ]
                      },
                      {
                        "test": [
                          0.06806005251
                        ],
                        "passed_time": 153.5505454,
                        "iteration": 643,
                        "remaining_time": 84.88197851,
                        "learn": [
                          0.0680722162
                        ]
                      },
                      {
                        "test": [
                          0.06806005266
                        ],
                        "passed_time": 153.7586733,
                        "iteration": 644,
                        "remaining_time": 84.62686668,
                        "learn": [
                          0.06807221495
                        ]
                      },
                      {
                        "test": [
                          0.06806005324
                        ],
                        "passed_time": 153.969574,
                        "iteration": 645,
                        "remaining_time": 84.37341979,
                        "learn": [
                          0.06807220647
                        ]
                      },
                      {
                        "test": [
                          0.06806005306
                        ],
                        "passed_time": 154.2022151,
                        "iteration": 646,
                        "remaining_time": 84.13196587,
                        "learn": [
                          0.06807220312
                        ]
                      },
                      {
                        "test": [
                          0.06806006372
                        ],
                        "passed_time": 154.4267602,
                        "iteration": 647,
                        "remaining_time": 83.88614136,
                        "learn": [
                          0.06807219186
                        ]
                      },
                      {
                        "test": [
                          0.06806006368
                        ],
                        "passed_time": 154.6473947,
                        "iteration": 648,
                        "remaining_time": 83.63826742,
                        "learn": [
                          0.06807219168
                        ]
                      },
                      {
                        "test": [
                          0.06806006427
                        ],
                        "passed_time": 154.8566674,
                        "iteration": 649,
                        "remaining_time": 83.38435934,
                        "learn": [
                          0.06807219085
                        ]
                      },
                      {
                        "test": [
                          0.06806006435
                        ],
                        "passed_time": 155.0570084,
                        "iteration": 650,
                        "remaining_time": 83.12580018,
                        "learn": [
                          0.06807218736
                        ]
                      },
                      {
                        "test": [
                          0.06806006436
                        ],
                        "passed_time": 155.2798401,
                        "iteration": 651,
                        "remaining_time": 82.87942386,
                        "learn": [
                          0.06807217698
                        ]
                      },
                      {
                        "test": [
                          0.06806006455
                        ],
                        "passed_time": 155.5177552,
                        "iteration": 652,
                        "remaining_time": 82.64113482,
                        "learn": [
                          0.06807217617
                        ]
                      },
                      {
                        "test": [
                          0.06806006445
                        ],
                        "passed_time": 155.7383928,
                        "iteration": 653,
                        "remaining_time": 82.39370631,
                        "learn": [
                          0.06807217111
                        ]
                      },
                      {
                        "test": [
                          0.06806006462
                        ],
                        "passed_time": 155.9614126,
                        "iteration": 654,
                        "remaining_time": 82.14761429,
                        "learn": [
                          0.06807216398
                        ]
                      },
                      {
                        "test": [
                          0.06806006335
                        ],
                        "passed_time": 156.1686307,
                        "iteration": 655,
                        "remaining_time": 81.89330637,
                        "learn": [
                          0.06807215763
                        ]
                      },
                      {
                        "test": [
                          0.06806006202
                        ],
                        "passed_time": 156.427227,
                        "iteration": 656,
                        "remaining_time": 81.66596479,
                        "learn": [
                          0.06807215653
                        ]
                      },
                      {
                        "test": [
                          0.06806006171
                        ],
                        "passed_time": 156.6391237,
                        "iteration": 657,
                        "remaining_time": 81.41425579,
                        "learn": [
                          0.06807215257
                        ]
                      },
                      {
                        "test": [
                          0.0680600607
                        ],
                        "passed_time": 156.8577732,
                        "iteration": 658,
                        "remaining_time": 81.16616186,
                        "learn": [
                          0.06807214918
                        ]
                      },
                      {
                        "test": [
                          0.06806006046
                        ],
                        "passed_time": 157.0637419,
                        "iteration": 659,
                        "remaining_time": 80.91162462,
                        "learn": [
                          0.06807214435
                        ]
                      },
                      {
                        "test": [
                          0.0680600601
                        ],
                        "passed_time": 157.2705081,
                        "iteration": 660,
                        "remaining_time": 80.65764334,
                        "learn": [
                          0.06807213991
                        ]
                      },
                      {
                        "test": [
                          0.06806005987
                        ],
                        "passed_time": 157.5333039,
                        "iteration": 661,
                        "remaining_time": 80.43241197,
                        "learn": [
                          0.06807213876
                        ]
                      },
                      {
                        "test": [
                          0.06806006028
                        ],
                        "passed_time": 157.7484812,
                        "iteration": 662,
                        "remaining_time": 80.18286297,
                        "learn": [
                          0.06807213781
                        ]
                      },
                      {
                        "test": [
                          0.06806006046
                        ],
                        "passed_time": 157.9547459,
                        "iteration": 663,
                        "remaining_time": 79.92890758,
                        "learn": [
                          0.06807213581
                        ]
                      },
                      {
                        "test": [
                          0.06806006043
                        ],
                        "passed_time": 158.1607566,
                        "iteration": 664,
                        "remaining_time": 79.6749676,
                        "learn": [
                          0.06807213549
                        ]
                      },
                      {
                        "test": [
                          0.06806006045
                        ],
                        "passed_time": 158.3626926,
                        "iteration": 665,
                        "remaining_time": 79.41912814,
                        "learn": [
                          0.06807213516
                        ]
                      },
                      {
                        "test": [
                          0.06806006074
                        ],
                        "passed_time": 158.6187267,
                        "iteration": 666,
                        "remaining_time": 79.19045875,
                        "learn": [
                          0.06807213494
                        ]
                      },
                      {
                        "test": [
                          0.06806006135
                        ],
                        "passed_time": 158.8298166,
                        "iteration": 667,
                        "remaining_time": 78.93936991,
                        "learn": [
                          0.06807213445
                        ]
                      },
                      {
                        "test": [
                          0.06806006128
                        ],
                        "passed_time": 159.0403184,
                        "iteration": 668,
                        "remaining_time": 78.68810969,
                        "learn": [
                          0.06807212854
                        ]
                      },
                      {
                        "test": [
                          0.0680600614
                        ],
                        "passed_time": 159.2538875,
                        "iteration": 669,
                        "remaining_time": 78.43848191,
                        "learn": [
                          0.06807212179
                        ]
                      },
                      {
                        "test": [
                          0.0680600605
                        ],
                        "passed_time": 159.4886637,
                        "iteration": 670,
                        "remaining_time": 78.19935969,
                        "learn": [
                          0.06807212098
                        ]
                      },
                      {
                        "test": [
                          0.06806006087
                        ],
                        "passed_time": 159.7223967,
                        "iteration": 671,
                        "remaining_time": 77.95974124,
                        "learn": [
                          0.06807211493
                        ]
                      },
                      {
                        "test": [
                          0.06806006048
                        ],
                        "passed_time": 159.9291899,
                        "iteration": 672,
                        "remaining_time": 77.70705067,
                        "learn": [
                          0.0680721133
                        ]
                      },
                      {
                        "test": [
                          0.06806006063
                        ],
                        "passed_time": 160.1416537,
                        "iteration": 673,
                        "remaining_time": 77.45723901,
                        "learn": [
                          0.06807209546
                        ]
                      },
                      {
                        "test": [
                          0.06806006062
                        ],
                        "passed_time": 160.3505079,
                        "iteration": 674,
                        "remaining_time": 77.2058001,
                        "learn": [
                          0.06807209224
                        ]
                      },
                      {
                        "test": [
                          0.06806006146
                        ],
                        "passed_time": 160.5855829,
                        "iteration": 675,
                        "remaining_time": 76.96705451,
                        "learn": [
                          0.06807209134
                        ]
                      },
                      {
                        "test": [
                          0.06806006178
                        ],
                        "passed_time": 160.8150797,
                        "iteration": 676,
                        "remaining_time": 76.72565839,
                        "learn": [
                          0.06807208941
                        ]
                      },
                      {
                        "test": [
                          0.06806006157
                        ],
                        "passed_time": 161.0255961,
                        "iteration": 677,
                        "remaining_time": 76.4752831,
                        "learn": [
                          0.06807208351
                        ]
                      },
                      {
                        "test": [
                          0.06806006055
                        ],
                        "passed_time": 161.2394082,
                        "iteration": 678,
                        "remaining_time": 76.22658325,
                        "learn": [
                          0.06807207434
                        ]
                      },
                      {
                        "test": [
                          0.06806005992
                        ],
                        "passed_time": 161.4416061,
                        "iteration": 679,
                        "remaining_time": 75.97252053,
                        "learn": [
                          0.0680720725
                        ]
                      },
                      {
                        "test": [
                          0.06806006061
                        ],
                        "passed_time": 161.6686556,
                        "iteration": 680,
                        "remaining_time": 75.73025129,
                        "learn": [
                          0.06807207153
                        ]
                      },
                      {
                        "test": [
                          0.06806008324
                        ],
                        "passed_time": 161.8955104,
                        "iteration": 681,
                        "remaining_time": 75.48793592,
                        "learn": [
                          0.06807205283
                        ]
                      },
                      {
                        "test": [
                          0.06806008373
                        ],
                        "passed_time": 162.0997806,
                        "iteration": 682,
                        "remaining_time": 75.23518369,
                        "learn": [
                          0.06807205149
                        ]
                      },
                      {
                        "test": [
                          0.06806008551
                        ],
                        "passed_time": 162.3071442,
                        "iteration": 683,
                        "remaining_time": 74.98400229,
                        "learn": [
                          0.06807203523
                        ]
                      },
                      {
                        "test": [
                          0.06806008576
                        ],
                        "passed_time": 162.5141403,
                        "iteration": 684,
                        "remaining_time": 74.73277985,
                        "learn": [
                          0.06807203203
                        ]
                      },
                      {
                        "test": [
                          0.06806008537
                        ],
                        "passed_time": 162.7462484,
                        "iteration": 685,
                        "remaining_time": 74.49318077,
                        "learn": [
                          0.0680720302
                        ]
                      },
                      {
                        "test": [
                          0.06806008505
                        ],
                        "passed_time": 162.9761896,
                        "iteration": 686,
                        "remaining_time": 74.25261621,
                        "learn": [
                          0.06807202976
                        ]
                      },
                      {
                        "test": [
                          0.06806008481
                        ],
                        "passed_time": 163.1814212,
                        "iteration": 687,
                        "remaining_time": 74.00087706,
                        "learn": [
                          0.06807201888
                        ]
                      },
                      {
                        "test": [
                          0.06806008365
                        ],
                        "passed_time": 163.3883967,
                        "iteration": 688,
                        "remaining_time": 73.75006006,
                        "learn": [
                          0.06807201229
                        ]
                      },
                      {
                        "test": [
                          0.06806008365
                        ],
                        "passed_time": 163.5933537,
                        "iteration": 689,
                        "remaining_time": 73.49846326,
                        "learn": [
                          0.06807201162
                        ]
                      },
                      {
                        "test": [
                          0.0680600842
                        ],
                        "passed_time": 163.8355258,
                        "iteration": 690,
                        "remaining_time": 73.26364321,
                        "learn": [
                          0.06807200925
                        ]
                      },
                      {
                        "test": [
                          0.0680600844
                        ],
                        "passed_time": 164.0610488,
                        "iteration": 691,
                        "remaining_time": 73.02139164,
                        "learn": [
                          0.0680720084
                        ]
                      },
                      {
                        "test": [
                          0.06806008425
                        ],
                        "passed_time": 164.2656913,
                        "iteration": 692,
                        "remaining_time": 72.7699383,
                        "learn": [
                          0.06807200682
                        ]
                      },
                      {
                        "test": [
                          0.06806008484
                        ],
                        "passed_time": 164.4776742,
                        "iteration": 693,
                        "remaining_time": 72.52185637,
                        "learn": [
                          0.0680719962
                        ]
                      },
                      {
                        "test": [
                          0.06806009171
                        ],
                        "passed_time": 164.6827401,
                        "iteration": 694,
                        "remaining_time": 72.27084277,
                        "learn": [
                          0.06807198744
                        ]
                      },
                      {
                        "test": [
                          0.06806009025
                        ],
                        "passed_time": 164.9220433,
                        "iteration": 695,
                        "remaining_time": 72.03491546,
                        "learn": [
                          0.06807197494
                        ]
                      },
                      {
                        "test": [
                          0.06806008988
                        ],
                        "passed_time": 165.1531733,
                        "iteration": 696,
                        "remaining_time": 71.79542539,
                        "learn": [
                          0.06807197087
                        ]
                      },
                      {
                        "test": [
                          0.06806008951
                        ],
                        "passed_time": 165.3631037,
                        "iteration": 697,
                        "remaining_time": 71.54678698,
                        "learn": [
                          0.06807196687
                        ]
                      },
                      {
                        "test": [
                          0.06806008775
                        ],
                        "passed_time": 165.5759062,
                        "iteration": 698,
                        "remaining_time": 71.29949607,
                        "learn": [
                          0.06807196605
                        ]
                      },
                      {
                        "test": [
                          0.0680600872
                        ],
                        "passed_time": 165.7828973,
                        "iteration": 699,
                        "remaining_time": 71.04981312,
                        "learn": [
                          0.06807195292
                        ]
                      },
                      {
                        "test": [
                          0.06806008774
                        ],
                        "passed_time": 166.0512241,
                        "iteration": 700,
                        "remaining_time": 70.82641372,
                        "learn": [
                          0.06807195141
                        ]
                      },
                      {
                        "test": [
                          0.06806008725
                        ],
                        "passed_time": 166.2497722,
                        "iteration": 701,
                        "remaining_time": 70.57326511,
                        "learn": [
                          0.0680719467
                        ]
                      },
                      {
                        "test": [
                          0.06806008784
                        ],
                        "passed_time": 166.4594057,
                        "iteration": 702,
                        "remaining_time": 70.32495518,
                        "learn": [
                          0.06807194442
                        ]
                      },
                      {
                        "test": [
                          0.06806008761
                        ],
                        "passed_time": 166.6671573,
                        "iteration": 703,
                        "remaining_time": 70.07596385,
                        "learn": [
                          0.06807194258
                        ]
                      },
                      {
                        "test": [
                          0.06806008842
                        ],
                        "passed_time": 166.8852737,
                        "iteration": 704,
                        "remaining_time": 69.83142659,
                        "learn": [
                          0.06807194034
                        ]
                      },
                      {
                        "test": [
                          0.06806008912
                        ],
                        "passed_time": 167.1348432,
                        "iteration": 705,
                        "remaining_time": 69.60006218,
                        "learn": [
                          0.06807194035
                        ]
                      },
                      {
                        "test": [
                          0.06806008865
                        ],
                        "passed_time": 167.3420355,
                        "iteration": 706,
                        "remaining_time": 69.35108403,
                        "learn": [
                          0.06807193971
                        ]
                      },
                      {
                        "test": [
                          0.068060089
                        ],
                        "passed_time": 167.5530128,
                        "iteration": 707,
                        "remaining_time": 69.10378495,
                        "learn": [
                          0.0680719381
                        ]
                      },
                      {
                        "test": [
                          0.06806008804
                        ],
                        "passed_time": 167.7591778,
                        "iteration": 708,
                        "remaining_time": 68.85461316,
                        "learn": [
                          0.06807193775
                        ]
                      },
                      {
                        "test": [
                          0.06806008795
                        ],
                        "passed_time": 167.9760385,
                        "iteration": 709,
                        "remaining_time": 68.60993122,
                        "learn": [
                          0.06807193638
                        ]
                      },
                      {
                        "test": [
                          0.06806008839
                        ],
                        "passed_time": 168.2394602,
                        "iteration": 710,
                        "remaining_time": 68.38425315,
                        "learn": [
                          0.0680719362
                        ]
                      },
                      {
                        "test": [
                          0.06806008723
                        ],
                        "passed_time": 168.43846,
                        "iteration": 711,
                        "remaining_time": 68.13241078,
                        "learn": [
                          0.06807193415
                        ]
                      },
                      {
                        "test": [
                          0.06806008679
                        ],
                        "passed_time": 168.6445065,
                        "iteration": 712,
                        "remaining_time": 67.8835531,
                        "learn": [
                          0.06807193285
                        ]
                      },
                      {
                        "test": [
                          0.06806008735
                        ],
                        "passed_time": 168.8518083,
                        "iteration": 713,
                        "remaining_time": 67.63531815,
                        "learn": [
                          0.06807193272
                        ]
                      },
                      {
                        "test": [
                          0.06806008679
                        ],
                        "passed_time": 169.0625744,
                        "iteration": 714,
                        "remaining_time": 67.38857859,
                        "learn": [
                          0.0680719229
                        ]
                      },
                      {
                        "test": [
                          0.06806008684
                        ],
                        "passed_time": 169.3923644,
                        "iteration": 715,
                        "remaining_time": 67.18915011,
                        "learn": [
                          0.06807192259
                        ]
                      },
                      {
                        "test": [
                          0.06806008615
                        ],
                        "passed_time": 169.601548,
                        "iteration": 716,
                        "remaining_time": 66.94175463,
                        "learn": [
                          0.068071911
                        ]
                      },
                      {
                        "test": [
                          0.06806008604
                        ],
                        "passed_time": 169.805904,
                        "iteration": 717,
                        "remaining_time": 66.69256955,
                        "learn": [
                          0.0680719105
                        ]
                      },
                      {
                        "test": [
                          0.06806008611
                        ],
                        "passed_time": 170.024153,
                        "iteration": 718,
                        "remaining_time": 66.4489388,
                        "learn": [
                          0.06807190876
                        ]
                      },
                      {
                        "test": [
                          0.06806010131
                        ],
                        "passed_time": 170.2526671,
                        "iteration": 719,
                        "remaining_time": 66.20937055,
                        "learn": [
                          0.06807190472
                        ]
                      },
                      {
                        "test": [
                          0.06806010081
                        ],
                        "passed_time": 170.4809732,
                        "iteration": 720,
                        "remaining_time": 65.96975248,
                        "learn": [
                          0.06807190368
                        ]
                      },
                      {
                        "test": [
                          0.06806009967
                        ],
                        "passed_time": 170.6824243,
                        "iteration": 721,
                        "remaining_time": 65.71982541,
                        "learn": [
                          0.06807190325
                        ]
                      },
                      {
                        "test": [
                          0.06806009978
                        ],
                        "passed_time": 170.894815,
                        "iteration": 722,
                        "remaining_time": 65.47422374,
                        "learn": [
                          0.06807190205
                        ]
                      },
                      {
                        "test": [
                          0.06806009967
                        ],
                        "passed_time": 171.1084289,
                        "iteration": 723,
                        "remaining_time": 65.22918007,
                        "learn": [
                          0.06807189852
                        ]
                      },
                      {
                        "test": [
                          0.06806009911
                        ],
                        "passed_time": 171.3378663,
                        "iteration": 724,
                        "remaining_time": 64.99022516,
                        "learn": [
                          0.06807189782
                        ]
                      },
                      {
                        "test": [
                          0.06806009856
                        ],
                        "passed_time": 171.5617589,
                        "iteration": 725,
                        "remaining_time": 64.74920376,
                        "learn": [
                          0.06807189752
                        ]
                      },
                      {
                        "test": [
                          0.0680600984
                        ],
                        "passed_time": 171.7662586,
                        "iteration": 726,
                        "remaining_time": 64.50094719,
                        "learn": [
                          0.0680718962
                        ]
                      },
                      {
                        "test": [
                          0.06806009799
                        ],
                        "passed_time": 171.9730664,
                        "iteration": 727,
                        "remaining_time": 64.25367317,
                        "learn": [
                          0.06807189569
                        ]
                      },
                      {
                        "test": [
                          0.06806010572
                        ],
                        "passed_time": 172.1815789,
                        "iteration": 728,
                        "remaining_time": 64.00714387,
                        "learn": [
                          0.06807189214
                        ]
                      },
                      {
                        "test": [
                          0.06806010177
                        ],
                        "passed_time": 172.4120738,
                        "iteration": 729,
                        "remaining_time": 63.76884923,
                        "learn": [
                          0.06807188947
                        ]
                      },
                      {
                        "test": [
                          0.06806010155
                        ],
                        "passed_time": 172.6378599,
                        "iteration": 730,
                        "remaining_time": 63.5288431,
                        "learn": [
                          0.06807188458
                        ]
                      },
                      {
                        "test": [
                          0.0680601018
                        ],
                        "passed_time": 172.8427591,
                        "iteration": 731,
                        "remaining_time": 63.28122875,
                        "learn": [
                          0.06807188149
                        ]
                      },
                      {
                        "test": [
                          0.06806010195
                        ],
                        "passed_time": 173.0625158,
                        "iteration": 732,
                        "remaining_time": 63.03914286,
                        "learn": [
                          0.06807188048
                        ]
                      },
                      {
                        "test": [
                          0.06806010155
                        ],
                        "passed_time": 173.2679349,
                        "iteration": 733,
                        "remaining_time": 62.79192191,
                        "learn": [
                          0.06807184981
                        ]
                      },
                      {
                        "test": [
                          0.0680601018
                        ],
                        "passed_time": 173.4902176,
                        "iteration": 734,
                        "remaining_time": 62.55089478,
                        "learn": [
                          0.06807184948
                        ]
                      },
                      {
                        "test": [
                          0.06806010203
                        ],
                        "passed_time": 173.7276479,
                        "iteration": 735,
                        "remaining_time": 62.31535197,
                        "learn": [
                          0.06807184791
                        ]
                      },
                      {
                        "test": [
                          0.06806010156
                        ],
                        "passed_time": 173.9351728,
                        "iteration": 736,
                        "remaining_time": 62.06913223,
                        "learn": [
                          0.06807184532
                        ]
                      },
                      {
                        "test": [
                          0.06806010167
                        ],
                        "passed_time": 174.1533378,
                        "iteration": 737,
                        "remaining_time": 61.82679473,
                        "learn": [
                          0.06807184236
                        ]
                      },
                      {
                        "test": [
                          0.06806010132
                        ],
                        "passed_time": 174.3611144,
                        "iteration": 738,
                        "remaining_time": 61.58085366,
                        "learn": [
                          0.06807184203
                        ]
                      },
                      {
                        "test": [
                          0.0680601008
                        ],
                        "passed_time": 174.5955228,
                        "iteration": 739,
                        "remaining_time": 61.34437287,
                        "learn": [
                          0.06807183373
                        ]
                      },
                      {
                        "test": [
                          0.06806009953
                        ],
                        "passed_time": 174.8229559,
                        "iteration": 740,
                        "remaining_time": 61.10545962,
                        "learn": [
                          0.06807182464
                        ]
                      },
                      {
                        "test": [
                          0.06806010014
                        ],
                        "passed_time": 175.0399438,
                        "iteration": 741,
                        "remaining_time": 60.86294543,
                        "learn": [
                          0.06807182223
                        ]
                      },
                      {
                        "test": [
                          0.06806009979
                        ],
                        "passed_time": 175.2439732,
                        "iteration": 742,
                        "remaining_time": 60.61601764,
                        "learn": [
                          0.06807182186
                        ]
                      },
                      {
                        "test": [
                          0.06806009996
                        ],
                        "passed_time": 175.4529866,
                        "iteration": 743,
                        "remaining_time": 60.37092011,
                        "learn": [
                          0.06807182085
                        ]
                      },
                      {
                        "test": [
                          0.06806010077
                        ],
                        "passed_time": 175.6882957,
                        "iteration": 744,
                        "remaining_time": 60.13492,
                        "learn": [
                          0.06807182001
                        ]
                      },
                      {
                        "test": [
                          0.06806010058
                        ],
                        "passed_time": 175.9110134,
                        "iteration": 745,
                        "remaining_time": 59.89463461,
                        "learn": [
                          0.06807181642
                        ]
                      },
                      {
                        "test": [
                          0.06806010037
                        ],
                        "passed_time": 176.1271191,
                        "iteration": 746,
                        "remaining_time": 59.65215679,
                        "learn": [
                          0.06807181281
                        ]
                      },
                      {
                        "test": [
                          0.06806009998
                        ],
                        "passed_time": 176.3394446,
                        "iteration": 747,
                        "remaining_time": 59.408476,
                        "learn": [
                          0.06807179026
                        ]
                      },
                      {
                        "test": [
                          0.06806009997
                        ],
                        "passed_time": 176.5453948,
                        "iteration": 748,
                        "remaining_time": 59.16274245,
                        "learn": [
                          0.06807178798
                        ]
                      },
                      {
                        "test": [
                          0.06806011847
                        ],
                        "passed_time": 176.7811957,
                        "iteration": 749,
                        "remaining_time": 58.92706525,
                        "learn": [
                          0.06807177202
                        ]
                      },
                      {
                        "test": [
                          0.06806011801
                        ],
                        "passed_time": 177.0028967,
                        "iteration": 750,
                        "remaining_time": 58.68671276,
                        "learn": [
                          0.06807177145
                        ]
                      },
                      {
                        "test": [
                          0.06806011831
                        ],
                        "passed_time": 177.2197923,
                        "iteration": 751,
                        "remaining_time": 58.44482511,
                        "learn": [
                          0.06807177086
                        ]
                      },
                      {
                        "test": [
                          0.06806011782
                        ],
                        "passed_time": 177.428787,
                        "iteration": 752,
                        "remaining_time": 58.20041221,
                        "learn": [
                          0.06807177028
                        ]
                      },
                      {
                        "test": [
                          0.06806012381
                        ],
                        "passed_time": 177.635099,
                        "iteration": 753,
                        "remaining_time": 57.95521796,
                        "learn": [
                          0.06807176887
                        ]
                      },
                      {
                        "test": [
                          0.06806012434
                        ],
                        "passed_time": 177.8664403,
                        "iteration": 754,
                        "remaining_time": 57.71824883,
                        "learn": [
                          0.06807176734
                        ]
                      },
                      {
                        "test": [
                          0.06806012057
                        ],
                        "passed_time": 178.0986612,
                        "iteration": 755,
                        "remaining_time": 57.48157847,
                        "learn": [
                          0.06807176547
                        ]
                      },
                      {
                        "test": [
                          0.06806012025
                        ],
                        "passed_time": 178.3015755,
                        "iteration": 756,
                        "remaining_time": 57.23551235,
                        "learn": [
                          0.06807176487
                        ]
                      },
                      {
                        "test": [
                          0.06806012029
                        ],
                        "passed_time": 178.5151628,
                        "iteration": 757,
                        "remaining_time": 56.99296753,
                        "learn": [
                          0.06807176455
                        ]
                      },
                      {
                        "test": [
                          0.06806012061
                        ],
                        "passed_time": 178.7164997,
                        "iteration": 758,
                        "remaining_time": 56.74660926,
                        "learn": [
                          0.06807176244
                        ]
                      },
                      {
                        "test": [
                          0.06806011899
                        ],
                        "passed_time": 178.9464254,
                        "iteration": 759,
                        "remaining_time": 56.5093975,
                        "learn": [
                          0.06807175245
                        ]
                      },
                      {
                        "test": [
                          0.06806011718
                        ],
                        "passed_time": 179.4181828,
                        "iteration": 760,
                        "remaining_time": 56.34815466,
                        "learn": [
                          0.06807174922
                        ]
                      },
                      {
                        "test": [
                          0.06806011697
                        ],
                        "passed_time": 179.7905965,
                        "iteration": 761,
                        "remaining_time": 56.1550682,
                        "learn": [
                          0.06807174899
                        ]
                      },
                      {
                        "test": [
                          0.0680601172
                        ],
                        "passed_time": 180.2100499,
                        "iteration": 762,
                        "remaining_time": 55.97612297,
                        "learn": [
                          0.06807174877
                        ]
                      },
                      {
                        "test": [
                          0.06806011749
                        ],
                        "passed_time": 180.5392523,
                        "iteration": 763,
                        "remaining_time": 55.76866955,
                        "learn": [
                          0.06807174128
                        ]
                      },
                      {
                        "test": [
                          0.06806011741
                        ],
                        "passed_time": 180.8915684,
                        "iteration": 764,
                        "remaining_time": 55.56799815,
                        "learn": [
                          0.06807174109
                        ]
                      },
                      {
                        "test": [
                          0.06806011765
                        ],
                        "passed_time": 181.3386202,
                        "iteration": 765,
                        "remaining_time": 55.39587093,
                        "learn": [
                          0.06807173556
                        ]
                      },
                      {
                        "test": [
                          0.06806011758
                        ],
                        "passed_time": 181.7029171,
                        "iteration": 766,
                        "remaining_time": 55.19788747,
                        "learn": [
                          0.06807172427
                        ]
                      },
                      {
                        "test": [
                          0.06806011683
                        ],
                        "passed_time": 181.9562248,
                        "iteration": 767,
                        "remaining_time": 54.96594292,
                        "learn": [
                          0.06807171293
                        ]
                      },
                      {
                        "test": [
                          0.06806011543
                        ],
                        "passed_time": 182.1579103,
                        "iteration": 768,
                        "remaining_time": 54.718436,
                        "learn": [
                          0.06807171203
                        ]
                      },
                      {
                        "test": [
                          0.06806011505
                        ],
                        "passed_time": 182.4280366,
                        "iteration": 769,
                        "remaining_time": 54.49149144,
                        "learn": [
                          0.06807171154
                        ]
                      },
                      {
                        "test": [
                          0.06806011523
                        ],
                        "passed_time": 182.6293667,
                        "iteration": 770,
                        "remaining_time": 54.24400128,
                        "learn": [
                          0.06807170969
                        ]
                      },
                      {
                        "test": [
                          0.06806011513
                        ],
                        "passed_time": 182.8308806,
                        "iteration": 771,
                        "remaining_time": 53.99668495,
                        "learn": [
                          0.06807170746
                        ]
                      },
                      {
                        "test": [
                          0.06806011522
                        ],
                        "passed_time": 183.0363456,
                        "iteration": 772,
                        "remaining_time": 53.75064741,
                        "learn": [
                          0.06807170704
                        ]
                      },
                      {
                        "test": [
                          0.06806011563
                        ],
                        "passed_time": 183.252627,
                        "iteration": 773,
                        "remaining_time": 53.50787301,
                        "learn": [
                          0.06807170687
                        ]
                      },
                      {
                        "test": [
                          0.068060115
                        ],
                        "passed_time": 183.5201728,
                        "iteration": 774,
                        "remaining_time": 53.28005016,
                        "learn": [
                          0.06807170639
                        ]
                      },
                      {
                        "test": [
                          0.06806011463
                        ],
                        "passed_time": 183.7259277,
                        "iteration": 775,
                        "remaining_time": 53.03428841,
                        "learn": [
                          0.06807170003
                        ]
                      },
                      {
                        "test": [
                          0.06806011489
                        ],
                        "passed_time": 183.9696535,
                        "iteration": 776,
                        "remaining_time": 52.79952731,
                        "learn": [
                          0.06807169969
                        ]
                      },
                      {
                        "test": [
                          0.06806011513
                        ],
                        "passed_time": 184.4098721,
                        "iteration": 777,
                        "remaining_time": 52.62081185,
                        "learn": [
                          0.06807169849
                        ]
                      },
                      {
                        "test": [
                          0.06806011497
                        ],
                        "passed_time": 184.6836803,
                        "iteration": 778,
                        "remaining_time": 52.39421481,
                        "learn": [
                          0.06807169823
                        ]
                      },
                      {
                        "test": [
                          0.0680601151
                        ],
                        "passed_time": 184.9086779,
                        "iteration": 779,
                        "remaining_time": 52.15372965,
                        "learn": [
                          0.06807169724
                        ]
                      },
                      {
                        "test": [
                          0.06806011523
                        ],
                        "passed_time": 185.1891546,
                        "iteration": 780,
                        "remaining_time": 51.92884106,
                        "learn": [
                          0.06807169425
                        ]
                      },
                      {
                        "test": [
                          0.06806011516
                        ],
                        "passed_time": 185.562803,
                        "iteration": 781,
                        "remaining_time": 51.72978396,
                        "learn": [
                          0.06807169029
                        ]
                      },
                      {
                        "test": [
                          0.06806011437
                        ],
                        "passed_time": 185.8684026,
                        "iteration": 782,
                        "remaining_time": 51.51142191,
                        "learn": [
                          0.06807168978
                        ]
                      },
                      {
                        "test": [
                          0.06806011331
                        ],
                        "passed_time": 186.2011102,
                        "iteration": 783,
                        "remaining_time": 51.30030588,
                        "learn": [
                          0.06807168907
                        ]
                      },
                      {
                        "test": [
                          0.06806011346
                        ],
                        "passed_time": 186.5877477,
                        "iteration": 784,
                        "remaining_time": 51.10365064,
                        "learn": [
                          0.06807167603
                        ]
                      },
                      {
                        "test": [
                          0.06806011223
                        ],
                        "passed_time": 187.134028,
                        "iteration": 785,
                        "remaining_time": 50.9499771,
                        "learn": [
                          0.06807167277
                        ]
                      },
                      {
                        "test": [
                          0.0680601122
                        ],
                        "passed_time": 188.0515866,
                        "iteration": 786,
                        "remaining_time": 50.89579154,
                        "learn": [
                          0.06807166766
                        ]
                      },
                      {
                        "test": [
                          0.06806011212
                        ],
                        "passed_time": 188.4759087,
                        "iteration": 787,
                        "remaining_time": 50.70671656,
                        "learn": [
                          0.06807166615
                        ]
                      },
                      {
                        "test": [
                          0.06806010973
                        ],
                        "passed_time": 188.7380806,
                        "iteration": 788,
                        "remaining_time": 50.47368188,
                        "learn": [
                          0.06807165905
                        ]
                      },
                      {
                        "test": [
                          0.06806010917
                        ],
                        "passed_time": 188.9483939,
                        "iteration": 789,
                        "remaining_time": 50.22678826,
                        "learn": [
                          0.06807165322
                        ]
                      },
                      {
                        "test": [
                          0.06806010915
                        ],
                        "passed_time": 189.319334,
                        "iteration": 790,
                        "remaining_time": 50.02242833,
                        "learn": [
                          0.0680716507
                        ]
                      },
                      {
                        "test": [
                          0.06806010887
                        ],
                        "passed_time": 189.5343431,
                        "iteration": 791,
                        "remaining_time": 49.77669618,
                        "learn": [
                          0.06807165018
                        ]
                      },
                      {
                        "test": [
                          0.06806010882
                        ],
                        "passed_time": 189.978472,
                        "iteration": 792,
                        "remaining_time": 49.59084955,
                        "learn": [
                          0.06807164777
                        ]
                      },
                      {
                        "test": [
                          0.06806010505
                        ],
                        "passed_time": 190.6097322,
                        "iteration": 793,
                        "remaining_time": 49.4529028,
                        "learn": [
                          0.06807163839
                        ]
                      },
                      {
                        "test": [
                          0.06806010527
                        ],
                        "passed_time": 190.8924747,
                        "iteration": 794,
                        "remaining_time": 49.22384567,
                        "learn": [
                          0.06807163792
                        ]
                      },
                      {
                        "test": [
                          0.0680601058
                        ],
                        "passed_time": 191.1078726,
                        "iteration": 795,
                        "remaining_time": 48.97739447,
                        "learn": [
                          0.0680716363
                        ]
                      },
                      {
                        "test": [
                          0.06806010579
                        ],
                        "passed_time": 191.4859574,
                        "iteration": 796,
                        "remaining_time": 48.77245841,
                        "learn": [
                          0.06807163465
                        ]
                      },
                      {
                        "test": [
                          0.06806010216
                        ],
                        "passed_time": 191.7272654,
                        "iteration": 797,
                        "remaining_time": 48.53246569,
                        "learn": [
                          0.06807163006
                        ]
                      },
                      {
                        "test": [
                          0.06806010261
                        ],
                        "passed_time": 192.0046506,
                        "iteration": 798,
                        "remaining_time": 48.30154539,
                        "learn": [
                          0.06807162949
                        ]
                      },
                      {
                        "test": [
                          0.06806010211
                        ],
                        "passed_time": 192.3376023,
                        "iteration": 799,
                        "remaining_time": 48.08440057,
                        "learn": [
                          0.06807162409
                        ]
                      },
                      {
                        "test": [
                          0.06806010211
                        ],
                        "passed_time": 192.7610207,
                        "iteration": 800,
                        "remaining_time": 47.88944209,
                        "learn": [
                          0.06807161979
                        ]
                      },
                      {
                        "test": [
                          0.06806010235
                        ],
                        "passed_time": 192.9815548,
                        "iteration": 801,
                        "remaining_time": 47.64382526,
                        "learn": [
                          0.06807161875
                        ]
                      },
                      {
                        "test": [
                          0.0680601027
                        ],
                        "passed_time": 193.2541014,
                        "iteration": 802,
                        "remaining_time": 47.4110311,
                        "learn": [
                          0.06807161606
                        ]
                      },
                      {
                        "test": [
                          0.06806010272
                        ],
                        "passed_time": 193.5108268,
                        "iteration": 803,
                        "remaining_time": 47.17428117,
                        "learn": [
                          0.06807161506
                        ]
                      },
                      {
                        "test": [
                          0.06806010313
                        ],
                        "passed_time": 193.7418647,
                        "iteration": 804,
                        "remaining_time": 46.93125915,
                        "learn": [
                          0.06807161473
                        ]
                      },
                      {
                        "test": [
                          0.06806010337
                        ],
                        "passed_time": 194.1327189,
                        "iteration": 805,
                        "remaining_time": 46.72673384,
                        "learn": [
                          0.06807161008
                        ]
                      },
                      {
                        "test": [
                          0.0680601034
                        ],
                        "passed_time": 194.5656528,
                        "iteration": 806,
                        "remaining_time": 46.53181039,
                        "learn": [
                          0.06807160915
                        ]
                      },
                      {
                        "test": [
                          0.06806010318
                        ],
                        "passed_time": 194.9022024,
                        "iteration": 807,
                        "remaining_time": 46.31339463,
                        "learn": [
                          0.06807160898
                        ]
                      },
                      {
                        "test": [
                          0.06806010283
                        ],
                        "passed_time": 195.1570217,
                        "iteration": 808,
                        "remaining_time": 46.07539079,
                        "learn": [
                          0.06807160156
                        ]
                      },
                      {
                        "test": [
                          0.06806010305
                        ],
                        "passed_time": 195.3585259,
                        "iteration": 809,
                        "remaining_time": 45.8248394,
                        "learn": [
                          0.06807160063
                        ]
                      },
                      {
                        "test": [
                          0.06806010332
                        ],
                        "passed_time": 195.6711978,
                        "iteration": 810,
                        "remaining_time": 45.60031614,
                        "learn": [
                          0.06807159989
                        ]
                      },
                      {
                        "test": [
                          0.06806011756
                        ],
                        "passed_time": 196.0273171,
                        "iteration": 811,
                        "remaining_time": 45.385635,
                        "learn": [
                          0.06807156291
                        ]
                      },
                      {
                        "test": [
                          0.06806011745
                        ],
                        "passed_time": 196.338388,
                        "iteration": 812,
                        "remaining_time": 45.16024423,
                        "learn": [
                          0.06807155948
                        ]
                      },
                      {
                        "test": [
                          0.06806011762
                        ],
                        "passed_time": 196.7069785,
                        "iteration": 813,
                        "remaining_time": 44.94778625,
                        "learn": [
                          0.06807155721
                        ]
                      },
                      {
                        "test": [
                          0.06806011676
                        ],
                        "passed_time": 197.0688755,
                        "iteration": 814,
                        "remaining_time": 44.73342572,
                        "learn": [
                          0.06807155511
                        ]
                      },
                      {
                        "test": [
                          0.06806011698
                        ],
                        "passed_time": 197.4540723,
                        "iteration": 815,
                        "remaining_time": 44.52395748,
                        "learn": [
                          0.06807155508
                        ]
                      },
                      {
                        "test": [
                          0.06806011627
                        ],
                        "passed_time": 197.6724043,
                        "iteration": 816,
                        "remaining_time": 44.27668296,
                        "learn": [
                          0.06807155266
                        ]
                      },
                      {
                        "test": [
                          0.06806011619
                        ],
                        "passed_time": 198.0456292,
                        "iteration": 817,
                        "remaining_time": 44.06394196,
                        "learn": [
                          0.0680715475
                        ]
                      },
                      {
                        "test": [
                          0.06806011424
                        ],
                        "passed_time": 198.5527914,
                        "iteration": 818,
                        "remaining_time": 43.88040933,
                        "learn": [
                          0.06807152466
                        ]
                      },
                      {
                        "test": [
                          0.0680601113
                        ],
                        "passed_time": 199.039204,
                        "iteration": 819,
                        "remaining_time": 43.69153258,
                        "learn": [
                          0.06807152124
                        ]
                      },
                      {
                        "test": [
                          0.06806011126
                        ],
                        "passed_time": 199.6568331,
                        "iteration": 820,
                        "remaining_time": 43.53053974,
                        "learn": [
                          0.06807151892
                        ]
                      },
                      {
                        "test": [
                          0.06806011129
                        ],
                        "passed_time": 200.1573024,
                        "iteration": 821,
                        "remaining_time": 43.34306549,
                        "learn": [
                          0.06807151815
                        ]
                      },
                      {
                        "test": [
                          0.06806011135
                        ],
                        "passed_time": 201.058899,
                        "iteration": 822,
                        "remaining_time": 43.24109979,
                        "learn": [
                          0.06807151693
                        ]
                      },
                      {
                        "test": [
                          0.0680601112
                        ],
                        "passed_time": 201.5976653,
                        "iteration": 823,
                        "remaining_time": 43.05969551,
                        "learn": [
                          0.0680715165
                        ]
                      },
                      {
                        "test": [
                          0.0680601111
                        ],
                        "passed_time": 202.0403941,
                        "iteration": 824,
                        "remaining_time": 42.85705329,
                        "learn": [
                          0.06807151321
                        ]
                      },
                      {
                        "test": [
                          0.0680601109
                        ],
                        "passed_time": 202.2903851,
                        "iteration": 825,
                        "remaining_time": 42.61322883,
                        "learn": [
                          0.0680715128
                        ]
                      },
                      {
                        "test": [
                          0.06806012696
                        ],
                        "passed_time": 202.6765632,
                        "iteration": 826,
                        "remaining_time": 42.39787839,
                        "learn": [
                          0.06807150547
                        ]
                      },
                      {
                        "test": [
                          0.06806012686
                        ],
                        "passed_time": 203.0409817,
                        "iteration": 827,
                        "remaining_time": 42.17759524,
                        "learn": [
                          0.06807150515
                        ]
                      },
                      {
                        "test": [
                          0.06806012663
                        ],
                        "passed_time": 203.4841809,
                        "iteration": 828,
                        "remaining_time": 41.97321463,
                        "learn": [
                          0.06807150493
                        ]
                      },
                      {
                        "test": [
                          0.06806012666
                        ],
                        "passed_time": 203.8789286,
                        "iteration": 829,
                        "remaining_time": 41.75833477,
                        "learn": [
                          0.06807150236
                        ]
                      },
                      {
                        "test": [
                          0.06806012683
                        ],
                        "passed_time": 204.2031616,
                        "iteration": 830,
                        "remaining_time": 41.52868148,
                        "learn": [
                          0.06807150051
                        ]
                      },
                      {
                        "test": [
                          0.06806012718
                        ],
                        "passed_time": 204.5476709,
                        "iteration": 831,
                        "remaining_time": 41.30289508,
                        "learn": [
                          0.06807150011
                        ]
                      },
                      {
                        "test": [
                          0.06806012716
                        ],
                        "passed_time": 204.9355841,
                        "iteration": 832,
                        "remaining_time": 41.08552527,
                        "learn": [
                          0.06807149526
                        ]
                      },
                      {
                        "test": [
                          0.06806012692
                        ],
                        "passed_time": 205.3155459,
                        "iteration": 833,
                        "remaining_time": 40.86616381,
                        "learn": [
                          0.06807149482
                        ]
                      },
                      {
                        "test": [
                          0.06806012665
                        ],
                        "passed_time": 205.599665,
                        "iteration": 834,
                        "remaining_time": 40.62747871,
                        "learn": [
                          0.0680714943
                        ]
                      },
                      {
                        "test": [
                          0.06806012646
                        ],
                        "passed_time": 205.9018134,
                        "iteration": 835,
                        "remaining_time": 40.39222177,
                        "learn": [
                          0.06807149365
                        ]
                      },
                      {
                        "test": [
                          0.06806012641
                        ],
                        "passed_time": 206.1095924,
                        "iteration": 836,
                        "remaining_time": 40.1384272,
                        "learn": [
                          0.06807149256
                        ]
                      },
                      {
                        "test": [
                          0.06806014262
                        ],
                        "passed_time": 206.3194186,
                        "iteration": 837,
                        "remaining_time": 39.8851382,
                        "learn": [
                          0.06807148065
                        ]
                      },
                      {
                        "test": [
                          0.06806014245
                        ],
                        "passed_time": 206.5312376,
                        "iteration": 838,
                        "remaining_time": 39.63233523,
                        "learn": [
                          0.06807147419
                        ]
                      },
                      {
                        "test": [
                          0.06806014255
                        ],
                        "passed_time": 206.7665973,
                        "iteration": 839,
                        "remaining_time": 39.38411377,
                        "learn": [
                          0.06807147139
                        ]
                      },
                      {
                        "test": [
                          0.06806014312
                        ],
                        "passed_time": 207.0112673,
                        "iteration": 840,
                        "remaining_time": 39.13768312,
                        "learn": [
                          0.06807146904
                        ]
                      },
                      {
                        "test": [
                          0.06806014322
                        ],
                        "passed_time": 207.2188814,
                        "iteration": 841,
                        "remaining_time": 38.88430315,
                        "learn": [
                          0.0680714629
                        ]
                      },
                      {
                        "test": [
                          0.06806014345
                        ],
                        "passed_time": 207.4276947,
                        "iteration": 842,
                        "remaining_time": 38.63125513,
                        "learn": [
                          0.06807145711
                        ]
                      },
                      {
                        "test": [
                          0.06806014358
                        ],
                        "passed_time": 207.6265477,
                        "iteration": 843,
                        "remaining_time": 38.3764709,
                        "learn": [
                          0.06807145689
                        ]
                      },
                      {
                        "test": [
                          0.06806014241
                        ],
                        "passed_time": 207.8723482,
                        "iteration": 844,
                        "remaining_time": 38.13043073,
                        "learn": [
                          0.06807143605
                        ]
                      },
                      {
                        "test": [
                          0.06806014227
                        ],
                        "passed_time": 208.1098752,
                        "iteration": 845,
                        "remaining_time": 37.88288509,
                        "learn": [
                          0.06807143133
                        ]
                      },
                      {
                        "test": [
                          0.0680601425
                        ],
                        "passed_time": 208.3111789,
                        "iteration": 846,
                        "remaining_time": 37.6288198,
                        "learn": [
                          0.06807143057
                        ]
                      },
                      {
                        "test": [
                          0.06806015601
                        ],
                        "passed_time": 208.5118908,
                        "iteration": 847,
                        "remaining_time": 37.37477288,
                        "learn": [
                          0.0680714267
                        ]
                      },
                      {
                        "test": [
                          0.06806015586
                        ],
                        "passed_time": 208.7096838,
                        "iteration": 848,
                        "remaining_time": 37.12033246,
                        "learn": [
                          0.06807142637
                        ]
                      },
                      {
                        "test": [
                          0.06806015603
                        ],
                        "passed_time": 208.9466894,
                        "iteration": 849,
                        "remaining_time": 36.87294519,
                        "learn": [
                          0.06807141966
                        ]
                      },
                      {
                        "test": [
                          0.0680601559
                        ],
                        "passed_time": 209.1855654,
                        "iteration": 850,
                        "remaining_time": 36.6259098,
                        "learn": [
                          0.06807141757
                        ]
                      },
                      {
                        "test": [
                          0.06806015607
                        ],
                        "passed_time": 209.3835978,
                        "iteration": 851,
                        "remaining_time": 36.37179868,
                        "learn": [
                          0.06807141729
                        ]
                      },
                      {
                        "test": [
                          0.06806015565
                        ],
                        "passed_time": 209.5882987,
                        "iteration": 852,
                        "remaining_time": 36.11896823,
                        "learn": [
                          0.06807140079
                        ]
                      },
                      {
                        "test": [
                          0.06806015575
                        ],
                        "passed_time": 209.7894778,
                        "iteration": 853,
                        "remaining_time": 35.86564843,
                        "learn": [
                          0.06807140067
                        ]
                      },
                      {
                        "test": [
                          0.06806015568
                        ],
                        "passed_time": 210.0200567,
                        "iteration": 854,
                        "remaining_time": 35.61743652,
                        "learn": [
                          0.06807139988
                        ]
                      },
                      {
                        "test": [
                          0.06806015554
                        ],
                        "passed_time": 210.261844,
                        "iteration": 855,
                        "remaining_time": 35.37115132,
                        "learn": [
                          0.06807139865
                        ]
                      },
                      {
                        "test": [
                          0.06806015589
                        ],
                        "passed_time": 210.4852072,
                        "iteration": 856,
                        "remaining_time": 35.12180237,
                        "learn": [
                          0.0680713949
                        ]
                      },
                      {
                        "test": [
                          0.06806015413
                        ],
                        "passed_time": 210.6909367,
                        "iteration": 857,
                        "remaining_time": 34.86959558,
                        "learn": [
                          0.06807139307
                        ]
                      },
                      {
                        "test": [
                          0.06806015421
                        ],
                        "passed_time": 210.894995,
                        "iteration": 858,
                        "remaining_time": 34.6172227,
                        "learn": [
                          0.06807139288
                        ]
                      },
                      {
                        "test": [
                          0.06806015345
                        ],
                        "passed_time": 211.1454665,
                        "iteration": 859,
                        "remaining_time": 34.3725178,
                        "learn": [
                          0.06807139249
                        ]
                      },
                      {
                        "test": [
                          0.06806015229
                        ],
                        "passed_time": 211.3874868,
                        "iteration": 860,
                        "remaining_time": 34.12643515,
                        "learn": [
                          0.06807139174
                        ]
                      },
                      {
                        "test": [
                          0.06806015223
                        ],
                        "passed_time": 211.7473439,
                        "iteration": 861,
                        "remaining_time": 33.89922675,
                        "learn": [
                          0.06807139135
                        ]
                      },
                      {
                        "test": [
                          0.0680601524
                        ],
                        "passed_time": 212.1204021,
                        "iteration": 862,
                        "remaining_time": 33.67380659,
                        "learn": [
                          0.06807139038
                        ]
                      },
                      {
                        "test": [
                          0.06806015071
                        ],
                        "passed_time": 212.5547183,
                        "iteration": 863,
                        "remaining_time": 33.45768714,
                        "learn": [
                          0.06807139001
                        ]
                      },
                      {
                        "test": [
                          0.06806015163
                        ],
                        "passed_time": 212.9197041,
                        "iteration": 864,
                        "remaining_time": 33.23024283,
                        "learn": [
                          0.06807138915
                        ]
                      },
                      {
                        "test": [
                          0.06806015159
                        ],
                        "passed_time": 213.1977107,
                        "iteration": 865,
                        "remaining_time": 32.98902221,
                        "learn": [
                          0.06807138894
                        ]
                      },
                      {
                        "test": [
                          0.06806016371
                        ],
                        "passed_time": 213.4941548,
                        "iteration": 866,
                        "remaining_time": 32.75054509,
                        "learn": [
                          0.0680713689
                        ]
                      },
                      {
                        "test": [
                          0.06806016393
                        ],
                        "passed_time": 213.8670631,
                        "iteration": 867,
                        "remaining_time": 32.52356258,
                        "learn": [
                          0.06807136728
                        ]
                      },
                      {
                        "test": [
                          0.06806016409
                        ],
                        "passed_time": 214.2229614,
                        "iteration": 868,
                        "remaining_time": 32.29368003,
                        "learn": [
                          0.06807136722
                        ]
                      },
                      {
                        "test": [
                          0.06806016452
                        ],
                        "passed_time": 214.6155023,
                        "iteration": 869,
                        "remaining_time": 32.0689831,
                        "learn": [
                          0.06807136488
                        ]
                      },
                      {
                        "test": [
                          0.06806016332
                        ],
                        "passed_time": 214.9590484,
                        "iteration": 870,
                        "remaining_time": 31.83664437,
                        "learn": [
                          0.06807136013
                        ]
                      },
                      {
                        "test": [
                          0.06806016295
                        ],
                        "passed_time": 215.3194916,
                        "iteration": 871,
                        "remaining_time": 31.60653087,
                        "learn": [
                          0.06807135719
                        ]
                      },
                      {
                        "test": [
                          0.06806016241
                        ],
                        "passed_time": 215.7338376,
                        "iteration": 872,
                        "remaining_time": 31.38396033,
                        "learn": [
                          0.06807135589
                        ]
                      },
                      {
                        "test": [
                          0.06806016304
                        ],
                        "passed_time": 216.1372122,
                        "iteration": 873,
                        "remaining_time": 31.15936927,
                        "learn": [
                          0.06807135532
                        ]
                      },
                      {
                        "test": [
                          0.06806016318
                        ],
                        "passed_time": 216.3825261,
                        "iteration": 874,
                        "remaining_time": 30.91178944,
                        "learn": [
                          0.06807135508
                        ]
                      },
                      {
                        "test": [
                          0.06806016132
                        ],
                        "passed_time": 216.5865054,
                        "iteration": 875,
                        "remaining_time": 30.65836378,
                        "learn": [
                          0.06807135498
                        ]
                      },
                      {
                        "test": [
                          0.06806015845
                        ],
                        "passed_time": 216.822647,
                        "iteration": 876,
                        "remaining_time": 30.40956166,
                        "learn": [
                          0.06807135452
                        ]
                      },
                      {
                        "test": [
                          0.06806015874
                        ],
                        "passed_time": 217.0708628,
                        "iteration": 877,
                        "remaining_time": 30.16246614,
                        "learn": [
                          0.06807135254
                        ]
                      },
                      {
                        "test": [
                          0.06806015738
                        ],
                        "passed_time": 217.2877822,
                        "iteration": 878,
                        "remaining_time": 29.91105989,
                        "learn": [
                          0.06807135141
                        ]
                      },
                      {
                        "test": [
                          0.06806015774
                        ],
                        "passed_time": 217.493958,
                        "iteration": 879,
                        "remaining_time": 29.658267,
                        "learn": [
                          0.0680713479
                        ]
                      },
                      {
                        "test": [
                          0.06806015741
                        ],
                        "passed_time": 217.6950065,
                        "iteration": 880,
                        "remaining_time": 29.40488737,
                        "learn": [
                          0.0680713456
                        ]
                      },
                      {
                        "test": [
                          0.06806015758
                        ],
                        "passed_time": 217.9306901,
                        "iteration": 881,
                        "remaining_time": 29.15626013,
                        "learn": [
                          0.06807134072
                        ]
                      },
                      {
                        "test": [
                          0.06806015711
                        ],
                        "passed_time": 218.1815133,
                        "iteration": 882,
                        "remaining_time": 28.90966824,
                        "learn": [
                          0.06807134066
                        ]
                      },
                      {
                        "test": [
                          0.06806015709
                        ],
                        "passed_time": 218.3943545,
                        "iteration": 883,
                        "remaining_time": 28.65808272,
                        "learn": [
                          0.06807133996
                        ]
                      },
                      {
                        "test": [
                          0.06806015689
                        ],
                        "passed_time": 218.6007512,
                        "iteration": 884,
                        "remaining_time": 28.40574733,
                        "learn": [
                          0.06807133815
                        ]
                      },
                      {
                        "test": [
                          0.06806015696
                        ],
                        "passed_time": 218.8692158,
                        "iteration": 885,
                        "remaining_time": 28.16150181,
                        "learn": [
                          0.06807133781
                        ]
                      },
                      {
                        "test": [
                          0.0680601569
                        ],
                        "passed_time": 219.3579097,
                        "iteration": 886,
                        "remaining_time": 27.94525795,
                        "learn": [
                          0.06807133754
                        ]
                      },
                      {
                        "test": [
                          0.06806015664
                        ],
                        "passed_time": 219.5653092,
                        "iteration": 887,
                        "remaining_time": 27.69292189,
                        "learn": [
                          0.06807133687
                        ]
                      },
                      {
                        "test": [
                          0.06806015601
                        ],
                        "passed_time": 219.8517538,
                        "iteration": 888,
                        "remaining_time": 27.45055644,
                        "learn": [
                          0.06807133004
                        ]
                      },
                      {
                        "test": [
                          0.06806015618
                        ],
                        "passed_time": 220.1223285,
                        "iteration": 889,
                        "remaining_time": 27.20613049,
                        "learn": [
                          0.06807132965
                        ]
                      },
                      {
                        "test": [
                          0.06806015598
                        ],
                        "passed_time": 220.4199668,
                        "iteration": 890,
                        "remaining_time": 26.96495666,
                        "learn": [
                          0.06807132724
                        ]
                      },
                      {
                        "test": [
                          0.06806015638
                        ],
                        "passed_time": 220.6546958,
                        "iteration": 891,
                        "remaining_time": 26.7160394,
                        "learn": [
                          0.06807132705
                        ]
                      },
                      {
                        "test": [
                          0.06806015635
                        ],
                        "passed_time": 220.9833727,
                        "iteration": 892,
                        "remaining_time": 26.47841084,
                        "learn": [
                          0.06807132294
                        ]
                      },
                      {
                        "test": [
                          0.06806015615
                        ],
                        "passed_time": 221.4428375,
                        "iteration": 893,
                        "remaining_time": 26.25608587,
                        "learn": [
                          0.0680713221
                        ]
                      },
                      {
                        "test": [
                          0.0680601562
                        ],
                        "passed_time": 221.6966033,
                        "iteration": 894,
                        "remaining_time": 26.00909871,
                        "learn": [
                          0.06807132198
                        ]
                      },
                      {
                        "test": [
                          0.06806015595
                        ],
                        "passed_time": 221.9627669,
                        "iteration": 895,
                        "remaining_time": 25.76353544,
                        "learn": [
                          0.06807131761
                        ]
                      },
                      {
                        "test": [
                          0.06806015596
                        ],
                        "passed_time": 222.1727716,
                        "iteration": 896,
                        "remaining_time": 25.51147768,
                        "learn": [
                          0.06807131755
                        ]
                      },
                      {
                        "test": [
                          0.06806015614
                        ],
                        "passed_time": 222.5796439,
                        "iteration": 897,
                        "remaining_time": 25.28187492,
                        "learn": [
                          0.06807131681
                        ]
                      },
                      {
                        "test": [
                          0.06806015626
                        ],
                        "passed_time": 223.0550492,
                        "iteration": 898,
                        "remaining_time": 25.05957727,
                        "learn": [
                          0.06807131614
                        ]
                      },
                      {
                        "test": [
                          0.06806015642
                        ],
                        "passed_time": 223.7456601,
                        "iteration": 899,
                        "remaining_time": 24.8606289,
                        "learn": [
                          0.06807131383
                        ]
                      },
                      {
                        "test": [
                          0.06806015655
                        ],
                        "passed_time": 224.4300314,
                        "iteration": 900,
                        "remaining_time": 24.65990356,
                        "learn": [
                          0.06807131255
                        ]
                      },
                      {
                        "test": [
                          0.06806015582
                        ],
                        "passed_time": 224.7372096,
                        "iteration": 901,
                        "remaining_time": 24.41712477,
                        "learn": [
                          0.06807130948
                        ]
                      },
                      {
                        "test": [
                          0.06806015566
                        ],
                        "passed_time": 224.9579004,
                        "iteration": 902,
                        "remaining_time": 24.16491289,
                        "learn": [
                          0.0680713093
                        ]
                      },
                      {
                        "test": [
                          0.06806015503
                        ],
                        "passed_time": 225.3870798,
                        "iteration": 903,
                        "remaining_time": 23.93491113,
                        "learn": [
                          0.06807130922
                        ]
                      },
                      {
                        "test": [
                          0.06806015578
                        ],
                        "passed_time": 225.7157535,
                        "iteration": 904,
                        "remaining_time": 23.69391888,
                        "learn": [
                          0.06807129979
                        ]
                      },
                      {
                        "test": [
                          0.0680601537
                        ],
                        "passed_time": 225.9753079,
                        "iteration": 905,
                        "remaining_time": 23.44556175,
                        "learn": [
                          0.06807129149
                        ]
                      },
                      {
                        "test": [
                          0.06806015369
                        ],
                        "passed_time": 226.5607838,
                        "iteration": 906,
                        "remaining_time": 23.23059856,
                        "learn": [
                          0.06807129069
                        ]
                      },
                      {
                        "test": [
                          0.06806015333
                        ],
                        "passed_time": 226.9297569,
                        "iteration": 907,
                        "remaining_time": 22.99288286,
                        "learn": [
                          0.0680712887
                        ]
                      },
                      {
                        "test": [
                          0.06806015326
                        ],
                        "passed_time": 227.3256254,
                        "iteration": 908,
                        "remaining_time": 22.75757086,
                        "learn": [
                          0.06807128863
                        ]
                      },
                      {
                        "test": [
                          0.06806015164
                        ],
                        "passed_time": 227.5536335,
                        "iteration": 909,
                        "remaining_time": 22.50530441,
                        "learn": [
                          0.06807128797
                        ]
                      },
                      {
                        "test": [
                          0.0680601514
                        ],
                        "passed_time": 227.8332262,
                        "iteration": 910,
                        "remaining_time": 22.25813077,
                        "learn": [
                          0.06807128701
                        ]
                      },
                      {
                        "test": [
                          0.06806015127
                        ],
                        "passed_time": 228.2118703,
                        "iteration": 911,
                        "remaining_time": 22.02044363,
                        "learn": [
                          0.06807128554
                        ]
                      },
                      {
                        "test": [
                          0.06806015071
                        ],
                        "passed_time": 228.5782305,
                        "iteration": 912,
                        "remaining_time": 21.78127717,
                        "learn": [
                          0.0680712851
                        ]
                      },
                      {
                        "test": [
                          0.0680601509
                        ],
                        "passed_time": 228.7878073,
                        "iteration": 913,
                        "remaining_time": 21.52708033,
                        "learn": [
                          0.06807128478
                        ]
                      },
                      {
                        "test": [
                          0.06806015008
                        ],
                        "passed_time": 229.0818146,
                        "iteration": 914,
                        "remaining_time": 21.28082431,
                        "learn": [
                          0.06807128373
                        ]
                      },
                      {
                        "test": [
                          0.06806015012
                        ],
                        "passed_time": 229.3536182,
                        "iteration": 915,
                        "remaining_time": 21.03242787,
                        "learn": [
                          0.06807128123
                        ]
                      },
                      {
                        "test": [
                          0.06806014993
                        ],
                        "passed_time": 229.7577966,
                        "iteration": 916,
                        "remaining_time": 20.79596196,
                        "learn": [
                          0.0680712807
                        ]
                      },
                      {
                        "test": [
                          0.06806014986
                        ],
                        "passed_time": 230.1532088,
                        "iteration": 917,
                        "remaining_time": 20.55834763,
                        "learn": [
                          0.06807128045
                        ]
                      },
                      {
                        "test": [
                          0.06806014972
                        ],
                        "passed_time": 230.516422,
                        "iteration": 918,
                        "remaining_time": 20.31755189,
                        "learn": [
                          0.06807127439
                        ]
                      },
                      {
                        "test": [
                          0.06806014965
                        ],
                        "passed_time": 231.0243902,
                        "iteration": 919,
                        "remaining_time": 20.08907741,
                        "learn": [
                          0.06807127055
                        ]
                      },
                      {
                        "test": [
                          0.06806015023
                        ],
                        "passed_time": 231.3934883,
                        "iteration": 920,
                        "remaining_time": 19.84808423,
                        "learn": [
                          0.06807126926
                        ]
                      },
                      {
                        "test": [
                          0.0680601501
                        ],
                        "passed_time": 231.9042389,
                        "iteration": 921,
                        "remaining_time": 19.61879678,
                        "learn": [
                          0.06807126911
                        ]
                      },
                      {
                        "test": [
                          0.06806014998
                        ],
                        "passed_time": 232.3267612,
                        "iteration": 922,
                        "remaining_time": 19.38153912,
                        "learn": [
                          0.06807126903
                        ]
                      },
                      {
                        "test": [
                          0.06806015002
                        ],
                        "passed_time": 232.6631226,
                        "iteration": 923,
                        "remaining_time": 19.13679363,
                        "learn": [
                          0.06807126717
                        ]
                      },
                      {
                        "test": [
                          0.06806015004
                        ],
                        "passed_time": 232.9989604,
                        "iteration": 924,
                        "remaining_time": 18.8918076,
                        "learn": [
                          0.0680712667
                        ]
                      },
                      {
                        "test": [
                          0.06806014788
                        ],
                        "passed_time": 233.3718591,
                        "iteration": 925,
                        "remaining_time": 18.64958702,
                        "learn": [
                          0.06807126427
                        ]
                      },
                      {
                        "test": [
                          0.06806014746
                        ],
                        "passed_time": 233.7457767,
                        "iteration": 926,
                        "remaining_time": 18.40716472,
                        "learn": [
                          0.06807126375
                        ]
                      },
                      {
                        "test": [
                          0.06806014645
                        ],
                        "passed_time": 234.2157296,
                        "iteration": 927,
                        "remaining_time": 18.17191006,
                        "learn": [
                          0.0680712631
                        ]
                      },
                      {
                        "test": [
                          0.06806014606
                        ],
                        "passed_time": 234.5274032,
                        "iteration": 928,
                        "remaining_time": 17.92405342,
                        "learn": [
                          0.0680712625
                        ]
                      },
                      {
                        "test": [
                          0.06806014618
                        ],
                        "passed_time": 234.9009053,
                        "iteration": 929,
                        "remaining_time": 17.6807133,
                        "learn": [
                          0.06807125758
                        ]
                      },
                      {
                        "test": [
                          0.06806014667
                        ],
                        "passed_time": 235.3661378,
                        "iteration": 930,
                        "remaining_time": 17.44389206,
                        "learn": [
                          0.06807125484
                        ]
                      },
                      {
                        "test": [
                          0.06806014664
                        ],
                        "passed_time": 235.6279159,
                        "iteration": 931,
                        "remaining_time": 17.19173635,
                        "learn": [
                          0.06807125451
                        ]
                      },
                      {
                        "test": [
                          0.06806014597
                        ],
                        "passed_time": 235.8422583,
                        "iteration": 932,
                        "remaining_time": 16.93615359,
                        "learn": [
                          0.06807125404
                        ]
                      },
                      {
                        "test": [
                          0.06806014621
                        ],
                        "passed_time": 236.0561092,
                        "iteration": 933,
                        "remaining_time": 16.68062442,
                        "learn": [
                          0.06807125359
                        ]
                      },
                      {
                        "test": [
                          0.06806014589
                        ],
                        "passed_time": 236.2646483,
                        "iteration": 934,
                        "remaining_time": 16.42481513,
                        "learn": [
                          0.06807125355
                        ]
                      },
                      {
                        "test": [
                          0.06806014576
                        ],
                        "passed_time": 236.5335782,
                        "iteration": 935,
                        "remaining_time": 16.17323612,
                        "learn": [
                          0.06807125205
                        ]
                      },
                      {
                        "test": [
                          0.06806015641
                        ],
                        "passed_time": 236.7472066,
                        "iteration": 936,
                        "remaining_time": 15.91790183,
                        "learn": [
                          0.06807123511
                        ]
                      },
                      {
                        "test": [
                          0.06806015601
                        ],
                        "passed_time": 236.9489289,
                        "iteration": 937,
                        "remaining_time": 15.6618695,
                        "learn": [
                          0.06807123504
                        ]
                      },
                      {
                        "test": [
                          0.06806015589
                        ],
                        "passed_time": 237.1570153,
                        "iteration": 938,
                        "remaining_time": 15.40636628,
                        "learn": [
                          0.06807123263
                        ]
                      },
                      {
                        "test": [
                          0.0680601555
                        ],
                        "passed_time": 237.3623102,
                        "iteration": 939,
                        "remaining_time": 15.15078576,
                        "learn": [
                          0.06807123246
                        ]
                      },
                      {
                        "test": [
                          0.06806015577
                        ],
                        "passed_time": 237.6356367,
                        "iteration": 940,
                        "remaining_time": 14.89957765,
                        "learn": [
                          0.06807123218
                        ]
                      },
                      {
                        "test": [
                          0.06806015618
                        ],
                        "passed_time": 237.8507681,
                        "iteration": 941,
                        "remaining_time": 14.64473944,
                        "learn": [
                          0.06807123149
                        ]
                      },
                      {
                        "test": [
                          0.06806015631
                        ],
                        "passed_time": 238.0589963,
                        "iteration": 942,
                        "remaining_time": 14.38956818,
                        "learn": [
                          0.06807123145
                        ]
                      },
                      {
                        "test": [
                          0.0680601558
                        ],
                        "passed_time": 238.2598489,
                        "iteration": 943,
                        "remaining_time": 14.13405883,
                        "learn": [
                          0.06807123072
                        ]
                      },
                      {
                        "test": [
                          0.06806015494
                        ],
                        "passed_time": 238.4626896,
                        "iteration": 944,
                        "remaining_time": 13.87878087,
                        "learn": [
                          0.06807122896
                        ]
                      },
                      {
                        "test": [
                          0.06806015458
                        ],
                        "passed_time": 238.7346567,
                        "iteration": 945,
                        "remaining_time": 13.62755969,
                        "learn": [
                          0.06807122864
                        ]
                      },
                      {
                        "test": [
                          0.06806015428
                        ],
                        "passed_time": 238.9423844,
                        "iteration": 946,
                        "remaining_time": 13.37269944,
                        "learn": [
                          0.06807122278
                        ]
                      },
                      {
                        "test": [
                          0.06806015472
                        ],
                        "passed_time": 239.1463748,
                        "iteration": 947,
                        "remaining_time": 13.11773364,
                        "learn": [
                          0.06807122017
                        ]
                      },
                      {
                        "test": [
                          0.06806015389
                        ],
                        "passed_time": 239.3461988,
                        "iteration": 948,
                        "remaining_time": 12.86265136,
                        "learn": [
                          0.06807121949
                        ]
                      },
                      {
                        "test": [
                          0.06806015385
                        ],
                        "passed_time": 239.560266,
                        "iteration": 949,
                        "remaining_time": 12.60843505,
                        "learn": [
                          0.06807121688
                        ]
                      },
                      {
                        "test": [
                          0.06806015521
                        ],
                        "passed_time": 239.8375112,
                        "iteration": 950,
                        "remaining_time": 12.35755841,
                        "learn": [
                          0.06807121432
                        ]
                      },
                      {
                        "test": [
                          0.06806015556
                        ],
                        "passed_time": 240.0431539,
                        "iteration": 951,
                        "remaining_time": 12.10301616,
                        "learn": [
                          0.06807121317
                        ]
                      },
                      {
                        "test": [
                          0.0680601557
                        ],
                        "passed_time": 240.2519384,
                        "iteration": 952,
                        "remaining_time": 11.84873149,
                        "learn": [
                          0.06807121174
                        ]
                      },
                      {
                        "test": [
                          0.06806015602
                        ],
                        "passed_time": 240.4606914,
                        "iteration": 953,
                        "remaining_time": 11.59454068,
                        "learn": [
                          0.06807121127
                        ]
                      },
                      {
                        "test": [
                          0.06806015608
                        ],
                        "passed_time": 240.6870732,
                        "iteration": 954,
                        "remaining_time": 11.3412757,
                        "learn": [
                          0.06807120851
                        ]
                      },
                      {
                        "test": [
                          0.06806015638
                        ],
                        "passed_time": 240.9389313,
                        "iteration": 955,
                        "remaining_time": 11.08923952,
                        "learn": [
                          0.06807120827
                        ]
                      },
                      {
                        "test": [
                          0.06806015601
                        ],
                        "passed_time": 241.1431056,
                        "iteration": 956,
                        "remaining_time": 10.83506117,
                        "learn": [
                          0.06807120717
                        ]
                      },
                      {
                        "test": [
                          0.06806015545
                        ],
                        "passed_time": 241.3487318,
                        "iteration": 957,
                        "remaining_time": 10.58105087,
                        "learn": [
                          0.06807120682
                        ]
                      },
                      {
                        "test": [
                          0.06806016483
                        ],
                        "passed_time": 241.5494119,
                        "iteration": 958,
                        "remaining_time": 10.32693002,
                        "learn": [
                          0.06807120108
                        ]
                      },
                      {
                        "test": [
                          0.06806016503
                        ],
                        "passed_time": 241.7645393,
                        "iteration": 959,
                        "remaining_time": 10.07352247,
                        "learn": [
                          0.0680712003
                        ]
                      },
                      {
                        "test": [
                          0.06806016493
                        ],
                        "passed_time": 242.1282082,
                        "iteration": 960,
                        "remaining_time": 9.826222811,
                        "learn": [
                          0.06807120028
                        ]
                      },
                      {
                        "test": [
                          0.06806016544
                        ],
                        "passed_time": 242.3336294,
                        "iteration": 961,
                        "remaining_time": 9.572430269,
                        "learn": [
                          0.06807120002
                        ]
                      },
                      {
                        "test": [
                          0.06806016558
                        ],
                        "passed_time": 242.6520588,
                        "iteration": 962,
                        "remaining_time": 9.32308014,
                        "learn": [
                          0.06807119957
                        ]
                      },
                      {
                        "test": [
                          0.06806016535
                        ],
                        "passed_time": 242.9451299,
                        "iteration": 963,
                        "remaining_time": 9.072639705,
                        "learn": [
                          0.06807119918
                        ]
                      },
                      {
                        "test": [
                          0.06806016484
                        ],
                        "passed_time": 243.2371779,
                        "iteration": 964,
                        "remaining_time": 8.822073812,
                        "learn": [
                          0.06807119715
                        ]
                      },
                      {
                        "test": [
                          0.06806016481
                        ],
                        "passed_time": 243.5517919,
                        "iteration": 965,
                        "remaining_time": 8.572216279,
                        "learn": [
                          0.06807119215
                        ]
                      },
                      {
                        "test": [
                          0.06806016446
                        ],
                        "passed_time": 243.9002274,
                        "iteration": 966,
                        "remaining_time": 8.323379011,
                        "learn": [
                          0.06807119168
                        ]
                      },
                      {
                        "test": [
                          0.06806016292
                        ],
                        "passed_time": 244.2812645,
                        "iteration": 967,
                        "remaining_time": 8.075413704,
                        "learn": [
                          0.068071185
                        ]
                      },
                      {
                        "test": [
                          0.06806016294
                        ],
                        "passed_time": 244.5286967,
                        "iteration": 968,
                        "remaining_time": 7.822899482,
                        "learn": [
                          0.06807118463
                        ]
                      },
                      {
                        "test": [
                          0.06806016347
                        ],
                        "passed_time": 244.8819396,
                        "iteration": 969,
                        "remaining_time": 7.573668236,
                        "learn": [
                          0.06807118445
                        ]
                      },
                      {
                        "test": [
                          0.06806016192
                        ],
                        "passed_time": 245.287766,
                        "iteration": 970,
                        "remaining_time": 7.325793218,
                        "learn": [
                          0.06807118404
                        ]
                      },
                      {
                        "test": [
                          0.06806016187
                        ],
                        "passed_time": 245.5731961,
                        "iteration": 971,
                        "remaining_time": 7.074124992,
                        "learn": [
                          0.06807118258
                        ]
                      },
                      {
                        "test": [
                          0.06806016056
                        ],
                        "passed_time": 245.8890755,
                        "iteration": 972,
                        "remaining_time": 6.823232311,
                        "learn": [
                          0.06807118013
                        ]
                      },
                      {
                        "test": [
                          0.06806016054
                        ],
                        "passed_time": 246.2428259,
                        "iteration": 973,
                        "remaining_time": 6.573217119,
                        "learn": [
                          0.06807118014
                        ]
                      },
                      {
                        "test": [
                          0.06806015984
                        ],
                        "passed_time": 246.6546515,
                        "iteration": 974,
                        "remaining_time": 6.324478243,
                        "learn": [
                          0.06807118008
                        ]
                      },
                      {
                        "test": [
                          0.06806015967
                        ],
                        "passed_time": 246.8975778,
                        "iteration": 975,
                        "remaining_time": 6.071251914,
                        "learn": [
                          0.06807117888
                        ]
                      },
                      {
                        "test": [
                          0.06806016018
                        ],
                        "passed_time": 247.1406104,
                        "iteration": 976,
                        "remaining_time": 5.81804917,
                        "learn": [
                          0.06807117871
                        ]
                      },
                      {
                        "test": [
                          0.0680601603
                        ],
                        "passed_time": 247.4033044,
                        "iteration": 977,
                        "remaining_time": 5.565309505,
                        "learn": [
                          0.06807117869
                        ]
                      },
                      {
                        "test": [
                          0.06806016045
                        ],
                        "passed_time": 247.745686,
                        "iteration": 978,
                        "remaining_time": 5.314258841,
                        "learn": [
                          0.0680711785
                        ]
                      },
                      {
                        "test": [
                          0.06806015999
                        ],
                        "passed_time": 248.0834225,
                        "iteration": 979,
                        "remaining_time": 5.062926989,
                        "learn": [
                          0.06807117661
                        ]
                      },
                      {
                        "test": [
                          0.06806015997
                        ],
                        "passed_time": 248.4644764,
                        "iteration": 980,
                        "remaining_time": 4.812257952,
                        "learn": [
                          0.06807117271
                        ]
                      },
                      {
                        "test": [
                          0.06806015975
                        ],
                        "passed_time": 248.7835073,
                        "iteration": 981,
                        "remaining_time": 4.560186488,
                        "learn": [
                          0.06807117239
                        ]
                      },
                      {
                        "test": [
                          0.06806015858
                        ],
                        "passed_time": 249.0840716,
                        "iteration": 982,
                        "remaining_time": 4.307659428,
                        "learn": [
                          0.06807116909
                        ]
                      },
                      {
                        "test": [
                          0.06806015975
                        ],
                        "passed_time": 249.3457212,
                        "iteration": 983,
                        "remaining_time": 4.05440197,
                        "learn": [
                          0.06807116738
                        ]
                      },
                      {
                        "test": [
                          0.06806015974
                        ],
                        "passed_time": 249.5689898,
                        "iteration": 984,
                        "remaining_time": 3.800542992,
                        "learn": [
                          0.06807116618
                        ]
                      },
                      {
                        "test": [
                          0.06806016007
                        ],
                        "passed_time": 249.969742,
                        "iteration": 985,
                        "remaining_time": 3.549266113,
                        "learn": [
                          0.06807116605
                        ]
                      },
                      {
                        "test": [
                          0.06806015917
                        ],
                        "passed_time": 250.2756971,
                        "iteration": 986,
                        "remaining_time": 3.296437753,
                        "learn": [
                          0.06807116252
                        ]
                      },
                      {
                        "test": [
                          0.06806015908
                        ],
                        "passed_time": 250.5006298,
                        "iteration": 987,
                        "remaining_time": 3.042517771,
                        "learn": [
                          0.06807116223
                        ]
                      },
                      {
                        "test": [
                          0.06806015955
                        ],
                        "passed_time": 250.7506416,
                        "iteration": 988,
                        "remaining_time": 2.788935347,
                        "learn": [
                          0.06807116226
                        ]
                      },
                      {
                        "test": [
                          0.06806015946
                        ],
                        "passed_time": 251.164064,
                        "iteration": 989,
                        "remaining_time": 2.537010747,
                        "learn": [
                          0.06807116215
                        ]
                      },
                      {
                        "test": [
                          0.06806015951
                        ],
                        "passed_time": 251.5101386,
                        "iteration": 990,
                        "remaining_time": 2.284148585,
                        "learn": [
                          0.06807116191
                        ]
                      },
                      {
                        "test": [
                          0.06806015998
                        ],
                        "passed_time": 251.8517123,
                        "iteration": 991,
                        "remaining_time": 2.031062196,
                        "learn": [
                          0.06807116072
                        ]
                      },
                      {
                        "test": [
                          0.06806016032
                        ],
                        "passed_time": 252.2653506,
                        "iteration": 992,
                        "remaining_time": 1.778305593,
                        "learn": [
                          0.06807115717
                        ]
                      },
                      {
                        "test": [
                          0.06806015961
                        ],
                        "passed_time": 252.5812022,
                        "iteration": 993,
                        "remaining_time": 1.524635023,
                        "learn": [
                          0.06807115683
                        ]
                      },
                      {
                        "test": [
                          0.06806015968
                        ],
                        "passed_time": 252.7945842,
                        "iteration": 994,
                        "remaining_time": 1.270324544,
                        "learn": [
                          0.06807115656
                        ]
                      },
                      {
                        "test": [
                          0.06806015658
                        ],
                        "passed_time": 253.1006403,
                        "iteration": 995,
                        "remaining_time": 1.016468435,
                        "learn": [
                          0.06807115484
                        ]
                      },
                      {
                        "test": [
                          0.06806015682
                        ],
                        "passed_time": 253.3725685,
                        "iteration": 996,
                        "remaining_time": 0.7624049202,
                        "learn": [
                          0.06807115483
                        ]
                      },
                      {
                        "test": [
                          0.06806015703
                        ],
                        "passed_time": 253.606048,
                        "iteration": 997,
                        "remaining_time": 0.5082285532,
                        "learn": [
                          0.06807115445
                        ]
                      },
                      {
                        "test": [
                          0.06806015727
                        ],
                        "passed_time": 253.8991275,
                        "iteration": 998,
                        "remaining_time": 0.2541532807,
                        "learn": [
                          0.06807115319
                        ]
                      },
                      {
                        "test": [
                          0.06806016514
                        ],
                        "passed_time": 254.1631627,
                        "iteration": 999,
                        "remaining_time": 0,
                        "learn": [
                          0.06807115227
                        ]
                      }
                    ]
                  },
                  "total_iterations": 1000,
                  "passed_iterations": 999
                },
                "path": "catboost_info",
                "name": "catboost_info"
              }
            },
            "_view_module": "catboost-widget",
            "_model_module_version": "^1.0.0",
            "_view_count": null,
            "_view_module_version": "^1.0.0",
            "layout": "IPY_MODEL_9ec71c31fcd848cb90acadfd562a28d6",
            "_model_module": "catboost-widget"
          }
        }
      }
    },
    "accelerator": "GPU"
  },
  "cells": [
    {
      "cell_type": "markdown",
      "metadata": {
        "id": "view-in-github",
        "colab_type": "text"
      },
      "source": [
        "<a href=\"https://colab.research.google.com/github/tricksterwink/EarthQuakePrediction/blob/main/Earthquake_Prediction.ipynb\" target=\"_parent\"><img src=\"https://colab.research.google.com/assets/colab-badge.svg\" alt=\"Open In Colab\"/></a>"
      ]
    },
    {
      "cell_type": "markdown",
      "source": [
        "# **Earth Quake Prediction** based on acoustic data, using a linear regression model"
      ],
      "metadata": {
        "id": "xUWf4D5X19Hu"
      }
    },
    {
      "cell_type": "code",
      "source": [
        "from google.colab import output\n",
        "output.enable_custom_widget_manager()"
      ],
      "metadata": {
        "id": "iQXnULWEXjxv"
      },
      "execution_count": null,
      "outputs": []
    },
    {
      "cell_type": "code",
      "source": [
        "from google.colab import drive\n",
        "drive.mount('/content/drive/',force_remount=True)"
      ],
      "metadata": {
        "colab": {
          "base_uri": "https://localhost:8080/"
        },
        "id": "SzZA94gjFPE7",
        "outputId": "dd4677b5-f384-49fd-aac7-fa664a7ae986"
      },
      "execution_count": null,
      "outputs": [
        {
          "output_type": "stream",
          "name": "stdout",
          "text": [
            "Mounted at /content/drive/\n"
          ]
        }
      ]
    },
    {
      "cell_type": "markdown",
      "source": [
        "# Importing Libraries"
      ],
      "metadata": {
        "id": "JzvDWsOy3UBN"
      }
    },
    {
      "cell_type": "code",
      "source": [
        "import matplotlib.pyplot as plt\n",
        "import pandas as pd\n",
        "import numpy as np\n",
        "from sklearn.preprocessing import StandardScaler\n",
        "from sklearn.model_selection import GridSearchCV\n",
        "from sklearn.svm import NuSVR, SVR\n",
        "from sklearn.kernel_ridge import KernelRidge\n",
        "import matplotlib.pyplot as plt\n",
        "from sklearn.metrics import mean_absolute_error\n",
        "from sklearn import tree\n",
        "import matplotlib\n",
        "import numpy as np\n",
        "import matplotlib.pyplot as plt\n",
        "from sklearn import svm\n",
        "from sklearn.preprocessing import StandardScaler\n",
        "import statsmodels.formula.api as smf\n",
        "import statsmodels.api as sm\n",
        "from mpl_toolkits.mplot3d import Axes3D\n",
        "import seaborn as sns\n",
        "from sklearn import neighbors\n",
        "from sklearn import linear_model"
      ],
      "metadata": {
        "id": "1UZKlpXaOvpn",
        "colab": {
          "base_uri": "https://localhost:8080/"
        },
        "outputId": "3449095d-d3e5-4f5a-b818-5a0c50a368ec"
      },
      "execution_count": null,
      "outputs": [
        {
          "output_type": "stream",
          "name": "stderr",
          "text": [
            "/usr/local/lib/python3.7/dist-packages/statsmodels/tools/_testing.py:19: FutureWarning: pandas.util.testing is deprecated. Use the functions in the public API at pandas.testing instead.\n",
            "  import pandas.util.testing as tm\n"
          ]
        }
      ]
    },
    {
      "cell_type": "code",
      "source": [
        "!pip install catboost"
      ],
      "metadata": {
        "id": "8Ybn0RyDa6cA",
        "colab": {
          "base_uri": "https://localhost:8080/"
        },
        "outputId": "6e2309d7-97c1-44d0-ce31-d7868530f364"
      },
      "execution_count": null,
      "outputs": [
        {
          "output_type": "stream",
          "name": "stdout",
          "text": [
            "Collecting catboost\n",
            "  Downloading catboost-1.0.3-cp37-none-manylinux1_x86_64.whl (76.3 MB)\n",
            "\u001b[K     |████████████████████████████████| 76.3 MB 1.2 MB/s \n",
            "\u001b[?25hRequirement already satisfied: matplotlib in /usr/local/lib/python3.7/dist-packages (from catboost) (3.2.2)\n",
            "Requirement already satisfied: pandas>=0.24.0 in /usr/local/lib/python3.7/dist-packages (from catboost) (1.1.5)\n",
            "Requirement already satisfied: scipy in /usr/local/lib/python3.7/dist-packages (from catboost) (1.4.1)\n",
            "Requirement already satisfied: graphviz in /usr/local/lib/python3.7/dist-packages (from catboost) (0.10.1)\n",
            "Requirement already satisfied: plotly in /usr/local/lib/python3.7/dist-packages (from catboost) (4.4.1)\n",
            "Requirement already satisfied: six in /usr/local/lib/python3.7/dist-packages (from catboost) (1.15.0)\n",
            "Requirement already satisfied: numpy>=1.16.0 in /usr/local/lib/python3.7/dist-packages (from catboost) (1.19.5)\n",
            "Requirement already satisfied: python-dateutil>=2.7.3 in /usr/local/lib/python3.7/dist-packages (from pandas>=0.24.0->catboost) (2.8.2)\n",
            "Requirement already satisfied: pytz>=2017.2 in /usr/local/lib/python3.7/dist-packages (from pandas>=0.24.0->catboost) (2018.9)\n",
            "Requirement already satisfied: pyparsing!=2.0.4,!=2.1.2,!=2.1.6,>=2.0.1 in /usr/local/lib/python3.7/dist-packages (from matplotlib->catboost) (3.0.6)\n",
            "Requirement already satisfied: kiwisolver>=1.0.1 in /usr/local/lib/python3.7/dist-packages (from matplotlib->catboost) (1.3.2)\n",
            "Requirement already satisfied: cycler>=0.10 in /usr/local/lib/python3.7/dist-packages (from matplotlib->catboost) (0.11.0)\n",
            "Requirement already satisfied: retrying>=1.3.3 in /usr/local/lib/python3.7/dist-packages (from plotly->catboost) (1.3.3)\n",
            "Installing collected packages: catboost\n",
            "Successfully installed catboost-1.0.3\n"
          ]
        }
      ]
    },
    {
      "cell_type": "code",
      "source": [
        "train=pd.read_csv(\"/content/drive/MyDrive/Earthquake Detection/LANL-Earthquake-Prediction/train.csv\")"
      ],
      "metadata": {
        "id": "g1G6AvajD4p0"
      },
      "execution_count": null,
      "outputs": []
    },
    {
      "cell_type": "code",
      "source": [
        "def gen_features(X):\n",
        "    strain = []\n",
        "    strain.append(X.mean())\n",
        "    strain.append(X.std())\n",
        "    strain.append(X.min())\n",
        "    strain.append(X.max())\n",
        "    strain.append(X.kurtosis())\n",
        "    strain.append(X.skew())\n",
        "    strain.append(np.quantile(X,0.01))\n",
        "    strain.append(np.quantile(X,0.05))\n",
        "    strain.append(np.quantile(X,0.95))\n",
        "    strain.append(np.quantile(X,0.99))\n",
        "    strain.append(np.abs(X).max())\n",
        "    strain.append(np.abs(X).mean())\n",
        "    strain.append(np.abs(X).std())\n",
        "    return pd.Series(strain)"
      ],
      "metadata": {
        "id": "7-YnE4VulRfh"
      },
      "execution_count": null,
      "outputs": []
    },
    {
      "cell_type": "code",
      "source": [
        "X = train.drop(['time_to_failure'], axis=1)\n",
        "y = train.drop(['acoustic_data'], axis=1)\n",
        "\n",
        "from sklearn.model_selection import train_test_split\n",
        "X_train, X_validation, y_train, y_validation = train_test_split(X, y, train_size=0.7, random_state=1234) "
      ],
      "metadata": {
        "id": "rTM1vJC7EaFZ"
      },
      "execution_count": null,
      "outputs": []
    },
    {
      "cell_type": "code",
      "source": [
        "from sklearn import datasets, linear_model\n",
        "\n",
        "regr = linear_model.LinearRegression()\n",
        "\n",
        "regr.fit(X_train, y_train)"
      ],
      "metadata": {
        "colab": {
          "base_uri": "https://localhost:8080/"
        },
        "id": "fNBpxCzqIKB0",
        "outputId": "6fe9daa8-69b3-4b48-bfef-5eb5a6b6a7af"
      },
      "execution_count": null,
      "outputs": [
        {
          "output_type": "execute_result",
          "data": {
            "text/plain": [
              "LinearRegression()"
            ]
          },
          "metadata": {},
          "execution_count": 30
        }
      ]
    },
    {
      "cell_type": "code",
      "source": [
        "y_predicted = regr.predict(X_validation)\n",
        "MAE = mean_absolute_error(y_validation, y_predicted)\n",
        "print(MAE)"
      ],
      "metadata": {
        "colab": {
          "base_uri": "https://localhost:8080/"
        },
        "id": "faO4rzbiIcwR",
        "outputId": "3448046b-3fd3-46f9-86e9-7d9169240488"
      },
      "execution_count": null,
      "outputs": [
        {
          "output_type": "stream",
          "name": "stdout",
          "text": [
            "0.0680679847426949\n"
          ]
        }
      ]
    },
    {
      "cell_type": "code",
      "source": [
        "import os\n",
        "\n",
        "train_folder = '/content/drive/MyDrive/Earthquake Detection/LANL-Earthquake-Prediction/test'\n",
        "\n",
        "files_in_train = sorted(os.listdir(train_folder))\n",
        "\n",
        "files=[i for i in files_in_train ]\n",
        "\n",
        "seg_id=[]\n",
        "time_to_failure=[]\n",
        "\n",
        "for i in files:\n",
        "\n",
        "  test =pd.read_csv(\"/content/drive/MyDrive/Earthquake Detection/LANL-Earthquake-Prediction/test/\" + i)\n",
        "\n",
        "  submission = pd.DataFrame()\n",
        "  submission['acoustic_data'] = test['acoustic_data']\n",
        "  submission['time_to_failure'] = regr.predict(test)\n",
        "  z=submission['time_to_failure'].mean()\n",
        "\n",
        "  seg_id.append(i)\n",
        "  time_to_failure.append(z)\n",
        "\n",
        "seg_id=np.array(seg_id)\n",
        "time_to_failure=np.array(time_to_failure)\n",
        "\n",
        "df = pd.DataFrame({'seg_id':seg_id, 'time_to_failure':time_to_failure})\n",
        "\n",
        "df.to_csv(\"final.csv\")"
      ],
      "metadata": {
        "id": "mF9Uth0wKig4"
      },
      "execution_count": null,
      "outputs": []
    },
    {
      "cell_type": "code",
      "source": [
        "categorical_features_indices = np.where(X.dtypes != np.float)[0]\n",
        "  \n",
        "from catboost import CatBoostRegressor\n",
        "model=CatBoostRegressor(iterations=1000, depth=10, learning_rate=0.1, loss_function='MAE', silent =True)\n",
        "model.fit(X_train, y_train,cat_features=categorical_features_indices,eval_set=(X_validation, y_validation), plot=True)"
      ],
      "metadata": {
        "colab": {
          "base_uri": "https://localhost:8080/",
          "height": 35,
          "referenced_widgets": [
            "413b9e49fe5e4a7ca3f6dcd152b06bb2"
          ]
        },
        "id": "m2uT4DpqRN3c",
        "outputId": "31da0a00-71d9-4e69-8010-6a495734d329"
      },
      "execution_count": null,
      "outputs": [
        {
          "output_type": "display_data",
          "data": {
            "application/vnd.jupyter.widget-view+json": {
              "model_id": "413b9e49fe5e4a7ca3f6dcd152b06bb2",
              "version_minor": 0,
              "version_major": 2
            },
            "text/plain": [
              "MetricVisualizer(layout=Layout(align_self='stretch', height='500px'))"
            ]
          },
          "metadata": {}
        },
        {
          "output_type": "execute_result",
          "data": {
            "text/plain": [
              "<catboost.core.CatBoostRegressor at 0x7f158a6a0e50>"
            ]
          },
          "metadata": {},
          "execution_count": 12
        }
      ]
    },
    {
      "cell_type": "code",
      "source": [
        "y_predicted = model.predict(X_validation)\n",
        "MAE = mean_absolute_error(y_validation, y_predicted)\n",
        "print(MAE)"
      ],
      "metadata": {
        "colab": {
          "base_uri": "https://localhost:8080/"
        },
        "id": "_wlzXfK4inY9",
        "outputId": "686a1b76-d84a-4362-af12-3307ffceb550"
      },
      "execution_count": null,
      "outputs": [
        {
          "output_type": "stream",
          "name": "stdout",
          "text": [
            "0.06806067386753412\n"
          ]
        }
      ]
    },
    {
      "cell_type": "code",
      "source": [
        "model=linear_model.Ridge()\n",
        "model.fit(X_train,y_train)"
      ],
      "metadata": {
        "colab": {
          "base_uri": "https://localhost:8080/"
        },
        "id": "XcsqluTFIh2U",
        "outputId": "989ab5fc-f67b-44f6-c923-25e6ce0c1b17"
      },
      "execution_count": null,
      "outputs": [
        {
          "output_type": "execute_result",
          "data": {
            "text/plain": [
              "Ridge()"
            ]
          },
          "metadata": {},
          "execution_count": 21
        }
      ]
    },
    {
      "cell_type": "code",
      "source": [
        "y_predicted = model.predict(X_validation)\n",
        "MAE = mean_absolute_error(y_validation, y_predicted)\n",
        "print(MAE)"
      ],
      "metadata": {
        "colab": {
          "base_uri": "https://localhost:8080/"
        },
        "id": "L_KdlBOBJNrW",
        "outputId": "80135374-10fe-46aa-add8-62b28e4c9ea2"
      },
      "execution_count": null,
      "outputs": [
        {
          "output_type": "stream",
          "name": "stdout",
          "text": [
            "0.06806798474271736\n"
          ]
        }
      ]
    },
    {
      "cell_type": "code",
      "source": [
        "n_neighbors=5\n",
        "knn=neighbors.KNeighborsRegressor(n_neighbors,weights='uniform')\n",
        "knn.fit(X_train,y_train)"
      ],
      "metadata": {
        "colab": {
          "base_uri": "https://localhost:8080/"
        },
        "id": "4ZirF4qBJPIm",
        "outputId": "071ef381-4bbb-4109-d997-01c2e2040afb"
      },
      "execution_count": null,
      "outputs": [
        {
          "output_type": "execute_result",
          "data": {
            "text/plain": [
              "KNeighborsRegressor()"
            ]
          },
          "metadata": {},
          "execution_count": 23
        }
      ]
    },
    {
      "cell_type": "code",
      "source": [
        "y_predicted = model.predict(X_validation)\n",
        "MAE = mean_absolute_error(y_validation, y_predicted)\n",
        "print(MAE)"
      ],
      "metadata": {
        "colab": {
          "base_uri": "https://localhost:8080/"
        },
        "id": "Eo0tPF6yJjtK",
        "outputId": "c83957f0-00d7-4a42-9b53-650ab02562d6"
      },
      "execution_count": null,
      "outputs": [
        {
          "output_type": "stream",
          "name": "stdout",
          "text": [
            "0.06806798474271736\n"
          ]
        }
      ]
    },
    {
      "cell_type": "code",
      "source": [
        "reg = linear_model.BayesianRidge()\n",
        "reg.fit(X_train,y_train)"
      ],
      "metadata": {
        "colab": {
          "base_uri": "https://localhost:8080/"
        },
        "id": "OznijRC4JlWV",
        "outputId": "a693c291-c2a4-43fa-f0f1-ebd35ef49054"
      },
      "execution_count": null,
      "outputs": [
        {
          "output_type": "stream",
          "name": "stderr",
          "text": [
            "/usr/local/lib/python3.7/dist-packages/sklearn/utils/validation.py:985: DataConversionWarning: A column-vector y was passed when a 1d array was expected. Please change the shape of y to (n_samples, ), for example using ravel().\n",
            "  y = column_or_1d(y, warn=True)\n"
          ]
        },
        {
          "output_type": "execute_result",
          "data": {
            "text/plain": [
              "BayesianRidge()"
            ]
          },
          "metadata": {},
          "execution_count": 25
        }
      ]
    },
    {
      "cell_type": "code",
      "source": [
        "y_predicted = model.predict(X_validation)\n",
        "MAE = mean_absolute_error(y_validation, y_predicted)\n",
        "print(MAE)"
      ],
      "metadata": {
        "colab": {
          "base_uri": "https://localhost:8080/"
        },
        "id": "2Ky3_V38Jryk",
        "outputId": "1c650937-3476-4294-a7db-0c7ba1f4d149"
      },
      "execution_count": null,
      "outputs": [
        {
          "output_type": "stream",
          "name": "stdout",
          "text": [
            "0.06806798474271736\n"
          ]
        }
      ]
    },
    {
      "cell_type": "code",
      "source": [
        "dec = tree.DecisionTreeRegressor(max_depth=3)\n",
        "dec.fit(X_train,y_train)"
      ],
      "metadata": {
        "colab": {
          "base_uri": "https://localhost:8080/"
        },
        "id": "MlaP0yBSJxp5",
        "outputId": "20f45a1a-3170-40dc-d320-4196bbfe547d"
      },
      "execution_count": null,
      "outputs": [
        {
          "output_type": "execute_result",
          "data": {
            "text/plain": [
              "DecisionTreeRegressor(max_depth=3)"
            ]
          },
          "metadata": {},
          "execution_count": 27
        }
      ]
    },
    {
      "cell_type": "code",
      "source": [
        "y_predicted = model.predict(X_validation)\n",
        "MAE = mean_absolute_error(y_validation, y_predicted)\n",
        "print(MAE)"
      ],
      "metadata": {
        "colab": {
          "base_uri": "https://localhost:8080/"
        },
        "id": "uLGgwNMgJzSe",
        "outputId": "1f88a6c2-c00e-4272-c956-fa0e4388ab6c"
      },
      "execution_count": null,
      "outputs": [
        {
          "output_type": "stream",
          "name": "stdout",
          "text": [
            "0.06806798474271736\n"
          ]
        }
      ]
    },
    {
      "cell_type": "code",
      "source": [
        "from sklearn.linear_model import LinearRegression, RANSACRegressor\n",
        "\n",
        "ransac = RANSACRegressor(base_estimator=LinearRegression(),\n",
        "                         min_samples=50, max_trials=100,\n",
        "                         loss='absolute_loss', random_state=42,\n",
        "                         residual_threshold=10)\n",
        "\n",
        "ransac.fit(X_train,y_train)"
      ],
      "metadata": {
        "id": "5_AdXV9IPAYm",
        "colab": {
          "base_uri": "https://localhost:8080/"
        },
        "outputId": "637795a7-67fe-4cea-c422-72d79a580b31"
      },
      "execution_count": null,
      "outputs": [
        {
          "output_type": "stream",
          "name": "stderr",
          "text": [
            "/usr/local/lib/python3.7/dist-packages/sklearn/linear_model/_ransac.py:358: FutureWarning: The loss 'absolute_loss' was deprecated in v1.0 and will be removed in version 1.2. Use `loss='absolute_error'` which is equivalent.\n",
            "  FutureWarning,\n"
          ]
        },
        {
          "output_type": "execute_result",
          "data": {
            "text/plain": [
              "RANSACRegressor(base_estimator=LinearRegression(), loss='absolute_loss',\n",
              "                min_samples=50, random_state=42, residual_threshold=10)"
            ]
          },
          "metadata": {},
          "execution_count": 29
        }
      ]
    },
    {
      "cell_type": "code",
      "source": [
        "y_predicted = model.predict(X_validation)\n",
        "MAE = mean_absolute_error(y_validation, y_predicted)\n",
        "print(MAE)"
      ],
      "metadata": {
        "id": "ACC83u9iPJMm",
        "colab": {
          "base_uri": "https://localhost:8080/"
        },
        "outputId": "63d16ffc-6fa5-47d4-c0a4-a7fe4ec3a3c4"
      },
      "execution_count": null,
      "outputs": [
        {
          "output_type": "stream",
          "name": "stdout",
          "text": [
            "0.06806798474271736\n"
          ]
        }
      ]
    }
  ]
}